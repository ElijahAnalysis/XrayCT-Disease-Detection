{
 "cells": [
  {
   "cell_type": "code",
   "execution_count": 1,
   "id": "0f676686-9b44-4879-95ba-9a380652142e",
   "metadata": {},
   "outputs": [],
   "source": [
    "import numpy as np\n",
    "import pandas as pd \n",
    "import tensorflow as tf\n",
    "from matplotlib import pyplot as plt \n",
    "import sklearn\n",
    "from sklearn.model_selection import train_test_split"
   ]
  },
  {
   "cell_type": "markdown",
   "id": "3355161e-49ef-42e3-88f9-6040d355ee9c",
   "metadata": {},
   "source": [
    "## IMPORT & EXPLORE"
   ]
  },
  {
   "cell_type": "code",
   "execution_count": 10,
   "id": "d138a0c4-5b22-45c5-8e80-a84670a6197c",
   "metadata": {},
   "outputs": [],
   "source": [
    "lung_scans = np.load(r\"C:\\Users\\User\\Desktop\\pneumonia_detection_project\\data\\arrays\\pneumonia_detection_ext.npz\")['images']\n",
    "lung_scans_labels = np.load(r\"C:\\Users\\User\\Desktop\\pneumonia_detection_project\\data\\arrays\\pneumonia_detection_ext.npz\")['labels']"
   ]
  },
  {
   "cell_type": "markdown",
   "id": "991ef1aa-f106-46e0-aa86-bde84dd4838f",
   "metadata": {
    "jp-MarkdownHeadingCollapsed": true
   },
   "source": [
    "#### FUNCTIONS"
   ]
  },
  {
   "cell_type": "code",
   "execution_count": null,
   "id": "72e1161b-9704-4e24-a5cf-a984aee7497e",
   "metadata": {},
   "outputs": [],
   "source": [
    "def generate_augmented_images(images, labels, augmentations_per_image=3, zoom_range=(0.9, 1.3)):\n",
    "    augmented_images = []\n",
    "    augmented_labels = []\n",
    "\n",
    "    # Precompute random values for efficiency\n",
    "    num_total_augs = len(images) * augmentations_per_image\n",
    "    random_flips_lr = tf.random.uniform([num_total_augs], 0, 2, dtype=tf.int32)\n",
    "    random_flips_ud = tf.random.uniform([num_total_augs], 0, 2, dtype=tf.int32)\n",
    "    random_rotations = tf.random.uniform([num_total_augs], 0, 4, dtype=tf.int32)\n",
    "    random_brightness = tf.random.uniform([num_total_augs], -0.1, 0.1)\n",
    "    random_contrasts = tf.random.uniform([num_total_augs], 0.8, 1.2)\n",
    "    zoom_factors = tf.random.uniform([num_total_augs], zoom_range[0], zoom_range[1])\n",
    "\n",
    "    # Process images\n",
    "    aug_idx = 0\n",
    "    for img, lbl in zip(images, labels):\n",
    "        # Ensure image is properly shaped for grayscale (h, w, 1)\n",
    "        if len(img.shape) == 2:\n",
    "            img = tf.expand_dims(img, axis=-1)\n",
    "\n",
    "        # Safety check: ensure values are within range [0, 1]\n",
    "        img = tf.clip_by_value(img, 0.0, 1.0)\n",
    "\n",
    "        h, w, c = img.shape\n",
    "\n",
    "        for _ in range(augmentations_per_image):\n",
    "            # Start with a clean copy of the image\n",
    "            aug_img = tf.identity(img)\n",
    "\n",
    "            # Apply random horizontal flip\n",
    "            if random_flips_lr[aug_idx] > 0:\n",
    "                aug_img = tf.image.flip_left_right(aug_img)\n",
    "\n",
    "            # Apply random vertical flip\n",
    "            if random_flips_ud[aug_idx] > 0:\n",
    "                aug_img = tf.image.flip_up_down(aug_img)\n",
    "\n",
    "            # Apply random rotation (90-degree increments)\n",
    "            aug_img = tf.image.rot90(aug_img, k=random_rotations[aug_idx])\n",
    "\n",
    "            # Apply random brightness with safety check\n",
    "            aug_img = tf.image.adjust_brightness(aug_img, random_brightness[aug_idx])\n",
    "            aug_img = tf.clip_by_value(aug_img, 0.0, 1.0)\n",
    "\n",
    "            # Apply random contrast with safety check\n",
    "            aug_img = tf.image.adjust_contrast(aug_img, random_contrasts[aug_idx])\n",
    "            aug_img = tf.clip_by_value(aug_img, 0.0, 1.0)\n",
    "\n",
    "            # Gaussian noise - optimized for grayscale\n",
    "            if tf.random.uniform(()) > 0.7:  # Apply with 30% probability\n",
    "                noise = tf.random.normal(shape=tf.shape(aug_img), mean=0.0, stddev=0.05)\n",
    "                aug_img = tf.clip_by_value(aug_img + noise, 0.0, 1.0)\n",
    "\n",
    "            # Random zoom with more robust logic\n",
    "            zoom_factor = zoom_factors[aug_idx]\n",
    "\n",
    "            try:\n",
    "                if zoom_factor > 1.0:  # Zoom in\n",
    "                    # Ensure new dimensions are at least 1\n",
    "                    new_h = tf.maximum(tf.cast(h / zoom_factor, tf.int32), 1)\n",
    "                    new_w = tf.maximum(tf.cast(w / zoom_factor, tf.int32), 1)\n",
    "\n",
    "                    # Calculate crop position\n",
    "                    top = (h - new_h) // 2\n",
    "                    left = (w - new_w) // 2\n",
    "\n",
    "                    # Ensure valid crop boundaries\n",
    "                    if new_h > 0 and new_w > 0 and top >= 0 and left >= 0:\n",
    "                        aug_img = tf.image.crop_to_bounding_box(aug_img, top, left, new_h, new_w)\n",
    "                        aug_img = tf.image.resize(aug_img, (h, w))\n",
    "                else:  # Zoom out\n",
    "                    # Ensure new dimensions don't exceed int32 max\n",
    "                    new_h = tf.minimum(tf.cast(h * zoom_factor, tf.int32), tf.int32.max)\n",
    "                    new_w = tf.minimum(tf.cast(w * zoom_factor, tf.int32), tf.int32.max)\n",
    "\n",
    "                    # Ensure dimensions are at least 1\n",
    "                    new_h = tf.maximum(new_h, 1)\n",
    "                    new_w = tf.maximum(new_w, 1)\n",
    "\n",
    "                    aug_img = tf.image.resize(aug_img, (new_h, new_w))\n",
    "                    aug_img = tf.image.resize_with_crop_or_pad(aug_img, h, w)\n",
    "            except tf.errors.InvalidArgumentError:\n",
    "                # If zoom causes error, skip this transformation\n",
    "                pass\n",
    "\n",
    "            # Random gamma adjustment with safety check\n",
    "            if tf.random.uniform(()) > 0.7:\n",
    "                gamma = tf.random.uniform([], 0.8, 1.2)\n",
    "                aug_img = tf.image.adjust_gamma(aug_img, gamma)\n",
    "                aug_img = tf.clip_by_value(aug_img, 0.0, 1.0)\n",
    "\n",
    "            # Random cutout (masking) - safer version\n",
    "            if tf.random.uniform(()) > 0.8:  # Apply with 20% probability\n",
    "                mask_size_h = tf.maximum(tf.cast(h * tf.random.uniform([], 0.1, 0.2), tf.int32), 1)\n",
    "                mask_size_w = tf.maximum(tf.cast(w * tf.random.uniform([], 0.1, 0.2), tf.int32), 1)\n",
    "\n",
    "                # Ensure mask position is valid\n",
    "                mask_y = tf.minimum(tf.random.uniform([], 0, h - mask_size_h, dtype=tf.int32), h - 1)\n",
    "                mask_x = tf.minimum(tf.random.uniform([], 0, w - mask_size_w, dtype=tf.int32), w - 1)\n",
    "\n",
    "                # Create mask\n",
    "                mask = tf.zeros([mask_size_h, mask_size_w, 1]) + 0.5  # Gray mask\n",
    "                paddings = [[mask_y, h - mask_y - mask_size_h],\n",
    "                           [mask_x, w - mask_x - mask_size_w],\n",
    "                           [0, 0]]\n",
    "\n",
    "                # Ensure paddings are valid\n",
    "                paddings = tf.maximum(paddings, 0)\n",
    "\n",
    "                mask = tf.pad(mask, paddings)\n",
    "                mask = tf.cast(mask > 0, aug_img.dtype)\n",
    "                aug_img = aug_img * (1 - mask) + mask * 0.5\n",
    "\n",
    "            # Final safety check\n",
    "            aug_img = tf.clip_by_value(aug_img, 0.0, 1.0)\n",
    "\n",
    "            # Check for NaN values and replace with safe values\n",
    "            aug_img = tf.where(tf.math.is_nan(aug_img), tf.zeros_like(aug_img), aug_img)\n",
    "\n",
    "            # Append the augmented image\n",
    "            augmented_images.append(aug_img.numpy())\n",
    "            augmented_labels.append(lbl)\n",
    "            aug_idx += 1\n",
    "\n",
    "    return np.array(augmented_images), np.array(augmented_labels)"
   ]
  },
  {
   "cell_type": "markdown",
   "id": "72e0de1f",
   "metadata": {},
   "source": [
    "Here , i applied the same changed augmentation function as in case when dealing with tuberculosis "
   ]
  },
  {
   "cell_type": "code",
   "execution_count": 6,
   "id": "d94e0ee1-870c-45e6-a384-1677d7ae7f04",
   "metadata": {},
   "outputs": [],
   "source": [
    "def display_examples(images, labels, num_examples=5):\n",
    "    plt.figure(figsize=(10, 10))\n",
    "    \n",
    "    for i in range(num_examples):\n",
    "        ax = plt.subplot(1, num_examples, i + 1)\n",
    "        ax.imshow(images[i])  # Display the image\n",
    "        ax.set_title(f\"Label: {labels[i]}\")  # Display the label\n",
    "        ax.axis(\"off\")  # Hide axes\n",
    "    \n",
    "    plt.show()"
   ]
  },
  {
   "cell_type": "code",
   "execution_count": null,
   "id": "d7fff4b5",
   "metadata": {},
   "outputs": [],
   "source": [
    "# Define subsample size (e.g., 50% of the data)\n",
    "subsample_fraction = 0.5  # Adjust based on available resources\n",
    "\n",
    "# Randomly select indices\n",
    "subsample_indices = np.random.choice(len(lung_scans),\n",
    "                                     size=int(len(lung_scans) * subsample_fraction),\n",
    "                                     replace=False)\n",
    "\n",
    "# Subsample images and labels\n",
    "lung_scans_subsampled = lung_scans[subsample_indices]\n",
    "lung_scans_labels_subsampled = lung_scans_labels[subsample_indices]\n"
   ]
  },
  {
   "cell_type": "code",
   "execution_count": null,
   "id": "f7f0d168-5102-4488-8f69-7c10ceb29192",
   "metadata": {},
   "outputs": [],
   "source": [
    "lung_scans , lung_scans_labels = generate_augmented_images( images = lung_scans_subsampled ,\n",
    "                                                            labels = lung_scans_labels_subsampled ,\n",
    "                                                            augmentations_per_image = 2)\n",
    "\n",
    "\n",
    "# 0.5 subsample used because of a computantional limits"
   ]
  },
  {
   "cell_type": "code",
   "execution_count": 12,
   "id": "e2f6389d-1624-45ff-a48c-065d2d8459d4",
   "metadata": {},
   "outputs": [
    {
     "data": {
      "image/png": "[encoded data removed]",
      "text/plain": [
       "<Figure size 1000x1000 with 12 Axes>"
      ]
     },
     "metadata": {},
     "output_type": "display_data"
    }
   ],
   "source": [
    "display_examples(images = lung_scans, \n",
    "                 labels = lung_scans_labels, \n",
    "                 num_examples=12)"
   ]
  },
  {
   "cell_type": "code",
   "execution_count": 13,
   "id": "2064c876-32fb-4d93-a878-d469320918b5",
   "metadata": {},
   "outputs": [
    {
     "data": {
      "text/plain": [
       "(16018, 224, 224, 1)"
      ]
     },
     "execution_count": 13,
     "metadata": {},
     "output_type": "execute_result"
    }
   ],
   "source": [
    "lung_scans.shape"
   ]
  },
  {
   "cell_type": "markdown",
   "id": "6bd89849-0e2c-4c82-bfec-c023a85ddcf0",
   "metadata": {},
   "source": [
    "## CLEAN & PREPARE"
   ]
  },
  {
   "cell_type": "markdown",
   "id": "cbf0904b-e0b0-4353-8cf4-ae4a0a90ea4e",
   "metadata": {
    "jp-MarkdownHeadingCollapsed": true
   },
   "source": [
    "#### PREPARE DATA FOR MODEL BUILDING"
   ]
  },
  {
   "cell_type": "code",
   "execution_count": 16,
   "id": "be93204f-74db-4023-af0b-3f11a563143a",
   "metadata": {},
   "outputs": [],
   "source": [
    "lung_scans_train , lung_scans_test , lung_scans_labels_train , lung_scans_labels_test =  train_test_split(\n",
    "    lung_scans ,\n",
    "    lung_scans_labels ,\n",
    "    train_size = 0.95 ,\n",
    "    stratify = lung_scans_labels ,\n",
    "    random_state = 42\n",
    ")\n",
    "\n",
    "lung_scans_train , lung_scans_validation , lung_scans_labels_train , lung_scans_labels_validation  =  train_test_split(\n",
    "    lung_scans_train ,\n",
    "    lung_scans_labels_train ,\n",
    "    train_size = 0.95 ,\n",
    "    stratify = lung_scans_labels_train ,\n",
    "    random_state = 42\n",
    ")"
   ]
  },
  {
   "cell_type": "code",
   "execution_count": 17,
   "id": "cee8702d-ca54-4cc8-b48c-7d80e37696a4",
   "metadata": {},
   "outputs": [
    {
     "name": "stdout",
     "output_type": "stream",
     "text": [
      "IMAGE ARRAYS SHAPES (TRA`IN - TEST - VALIDATION) : ((14456, 224, 224, 1), (801, 224, 224, 1), (761, 224, 224, 1))\n"
     ]
    }
   ],
   "source": [
    "print(f'IMAGE ARRAYS SHAPES (TRA`IN - TEST - VALIDATION) : {lung_scans_train.shape , lung_scans_test.shape , lung_scans_validation.shape }')"
   ]
  },
  {
   "cell_type": "markdown",
   "id": "20d539c4-566d-4a43-a709-5e0102ade2a2",
   "metadata": {},
   "source": [
    "## MODEL BUILD"
   ]
  },
  {
   "cell_type": "code",
   "execution_count": 18,
   "id": "ca2a609d-ec63-4996-9186-f586c3e9dacc",
   "metadata": {},
   "outputs": [],
   "source": [
    "from tensorflow.keras import models , layers , optimizers , losses , callbacks "
   ]
  },
  {
   "cell_type": "markdown",
   "id": "4d7651b2-b33a-43ab-8cb1-fc87bdaebf14",
   "metadata": {
    "jp-MarkdownHeadingCollapsed": true
   },
   "source": [
    "#### STRUCTURE"
   ]
  },
  {
   "cell_type": "code",
   "execution_count": 19,
   "id": "22248410-2015-4f3b-83e9-6828f94d810e",
   "metadata": {},
   "outputs": [],
   "source": [
    "lung_scans_sequential_neural_net = models.Sequential( [\n",
    "   \n",
    "    layers.Conv2D( filters = 32 ,\n",
    "                   kernel_size = (3,3),\n",
    "                   activation = 'relu'),\n",
    "    layers.MaxPool2D(pool_size = (2,2)),\n",
    "    layers.BatchNormalization(),\n",
    "    \n",
    "    layers.Conv2D( filters = 64 ,\n",
    "                   kernel_size = (3,3),\n",
    "                   activation = 'relu'),\n",
    "    layers.MaxPool2D(pool_size = (2,2)),\n",
    "    layers.BatchNormalization(),\n",
    "\n",
    "    layers.Conv2D( filters = 128 ,\n",
    "                   kernel_size = (3,3),\n",
    "                   activation = 'relu'),\n",
    "    layers.MaxPool2D(pool_size = (2,2)),\n",
    "    layers.BatchNormalization(),\n",
    "\n",
    "    layers.Conv2D( filters = 256 ,\n",
    "                   kernel_size = (3,3),\n",
    "                   activation = 'relu'),\n",
    "    layers.MaxPool2D(pool_size = (2,2)),\n",
    "    layers.BatchNormalization()\n",
    "    \n",
    "] )"
   ]
  },
  {
   "cell_type": "code",
   "execution_count": 20,
   "id": "6e6c1311-24c0-4d0e-841d-ba459204f090",
   "metadata": {},
   "outputs": [],
   "source": [
    "lung_scans_sequential_neural_net.add( layers.GlobalAveragePooling2D() )\n",
    "\n",
    "lung_scans_sequential_neural_net.add( layers.Dense( units = 128 ,\n",
    "                                                    activation = 'relu') )\n",
    "\n",
    "lung_scans_sequential_neural_net.add( layers.Dropout(rate = 0.5) ) ,\n",
    "\n",
    "lung_scans_sequential_neural_net.add( layers.Dense( units = 256 ,\n",
    "                                                    activation = 'relu') ) \n",
    "\n",
    "lung_scans_sequential_neural_net.add( layers.Dense( units = 1 ,\n",
    "                                                    activation = 'sigmoid') )"
   ]
  },
  {
   "cell_type": "code",
   "execution_count": 21,
   "id": "2d6c5f7a-e478-4067-93b7-e7ec0a175c99",
   "metadata": {},
   "outputs": [],
   "source": [
    "lung_scans_sequential_neural_net.build( input_shape = (lung_scans.shape) ) "
   ]
  },
  {
   "cell_type": "code",
   "execution_count": 22,
   "id": "194a9bb3-9b17-4068-8eb8-3e32772dfd48",
   "metadata": {},
   "outputs": [
    {
     "data": {
      "text/html": [
       "<pre style=\"white-space:pre;overflow-x:auto;line-height:normal;font-family:Menlo,'DejaVu Sans Mono',consolas,'Courier New',monospace\"><span style=\"font-weight: bold\">Model: \"sequential\"</span>\n",
       "</pre>\n"
      ],
      "text/plain": [
       "\u001b[1mModel: \"sequential\"\u001b[0m\n"
      ]
     },
     "metadata": {},
     "output_type": "display_data"
    },
    {
     "data": {
      "text/html": [
       "<pre style=\"white-space:pre;overflow-x:auto;line-height:normal;font-family:Menlo,'DejaVu Sans Mono',consolas,'Courier New',monospace\">┏━━━━━━━━━━━━━━━━━━━━━━━━━━━━━━━━━━━━━━┳━━━━━━━━━━━━━━━━━━━━━━━━━━━━━┳━━━━━━━━━━━━━━━━━┓\n",
       "┃<span style=\"font-weight: bold\"> Layer (type)                         </span>┃<span style=\"font-weight: bold\"> Output Shape                </span>┃<span style=\"font-weight: bold\">         Param # </span>┃\n",
       "┡━━━━━━━━━━━━━━━━━━━━━━━━━━━━━━━━━━━━━━╇━━━━━━━━━━━━━━━━━━━━━━━━━━━━━╇━━━━━━━━━━━━━━━━━┩\n",
       "│ conv2d (<span style=\"color: #0087ff; text-decoration-color: #0087ff\">Conv2D</span>)                      │ (<span style=\"color: #00af00; text-decoration-color: #00af00\">16018</span>, <span style=\"color: #00af00; text-decoration-color: #00af00\">222</span>, <span style=\"color: #00af00; text-decoration-color: #00af00\">222</span>, <span style=\"color: #00af00; text-decoration-color: #00af00\">32</span>)       │             <span style=\"color: #00af00; text-decoration-color: #00af00\">320</span> │\n",
       "├──────────────────────────────────────┼─────────────────────────────┼─────────────────┤\n",
       "│ max_pooling2d (<span style=\"color: #0087ff; text-decoration-color: #0087ff\">MaxPooling2D</span>)         │ (<span style=\"color: #00af00; text-decoration-color: #00af00\">16018</span>, <span style=\"color: #00af00; text-decoration-color: #00af00\">111</span>, <span style=\"color: #00af00; text-decoration-color: #00af00\">111</span>, <span style=\"color: #00af00; text-decoration-color: #00af00\">32</span>)       │               <span style=\"color: #00af00; text-decoration-color: #00af00\">0</span> │\n",
       "├──────────────────────────────────────┼─────────────────────────────┼─────────────────┤\n",
       "│ batch_normalization                  │ (<span style=\"color: #00af00; text-decoration-color: #00af00\">16018</span>, <span style=\"color: #00af00; text-decoration-color: #00af00\">111</span>, <span style=\"color: #00af00; text-decoration-color: #00af00\">111</span>, <span style=\"color: #00af00; text-decoration-color: #00af00\">32</span>)       │             <span style=\"color: #00af00; text-decoration-color: #00af00\">128</span> │\n",
       "│ (<span style=\"color: #0087ff; text-decoration-color: #0087ff\">BatchNormalization</span>)                 │                             │                 │\n",
       "├──────────────────────────────────────┼─────────────────────────────┼─────────────────┤\n",
       "│ conv2d_1 (<span style=\"color: #0087ff; text-decoration-color: #0087ff\">Conv2D</span>)                    │ (<span style=\"color: #00af00; text-decoration-color: #00af00\">16018</span>, <span style=\"color: #00af00; text-decoration-color: #00af00\">109</span>, <span style=\"color: #00af00; text-decoration-color: #00af00\">109</span>, <span style=\"color: #00af00; text-decoration-color: #00af00\">64</span>)       │          <span style=\"color: #00af00; text-decoration-color: #00af00\">18,496</span> │\n",
       "├──────────────────────────────────────┼─────────────────────────────┼─────────────────┤\n",
       "│ max_pooling2d_1 (<span style=\"color: #0087ff; text-decoration-color: #0087ff\">MaxPooling2D</span>)       │ (<span style=\"color: #00af00; text-decoration-color: #00af00\">16018</span>, <span style=\"color: #00af00; text-decoration-color: #00af00\">54</span>, <span style=\"color: #00af00; text-decoration-color: #00af00\">54</span>, <span style=\"color: #00af00; text-decoration-color: #00af00\">64</span>)         │               <span style=\"color: #00af00; text-decoration-color: #00af00\">0</span> │\n",
       "├──────────────────────────────────────┼─────────────────────────────┼─────────────────┤\n",
       "│ batch_normalization_1                │ (<span style=\"color: #00af00; text-decoration-color: #00af00\">16018</span>, <span style=\"color: #00af00; text-decoration-color: #00af00\">54</span>, <span style=\"color: #00af00; text-decoration-color: #00af00\">54</span>, <span style=\"color: #00af00; text-decoration-color: #00af00\">64</span>)         │             <span style=\"color: #00af00; text-decoration-color: #00af00\">256</span> │\n",
       "│ (<span style=\"color: #0087ff; text-decoration-color: #0087ff\">BatchNormalization</span>)                 │                             │                 │\n",
       "├──────────────────────────────────────┼─────────────────────────────┼─────────────────┤\n",
       "│ conv2d_2 (<span style=\"color: #0087ff; text-decoration-color: #0087ff\">Conv2D</span>)                    │ (<span style=\"color: #00af00; text-decoration-color: #00af00\">16018</span>, <span style=\"color: #00af00; text-decoration-color: #00af00\">52</span>, <span style=\"color: #00af00; text-decoration-color: #00af00\">52</span>, <span style=\"color: #00af00; text-decoration-color: #00af00\">128</span>)        │          <span style=\"color: #00af00; text-decoration-color: #00af00\">73,856</span> │\n",
       "├──────────────────────────────────────┼─────────────────────────────┼─────────────────┤\n",
       "│ max_pooling2d_2 (<span style=\"color: #0087ff; text-decoration-color: #0087ff\">MaxPooling2D</span>)       │ (<span style=\"color: #00af00; text-decoration-color: #00af00\">16018</span>, <span style=\"color: #00af00; text-decoration-color: #00af00\">26</span>, <span style=\"color: #00af00; text-decoration-color: #00af00\">26</span>, <span style=\"color: #00af00; text-decoration-color: #00af00\">128</span>)        │               <span style=\"color: #00af00; text-decoration-color: #00af00\">0</span> │\n",
       "├──────────────────────────────────────┼─────────────────────────────┼─────────────────┤\n",
       "│ batch_normalization_2                │ (<span style=\"color: #00af00; text-decoration-color: #00af00\">16018</span>, <span style=\"color: #00af00; text-decoration-color: #00af00\">26</span>, <span style=\"color: #00af00; text-decoration-color: #00af00\">26</span>, <span style=\"color: #00af00; text-decoration-color: #00af00\">128</span>)        │             <span style=\"color: #00af00; text-decoration-color: #00af00\">512</span> │\n",
       "│ (<span style=\"color: #0087ff; text-decoration-color: #0087ff\">BatchNormalization</span>)                 │                             │                 │\n",
       "├──────────────────────────────────────┼─────────────────────────────┼─────────────────┤\n",
       "│ conv2d_3 (<span style=\"color: #0087ff; text-decoration-color: #0087ff\">Conv2D</span>)                    │ (<span style=\"color: #00af00; text-decoration-color: #00af00\">16018</span>, <span style=\"color: #00af00; text-decoration-color: #00af00\">24</span>, <span style=\"color: #00af00; text-decoration-color: #00af00\">24</span>, <span style=\"color: #00af00; text-decoration-color: #00af00\">256</span>)        │         <span style=\"color: #00af00; text-decoration-color: #00af00\">295,168</span> │\n",
       "├──────────────────────────────────────┼─────────────────────────────┼─────────────────┤\n",
       "│ max_pooling2d_3 (<span style=\"color: #0087ff; text-decoration-color: #0087ff\">MaxPooling2D</span>)       │ (<span style=\"color: #00af00; text-decoration-color: #00af00\">16018</span>, <span style=\"color: #00af00; text-decoration-color: #00af00\">12</span>, <span style=\"color: #00af00; text-decoration-color: #00af00\">12</span>, <span style=\"color: #00af00; text-decoration-color: #00af00\">256</span>)        │               <span style=\"color: #00af00; text-decoration-color: #00af00\">0</span> │\n",
       "├──────────────────────────────────────┼─────────────────────────────┼─────────────────┤\n",
       "│ batch_normalization_3                │ (<span style=\"color: #00af00; text-decoration-color: #00af00\">16018</span>, <span style=\"color: #00af00; text-decoration-color: #00af00\">12</span>, <span style=\"color: #00af00; text-decoration-color: #00af00\">12</span>, <span style=\"color: #00af00; text-decoration-color: #00af00\">256</span>)        │           <span style=\"color: #00af00; text-decoration-color: #00af00\">1,024</span> │\n",
       "│ (<span style=\"color: #0087ff; text-decoration-color: #0087ff\">BatchNormalization</span>)                 │                             │                 │\n",
       "├──────────────────────────────────────┼─────────────────────────────┼─────────────────┤\n",
       "│ global_average_pooling2d             │ (<span style=\"color: #00af00; text-decoration-color: #00af00\">16018</span>, <span style=\"color: #00af00; text-decoration-color: #00af00\">256</span>)                │               <span style=\"color: #00af00; text-decoration-color: #00af00\">0</span> │\n",
       "│ (<span style=\"color: #0087ff; text-decoration-color: #0087ff\">GlobalAveragePooling2D</span>)             │                             │                 │\n",
       "├──────────────────────────────────────┼─────────────────────────────┼─────────────────┤\n",
       "│ dense (<span style=\"color: #0087ff; text-decoration-color: #0087ff\">Dense</span>)                        │ (<span style=\"color: #00af00; text-decoration-color: #00af00\">16018</span>, <span style=\"color: #00af00; text-decoration-color: #00af00\">128</span>)                │          <span style=\"color: #00af00; text-decoration-color: #00af00\">32,896</span> │\n",
       "├──────────────────────────────────────┼─────────────────────────────┼─────────────────┤\n",
       "│ dropout (<span style=\"color: #0087ff; text-decoration-color: #0087ff\">Dropout</span>)                    │ (<span style=\"color: #00af00; text-decoration-color: #00af00\">16018</span>, <span style=\"color: #00af00; text-decoration-color: #00af00\">128</span>)                │               <span style=\"color: #00af00; text-decoration-color: #00af00\">0</span> │\n",
       "├──────────────────────────────────────┼─────────────────────────────┼─────────────────┤\n",
       "│ dense_1 (<span style=\"color: #0087ff; text-decoration-color: #0087ff\">Dense</span>)                      │ (<span style=\"color: #00af00; text-decoration-color: #00af00\">16018</span>, <span style=\"color: #00af00; text-decoration-color: #00af00\">256</span>)                │          <span style=\"color: #00af00; text-decoration-color: #00af00\">33,024</span> │\n",
       "├──────────────────────────────────────┼─────────────────────────────┼─────────────────┤\n",
       "│ dense_2 (<span style=\"color: #0087ff; text-decoration-color: #0087ff\">Dense</span>)                      │ (<span style=\"color: #00af00; text-decoration-color: #00af00\">16018</span>, <span style=\"color: #00af00; text-decoration-color: #00af00\">1</span>)                  │             <span style=\"color: #00af00; text-decoration-color: #00af00\">257</span> │\n",
       "└──────────────────────────────────────┴─────────────────────────────┴─────────────────┘\n",
       "</pre>\n"
      ],
      "text/plain": [
       "┏━━━━━━━━━━━━━━━━━━━━━━━━━━━━━━━━━━━━━━┳━━━━━━━━━━━━━━━━━━━━━━━━━━━━━┳━━━━━━━━━━━━━━━━━┓\n",
       "┃\u001b[1m \u001b[0m\u001b[1mLayer (type)                        \u001b[0m\u001b[1m \u001b[0m┃\u001b[1m \u001b[0m\u001b[1mOutput Shape               \u001b[0m\u001b[1m \u001b[0m┃\u001b[1m \u001b[0m\u001b[1m        Param #\u001b[0m\u001b[1m \u001b[0m┃\n",
       "┡━━━━━━━━━━━━━━━━━━━━━━━━━━━━━━━━━━━━━━╇━━━━━━━━━━━━━━━━━━━━━━━━━━━━━╇━━━━━━━━━━━━━━━━━┩\n",
       "│ conv2d (\u001b[38;5;33mConv2D\u001b[0m)                      │ (\u001b[38;5;34m16018\u001b[0m, \u001b[38;5;34m222\u001b[0m, \u001b[38;5;34m222\u001b[0m, \u001b[38;5;34m32\u001b[0m)       │             \u001b[38;5;34m320\u001b[0m │\n",
       "├──────────────────────────────────────┼─────────────────────────────┼─────────────────┤\n",
       "│ max_pooling2d (\u001b[38;5;33mMaxPooling2D\u001b[0m)         │ (\u001b[38;5;34m16018\u001b[0m, \u001b[38;5;34m111\u001b[0m, \u001b[38;5;34m111\u001b[0m, \u001b[38;5;34m32\u001b[0m)       │               \u001b[38;5;34m0\u001b[0m │\n",
       "├──────────────────────────────────────┼─────────────────────────────┼─────────────────┤\n",
       "│ batch_normalization                  │ (\u001b[38;5;34m16018\u001b[0m, \u001b[38;5;34m111\u001b[0m, \u001b[38;5;34m111\u001b[0m, \u001b[38;5;34m32\u001b[0m)       │             \u001b[38;5;34m128\u001b[0m │\n",
       "│ (\u001b[38;5;33mBatchNormalization\u001b[0m)                 │                             │                 │\n",
       "├──────────────────────────────────────┼─────────────────────────────┼─────────────────┤\n",
       "│ conv2d_1 (\u001b[38;5;33mConv2D\u001b[0m)                    │ (\u001b[38;5;34m16018\u001b[0m, \u001b[38;5;34m109\u001b[0m, \u001b[38;5;34m109\u001b[0m, \u001b[38;5;34m64\u001b[0m)       │          \u001b[38;5;34m18,496\u001b[0m │\n",
       "├──────────────────────────────────────┼─────────────────────────────┼─────────────────┤\n",
       "│ max_pooling2d_1 (\u001b[38;5;33mMaxPooling2D\u001b[0m)       │ (\u001b[38;5;34m16018\u001b[0m, \u001b[38;5;34m54\u001b[0m, \u001b[38;5;34m54\u001b[0m, \u001b[38;5;34m64\u001b[0m)         │               \u001b[38;5;34m0\u001b[0m │\n",
       "├──────────────────────────────────────┼─────────────────────────────┼─────────────────┤\n",
       "│ batch_normalization_1                │ (\u001b[38;5;34m16018\u001b[0m, \u001b[38;5;34m54\u001b[0m, \u001b[38;5;34m54\u001b[0m, \u001b[38;5;34m64\u001b[0m)         │             \u001b[38;5;34m256\u001b[0m │\n",
       "│ (\u001b[38;5;33mBatchNormalization\u001b[0m)                 │                             │                 │\n",
       "├──────────────────────────────────────┼─────────────────────────────┼─────────────────┤\n",
       "│ conv2d_2 (\u001b[38;5;33mConv2D\u001b[0m)                    │ (\u001b[38;5;34m16018\u001b[0m, \u001b[38;5;34m52\u001b[0m, \u001b[38;5;34m52\u001b[0m, \u001b[38;5;34m128\u001b[0m)        │          \u001b[38;5;34m73,856\u001b[0m │\n",
       "├──────────────────────────────────────┼─────────────────────────────┼─────────────────┤\n",
       "│ max_pooling2d_2 (\u001b[38;5;33mMaxPooling2D\u001b[0m)       │ (\u001b[38;5;34m16018\u001b[0m, \u001b[38;5;34m26\u001b[0m, \u001b[38;5;34m26\u001b[0m, \u001b[38;5;34m128\u001b[0m)        │               \u001b[38;5;34m0\u001b[0m │\n",
       "├──────────────────────────────────────┼─────────────────────────────┼─────────────────┤\n",
       "│ batch_normalization_2                │ (\u001b[38;5;34m16018\u001b[0m, \u001b[38;5;34m26\u001b[0m, \u001b[38;5;34m26\u001b[0m, \u001b[38;5;34m128\u001b[0m)        │             \u001b[38;5;34m512\u001b[0m │\n",
       "│ (\u001b[38;5;33mBatchNormalization\u001b[0m)                 │                             │                 │\n",
       "├──────────────────────────────────────┼─────────────────────────────┼─────────────────┤\n",
       "│ conv2d_3 (\u001b[38;5;33mConv2D\u001b[0m)                    │ (\u001b[38;5;34m16018\u001b[0m, \u001b[38;5;34m24\u001b[0m, \u001b[38;5;34m24\u001b[0m, \u001b[38;5;34m256\u001b[0m)        │         \u001b[38;5;34m295,168\u001b[0m │\n",
       "├──────────────────────────────────────┼─────────────────────────────┼─────────────────┤\n",
       "│ max_pooling2d_3 (\u001b[38;5;33mMaxPooling2D\u001b[0m)       │ (\u001b[38;5;34m16018\u001b[0m, \u001b[38;5;34m12\u001b[0m, \u001b[38;5;34m12\u001b[0m, \u001b[38;5;34m256\u001b[0m)        │               \u001b[38;5;34m0\u001b[0m │\n",
       "├──────────────────────────────────────┼─────────────────────────────┼─────────────────┤\n",
       "│ batch_normalization_3                │ (\u001b[38;5;34m16018\u001b[0m, \u001b[38;5;34m12\u001b[0m, \u001b[38;5;34m12\u001b[0m, \u001b[38;5;34m256\u001b[0m)        │           \u001b[38;5;34m1,024\u001b[0m │\n",
       "│ (\u001b[38;5;33mBatchNormalization\u001b[0m)                 │                             │                 │\n",
       "├──────────────────────────────────────┼─────────────────────────────┼─────────────────┤\n",
       "│ global_average_pooling2d             │ (\u001b[38;5;34m16018\u001b[0m, \u001b[38;5;34m256\u001b[0m)                │               \u001b[38;5;34m0\u001b[0m │\n",
       "│ (\u001b[38;5;33mGlobalAveragePooling2D\u001b[0m)             │                             │                 │\n",
       "├──────────────────────────────────────┼─────────────────────────────┼─────────────────┤\n",
       "│ dense (\u001b[38;5;33mDense\u001b[0m)                        │ (\u001b[38;5;34m16018\u001b[0m, \u001b[38;5;34m128\u001b[0m)                │          \u001b[38;5;34m32,896\u001b[0m │\n",
       "├──────────────────────────────────────┼─────────────────────────────┼─────────────────┤\n",
       "│ dropout (\u001b[38;5;33mDropout\u001b[0m)                    │ (\u001b[38;5;34m16018\u001b[0m, \u001b[38;5;34m128\u001b[0m)                │               \u001b[38;5;34m0\u001b[0m │\n",
       "├──────────────────────────────────────┼─────────────────────────────┼─────────────────┤\n",
       "│ dense_1 (\u001b[38;5;33mDense\u001b[0m)                      │ (\u001b[38;5;34m16018\u001b[0m, \u001b[38;5;34m256\u001b[0m)                │          \u001b[38;5;34m33,024\u001b[0m │\n",
       "├──────────────────────────────────────┼─────────────────────────────┼─────────────────┤\n",
       "│ dense_2 (\u001b[38;5;33mDense\u001b[0m)                      │ (\u001b[38;5;34m16018\u001b[0m, \u001b[38;5;34m1\u001b[0m)                  │             \u001b[38;5;34m257\u001b[0m │\n",
       "└──────────────────────────────────────┴─────────────────────────────┴─────────────────┘\n"
      ]
     },
     "metadata": {},
     "output_type": "display_data"
    },
    {
     "data": {
      "text/html": [
       "<pre style=\"white-space:pre;overflow-x:auto;line-height:normal;font-family:Menlo,'DejaVu Sans Mono',consolas,'Courier New',monospace\"><span style=\"font-weight: bold\"> Total params: </span><span style=\"color: #00af00; text-decoration-color: #00af00\">455,937</span> (1.74 MB)\n",
       "</pre>\n"
      ],
      "text/plain": [
       "\u001b[1m Total params: \u001b[0m\u001b[38;5;34m455,937\u001b[0m (1.74 MB)\n"
      ]
     },
     "metadata": {},
     "output_type": "display_data"
    },
    {
     "data": {
      "text/html": [
       "<pre style=\"white-space:pre;overflow-x:auto;line-height:normal;font-family:Menlo,'DejaVu Sans Mono',consolas,'Courier New',monospace\"><span style=\"font-weight: bold\"> Trainable params: </span><span style=\"color: #00af00; text-decoration-color: #00af00\">454,977</span> (1.74 MB)\n",
       "</pre>\n"
      ],
      "text/plain": [
       "\u001b[1m Trainable params: \u001b[0m\u001b[38;5;34m454,977\u001b[0m (1.74 MB)\n"
      ]
     },
     "metadata": {},
     "output_type": "display_data"
    },
    {
     "data": {
      "text/html": [
       "<pre style=\"white-space:pre;overflow-x:auto;line-height:normal;font-family:Menlo,'DejaVu Sans Mono',consolas,'Courier New',monospace\"><span style=\"font-weight: bold\"> Non-trainable params: </span><span style=\"color: #00af00; text-decoration-color: #00af00\">960</span> (3.75 KB)\n",
       "</pre>\n"
      ],
      "text/plain": [
       "\u001b[1m Non-trainable params: \u001b[0m\u001b[38;5;34m960\u001b[0m (3.75 KB)\n"
      ]
     },
     "metadata": {},
     "output_type": "display_data"
    }
   ],
   "source": [
    "lung_scans_sequential_neural_net.summary()"
   ]
  },
  {
   "cell_type": "markdown",
   "id": "1c9bf7ad-fe9a-4820-8663-fa2e4c25a85d",
   "metadata": {
    "jp-MarkdownHeadingCollapsed": true
   },
   "source": [
    "#### COMPILE"
   ]
  },
  {
   "cell_type": "code",
   "execution_count": 23,
   "id": "3ffc76bb-5b65-4030-88f8-a3df96f5ffcf",
   "metadata": {},
   "outputs": [],
   "source": [
    "lung_scans_sequential_neural_net.compile( optimizer = optimizers.Adam() ,\n",
    "                                          loss = losses.BinaryCrossentropy(),\n",
    "                                          metrics = ['accuracy'] )\n",
    "\n",
    "lung_scans_sequential_neural_net_early_stop = callbacks.EarlyStopping( monitor = 'val_loss',\n",
    "                                                                       patience = 25 ,\n",
    "                                                                       restore_best_weights = True )"
   ]
  },
  {
   "cell_type": "markdown",
   "id": "6adb8eb2-0571-4f11-9270-72d082578cb0",
   "metadata": {
    "jp-MarkdownHeadingCollapsed": true
   },
   "source": [
    "#### TRAIN"
   ]
  },
  {
   "cell_type": "code",
   "execution_count": 24,
   "id": "30a47eec-727f-41f4-b944-427856a34c71",
   "metadata": {
    "scrolled": true
   },
   "outputs": [
    {
     "name": "stdout",
     "output_type": "stream",
     "text": [
      "Epoch 1/120\n",
      "\u001b[1m452/452\u001b[0m \u001b[32m━━━━━━━━━━━━━━━━━━━━\u001b[0m\u001b[37m\u001b[0m \u001b[1m280s\u001b[0m 610ms/step - accuracy: 0.7000 - loss: 0.5841 - val_accuracy: 0.6899 - val_loss: 0.6912\n",
      "Epoch 2/120\n",
      "\u001b[1m452/452\u001b[0m \u001b[32m━━━━━━━━━━━━━━━━━━━━\u001b[0m\u001b[37m\u001b[0m \u001b[1m274s\u001b[0m 605ms/step - accuracy: 0.8348 - loss: 0.3943 - val_accuracy: 0.4639 - val_loss: 1.6543\n",
      "Epoch 3/120\n",
      "\u001b[1m452/452\u001b[0m \u001b[32m━━━━━━━━━━━━━━━━━━━━\u001b[0m\u001b[37m\u001b[0m \u001b[1m286s\u001b[0m 632ms/step - accuracy: 0.8832 - loss: 0.3029 - val_accuracy: 0.8042 - val_loss: 0.4298\n",
      "Epoch 4/120\n",
      "\u001b[1m452/452\u001b[0m \u001b[32m━━━━━━━━━━━━━━━━━━━━\u001b[0m\u001b[37m\u001b[0m \u001b[1m277s\u001b[0m 613ms/step - accuracy: 0.9056 - loss: 0.2521 - val_accuracy: 0.7832 - val_loss: 0.4659\n",
      "Epoch 5/120\n",
      "\u001b[1m452/452\u001b[0m \u001b[32m━━━━━━━━━━━━━━━━━━━━\u001b[0m\u001b[37m\u001b[0m \u001b[1m181s\u001b[0m 399ms/step - accuracy: 0.9211 - loss: 0.2227 - val_accuracy: 0.6347 - val_loss: 0.6316\n",
      "Epoch 6/120\n",
      "\u001b[1m452/452\u001b[0m \u001b[32m━━━━━━━━━━━━━━━━━━━━\u001b[0m\u001b[37m\u001b[0m \u001b[1m179s\u001b[0m 395ms/step - accuracy: 0.9293 - loss: 0.1972 - val_accuracy: 0.8607 - val_loss: 0.3380\n",
      "Epoch 7/120\n",
      "\u001b[1m452/452\u001b[0m \u001b[32m━━━━━━━━━━━━━━━━━━━━\u001b[0m\u001b[37m\u001b[0m \u001b[1m179s\u001b[0m 396ms/step - accuracy: 0.9272 - loss: 0.1999 - val_accuracy: 0.6360 - val_loss: 0.7617\n",
      "Epoch 8/120\n",
      "\u001b[1m452/452\u001b[0m \u001b[32m━━━━━━━━━━━━━━━━━━━━\u001b[0m\u001b[37m\u001b[0m \u001b[1m179s\u001b[0m 396ms/step - accuracy: 0.9379 - loss: 0.1745 - val_accuracy: 0.9290 - val_loss: 0.2155\n",
      "Epoch 9/120\n",
      "\u001b[1m452/452\u001b[0m \u001b[32m━━━━━━━━━━━━━━━━━━━━\u001b[0m\u001b[37m\u001b[0m \u001b[1m182s\u001b[0m 402ms/step - accuracy: 0.9387 - loss: 0.1654 - val_accuracy: 0.9120 - val_loss: 0.2296\n",
      "Epoch 10/120\n",
      "\u001b[1m452/452\u001b[0m \u001b[32m━━━━━━━━━━━━━━━━━━━━\u001b[0m\u001b[37m\u001b[0m \u001b[1m179s\u001b[0m 396ms/step - accuracy: 0.9456 - loss: 0.1591 - val_accuracy: 0.7714 - val_loss: 0.5697\n",
      "Epoch 11/120\n",
      "\u001b[1m452/452\u001b[0m \u001b[32m━━━━━━━━━━━━━━━━━━━━\u001b[0m\u001b[37m\u001b[0m \u001b[1m179s\u001b[0m 396ms/step - accuracy: 0.9516 - loss: 0.1391 - val_accuracy: 0.8922 - val_loss: 0.2699\n",
      "Epoch 12/120\n",
      "\u001b[1m452/452\u001b[0m \u001b[32m━━━━━━━━━━━━━━━━━━━━\u001b[0m\u001b[37m\u001b[0m \u001b[1m179s\u001b[0m 396ms/step - accuracy: 0.9562 - loss: 0.1271 - val_accuracy: 0.9422 - val_loss: 0.1845\n",
      "Epoch 13/120\n",
      "\u001b[1m452/452\u001b[0m \u001b[32m━━━━━━━━━━━━━━━━━━━━\u001b[0m\u001b[37m\u001b[0m \u001b[1m180s\u001b[0m 397ms/step - accuracy: 0.9567 - loss: 0.1255 - val_accuracy: 0.5532 - val_loss: 0.7795\n",
      "Epoch 14/120\n",
      "\u001b[1m452/452\u001b[0m \u001b[32m━━━━━━━━━━━━━━━━━━━━\u001b[0m\u001b[37m\u001b[0m \u001b[1m179s\u001b[0m 396ms/step - accuracy: 0.9584 - loss: 0.1185 - val_accuracy: 0.8016 - val_loss: 0.4665\n",
      "Epoch 15/120\n",
      "\u001b[1m452/452\u001b[0m \u001b[32m━━━━━━━━━━━━━━━━━━━━\u001b[0m\u001b[37m\u001b[0m \u001b[1m179s\u001b[0m 396ms/step - accuracy: 0.9618 - loss: 0.1120 - val_accuracy: 0.9106 - val_loss: 0.2782\n",
      "Epoch 16/120\n",
      "\u001b[1m452/452\u001b[0m \u001b[32m━━━━━━━━━━━━━━━━━━━━\u001b[0m\u001b[37m\u001b[0m \u001b[1m179s\u001b[0m 396ms/step - accuracy: 0.9635 - loss: 0.1034 - val_accuracy: 0.7438 - val_loss: 1.1181\n",
      "Epoch 17/120\n",
      "\u001b[1m452/452\u001b[0m \u001b[32m━━━━━━━━━━━━━━━━━━━━\u001b[0m\u001b[37m\u001b[0m \u001b[1m178s\u001b[0m 393ms/step - accuracy: 0.9690 - loss: 0.0958 - val_accuracy: 0.5296 - val_loss: 1.7428\n",
      "Epoch 18/120\n",
      "\u001b[1m452/452\u001b[0m \u001b[32m━━━━━━━━━━━━━━━━━━━━\u001b[0m\u001b[37m\u001b[0m \u001b[1m179s\u001b[0m 396ms/step - accuracy: 0.9716 - loss: 0.0774 - val_accuracy: 0.9093 - val_loss: 0.2645\n",
      "Epoch 19/120\n",
      "\u001b[1m452/452\u001b[0m \u001b[32m━━━━━━━━━━━━━━━━━━━━\u001b[0m\u001b[37m\u001b[0m \u001b[1m179s\u001b[0m 396ms/step - accuracy: 0.9684 - loss: 0.0867 - val_accuracy: 0.6018 - val_loss: 1.6060\n",
      "Epoch 20/120\n",
      "\u001b[1m452/452\u001b[0m \u001b[32m━━━━━━━━━━━━━━━━━━━━\u001b[0m\u001b[37m\u001b[0m \u001b[1m180s\u001b[0m 398ms/step - accuracy: 0.9739 - loss: 0.0725 - val_accuracy: 0.9014 - val_loss: 0.2571\n",
      "Epoch 21/120\n",
      "\u001b[1m452/452\u001b[0m \u001b[32m━━━━━━━━━━━━━━━━━━━━\u001b[0m\u001b[37m\u001b[0m \u001b[1m179s\u001b[0m 397ms/step - accuracy: 0.9741 - loss: 0.0675 - val_accuracy: 0.8397 - val_loss: 0.4574\n",
      "Epoch 22/120\n",
      "\u001b[1m452/452\u001b[0m \u001b[32m━━━━━━━━━━━━━━━━━━━━\u001b[0m\u001b[37m\u001b[0m \u001b[1m180s\u001b[0m 397ms/step - accuracy: 0.9835 - loss: 0.0496 - val_accuracy: 0.9001 - val_loss: 0.3277\n",
      "Epoch 23/120\n",
      "\u001b[1m452/452\u001b[0m \u001b[32m━━━━━━━━━━━━━━━━━━━━\u001b[0m\u001b[37m\u001b[0m \u001b[1m178s\u001b[0m 395ms/step - accuracy: 0.9835 - loss: 0.0479 - val_accuracy: 0.7648 - val_loss: 1.2268\n",
      "Epoch 24/120\n",
      "\u001b[1m452/452\u001b[0m \u001b[32m━━━━━━━━━━━━━━━━━━━━\u001b[0m\u001b[37m\u001b[0m \u001b[1m178s\u001b[0m 393ms/step - accuracy: 0.9828 - loss: 0.0469 - val_accuracy: 0.8857 - val_loss: 0.3401\n",
      "Epoch 25/120\n",
      "\u001b[1m452/452\u001b[0m \u001b[32m━━━━━━━━━━━━━━━━━━━━\u001b[0m\u001b[37m\u001b[0m \u001b[1m177s\u001b[0m 393ms/step - accuracy: 0.9863 - loss: 0.0390 - val_accuracy: 0.9251 - val_loss: 0.2231\n",
      "Epoch 26/120\n",
      "\u001b[1m452/452\u001b[0m \u001b[32m━━━━━━━━━━━━━━━━━━━━\u001b[0m\u001b[37m\u001b[0m \u001b[1m178s\u001b[0m 395ms/step - accuracy: 0.9863 - loss: 0.0381 - val_accuracy: 0.8909 - val_loss: 0.4355\n",
      "Epoch 27/120\n",
      "\u001b[1m452/452\u001b[0m \u001b[32m━━━━━━━━━━━━━━━━━━━━\u001b[0m\u001b[37m\u001b[0m \u001b[1m178s\u001b[0m 393ms/step - accuracy: 0.9891 - loss: 0.0302 - val_accuracy: 0.8081 - val_loss: 0.5164\n",
      "Epoch 28/120\n",
      "\u001b[1m452/452\u001b[0m \u001b[32m━━━━━━━━━━━━━━━━━━━━\u001b[0m\u001b[37m\u001b[0m \u001b[1m178s\u001b[0m 393ms/step - accuracy: 0.9867 - loss: 0.0365 - val_accuracy: 0.9041 - val_loss: 0.5198\n",
      "Epoch 29/120\n",
      "\u001b[1m452/452\u001b[0m \u001b[32m━━━━━━━━━━━━━━━━━━━━\u001b[0m\u001b[37m\u001b[0m \u001b[1m181s\u001b[0m 399ms/step - accuracy: 0.9884 - loss: 0.0337 - val_accuracy: 0.8949 - val_loss: 0.5396\n",
      "Epoch 30/120\n",
      "\u001b[1m452/452\u001b[0m \u001b[32m━━━━━━━━━━━━━━━━━━━━\u001b[0m\u001b[37m\u001b[0m \u001b[1m178s\u001b[0m 393ms/step - accuracy: 0.9920 - loss: 0.0254 - val_accuracy: 0.8279 - val_loss: 0.5383\n",
      "Epoch 31/120\n",
      "\u001b[1m452/452\u001b[0m \u001b[32m━━━━━━━━━━━━━━━━━━━━\u001b[0m\u001b[37m\u001b[0m \u001b[1m179s\u001b[0m 397ms/step - accuracy: 0.9905 - loss: 0.0273 - val_accuracy: 0.9106 - val_loss: 0.2836\n",
      "Epoch 32/120\n",
      "\u001b[1m452/452\u001b[0m \u001b[32m━━━━━━━━━━━━━━━━━━━━\u001b[0m\u001b[37m\u001b[0m \u001b[1m269s\u001b[0m 595ms/step - accuracy: 0.9916 - loss: 0.0234 - val_accuracy: 0.9106 - val_loss: 0.2640\n",
      "Epoch 33/120\n",
      "\u001b[1m452/452\u001b[0m \u001b[32m━━━━━━━━━━━━━━━━━━━━\u001b[0m\u001b[37m\u001b[0m \u001b[1m266s\u001b[0m 588ms/step - accuracy: 0.9918 - loss: 0.0230 - val_accuracy: 0.6465 - val_loss: 1.7344\n",
      "Epoch 34/120\n",
      "\u001b[1m452/452\u001b[0m \u001b[32m━━━━━━━━━━━━━━━━━━━━\u001b[0m\u001b[37m\u001b[0m \u001b[1m265s\u001b[0m 586ms/step - accuracy: 0.9898 - loss: 0.0271 - val_accuracy: 0.9330 - val_loss: 0.4027\n",
      "Epoch 35/120\n",
      "\u001b[1m452/452\u001b[0m \u001b[32m━━━━━━━━━━━━━━━━━━━━\u001b[0m\u001b[37m\u001b[0m \u001b[1m285s\u001b[0m 631ms/step - accuracy: 0.9944 - loss: 0.0156 - val_accuracy: 0.8541 - val_loss: 0.5087\n",
      "Epoch 36/120\n",
      "\u001b[1m452/452\u001b[0m \u001b[32m━━━━━━━━━━━━━━━━━━━━\u001b[0m\u001b[37m\u001b[0m \u001b[1m266s\u001b[0m 588ms/step - accuracy: 0.9920 - loss: 0.0216 - val_accuracy: 0.8647 - val_loss: 0.7422\n",
      "Epoch 37/120\n",
      "\u001b[1m452/452\u001b[0m \u001b[32m━━━━━━━━━━━━━━━━━━━━\u001b[0m\u001b[37m\u001b[0m \u001b[1m296s\u001b[0m 655ms/step - accuracy: 0.9927 - loss: 0.0197 - val_accuracy: 0.9409 - val_loss: 0.2675\n"
     ]
    }
   ],
   "source": [
    "training_history = lung_scans_sequential_neural_net.fit( lung_scans_train ,\n",
    "                                                         lung_scans_labels_train,\n",
    "                                                         validation_data = [lung_scans_validation,lung_scans_labels_validation],\n",
    "                                                         epochs = 120,  \n",
    "                                                         callbacks = [lung_scans_sequential_neural_net_early_stop],\n",
    "                                                         batch_size = 32 ,\n",
    "                                                         verbose  = 1 )"
   ]
  },
  {
   "cell_type": "code",
   "execution_count": null,
   "id": "31209784-9d60-4782-a838-bfc71163df45",
   "metadata": {},
   "outputs": [],
   "source": []
  },
  {
   "cell_type": "markdown",
   "id": "b4e231ed-f15b-4b42-bb55-331cb8777033",
   "metadata": {
    "jp-MarkdownHeadingCollapsed": true
   },
   "source": [
    "#### EVALUATE"
   ]
  },
  {
   "cell_type": "code",
   "execution_count": 25,
   "id": "9b747e74-526d-4893-a3dc-f92eb822e697",
   "metadata": {},
   "outputs": [],
   "source": [
    "from sklearn.metrics import classification_report, ConfusionMatrixDisplay"
   ]
  },
  {
   "cell_type": "code",
   "execution_count": 26,
   "id": "88d540b0-976a-4bfd-b0ff-59eca41deb5e",
   "metadata": {},
   "outputs": [
    {
     "name": "stdout",
     "output_type": "stream",
     "text": [
      "\u001b[1m26/26\u001b[0m \u001b[32m━━━━━━━━━━━━━━━━━━━━\u001b[0m\u001b[37m\u001b[0m \u001b[1m3s\u001b[0m 102ms/step\n",
      "              precision    recall  f1-score   support\n",
      "\n",
      "           0       0.92      0.91      0.92       356\n",
      "           1       0.93      0.94      0.93       445\n",
      "\n",
      "    accuracy                           0.93       801\n",
      "   macro avg       0.93      0.92      0.93       801\n",
      "weighted avg       0.93      0.93      0.93       801\n",
      "\n"
     ]
    },
    {
     "data": {
      "text/plain": [
       "<sklearn.metrics._plot.confusion_matrix.ConfusionMatrixDisplay at 0x1bdea622570>"
      ]
     },
     "execution_count": 26,
     "metadata": {},
     "output_type": "execute_result"
    },
    {
     "data": {
      "image/png": "[encoded data removed]",
      "text/plain": [
       "<Figure size 640x480 with 2 Axes>"
      ]
     },
     "metadata": {},
     "output_type": "display_data"
    }
   ],
   "source": [
    "# Convert probabilities to class labels using a threshold of 0.5\n",
    "predicted_labels = (lung_scans_sequential_neural_net.predict(lung_scans_test) >= 0.4).astype(int)\n",
    "\n",
    "# Generate classification report\n",
    "print(classification_report(lung_scans_labels_test, predicted_labels, zero_division=1))\n",
    "\n",
    "# Display confusion matrix\n",
    "ConfusionMatrixDisplay.from_predictions(lung_scans_labels_test, predicted_labels)\n"
   ]
  },
  {
   "cell_type": "code",
   "execution_count": 27,
   "id": "b5662354-8bf6-4e79-9dc3-0a6cf197971a",
   "metadata": {},
   "outputs": [
    {
     "name": "stdout",
     "output_type": "stream",
     "text": [
      "\u001b[1m26/26\u001b[0m \u001b[32m━━━━━━━━━━━━━━━━━━━━\u001b[0m\u001b[37m\u001b[0m \u001b[1m3s\u001b[0m 96ms/step - accuracy: 0.9312 - loss: 0.2125\n"
     ]
    },
    {
     "data": {
      "text/plain": [
       "[0.2182489037513733, 0.9275904893875122]"
      ]
     },
     "execution_count": 27,
     "metadata": {},
     "output_type": "execute_result"
    }
   ],
   "source": [
    "lung_scans_sequential_neural_net.evaluate( lung_scans_test ,\n",
    "                                           lung_scans_labels_test )"
   ]
  },
  {
   "cell_type": "markdown",
   "id": "ae0bb0bc-d07a-44fc-ab20-e0806e8f073f",
   "metadata": {
    "jp-MarkdownHeadingCollapsed": true
   },
   "source": [
    "#### SAVE "
   ]
  },
  {
   "cell_type": "code",
   "execution_count": 31,
   "id": "a8a0f024-0af0-493d-8f49-6f7c3f1917b2",
   "metadata": {},
   "outputs": [],
   "source": [
    "lung_scans_sequential_neural_net.save('lung_scans_sequential_neural_net_version2.keras')"
   ]
  },
  {
   "cell_type": "code",
   "execution_count": 30,
   "id": "fe066601-1ce1-47d9-a742-c496f8ba86f2",
   "metadata": {},
   "outputs": [
    {
     "name": "stderr",
     "output_type": "stream",
     "text": [
      "WARNING:absl:You are saving your model as an HDF5 file via `model.save()` or `keras.saving.save_model(model)`. This file format is considered legacy. We recommend using instead the native Keras format, e.g. `model.save('my_model.keras')` or `keras.saving.save_model(model, 'my_model.keras')`. \n"
     ]
    }
   ],
   "source": [
    "lung_scans_sequential_neural_net.save('lung_scans_sequential_neural_net_version2.h5')"
   ]
  }
 ],
 "metadata": {
  "kernelspec": {
   "display_name": "base",
   "language": "python",
   "name": "python3"
  },
  "language_info": {
   "codemirror_mode": {
    "name": "ipython",
    "version": 3
   },
   "file_extension": ".py",
   "mimetype": "text/x-python",
   "name": "python",
   "nbconvert_exporter": "python",
   "pygments_lexer": "ipython3",
   "version": "3.12.7"
  }
 },
 "nbformat": 4,
 "nbformat_minor": 5
}
