{
 "cells": [
  {
   "cell_type": "code",
   "execution_count": 1,
   "id": "0f676686-9b44-4879-95ba-9a380652142e",
   "metadata": {
    "id": "0f676686-9b44-4879-95ba-9a380652142e"
   },
   "outputs": [],
   "source": [
    "import numpy as np\n",
    "import pandas as pd\n",
    "import tensorflow as tf\n",
    "from matplotlib import pyplot as plt\n",
    "import sklearn\n",
    "from sklearn.model_selection import train_test_split"
   ]
  },
  {
   "cell_type": "markdown",
   "id": "3355161e-49ef-42e3-88f9-6040d355ee9c",
   "metadata": {
    "id": "3355161e-49ef-42e3-88f9-6040d355ee9c"
   },
   "source": [
    "## IMPORT & EXPLORE"
   ]
  },
  {
   "cell_type": "markdown",
   "id": "87297541-f1e6-4860-8bda-ea750816b4a9",
   "metadata": {
    "jp-MarkdownHeadingCollapsed": true
   },
   "source": [
    "#### Colab loading"
   ]
  },
  {
   "cell_type": "code",
   "execution_count": null,
   "id": "d138a0c4-5b22-45c5-8e80-a84670a6197c",
   "metadata": {
    "colab": {
     "base_uri": "https://localhost:8080/"
    },
    "executionInfo": {
     "elapsed": 18265,
     "status": "ok",
     "timestamp": 1742396731575,
     "user": {
      "displayName": "Prodigy",
      "userId": "02895624965658676832"
     },
     "user_tz": -300
    },
    "id": "d138a0c4-5b22-45c5-8e80-a84670a6197c",
    "outputId": "101524a7-3b32-4829-aea5-3ec8857bf479"
   },
   "outputs": [
    {
     "name": "stdout",
     "output_type": "stream",
     "text": [
      "Drive already mounted at /content/drive; to attempt to forcibly remount, call drive.mount(\"/content/drive\", force_remount=True).\n"
     ]
    }
   ],
   "source": [
    "from google.colab import drive\n",
    "drive.mount('/content/drive')\n",
    "\n",
    "data_path = \"/content/drive/My Drive/Data Science/XrayCT-Disease-Detection/data/pneumonia_check/arrays/pneumonia_detection.npz\"\n",
    "\n",
    "\n",
    "# Load data\n",
    "lung_scans = np.load(data_path)['images']\n",
    "lung_scans_labels = np.load(data_path)['labels']\n"
   ]
  },
  {
   "cell_type": "markdown",
   "id": "f829c501-5d87-4088-9822-971ffbb94c8a",
   "metadata": {
    "jp-MarkdownHeadingCollapsed": true
   },
   "source": [
    "#### Local"
   ]
  },
  {
   "cell_type": "code",
   "execution_count": 2,
   "id": "99391c97-8e1a-4525-a9d0-7f81ba3aa185",
   "metadata": {},
   "outputs": [],
   "source": [
    "data_path = r\"C:\\Users\\User\\Desktop\\DATA SCIENCE\\Projects\\XrayCT-Disease-Detection\\data\\pneumonia_check\\arrays\\pneumonia_detection.npz\"\n",
    "\n",
    "\n",
    "# Load data\n",
    "lung_scans = np.load(data_path)['images']\n",
    "lung_scans_labels = np.load(data_path)['labels']\n"
   ]
  },
  {
   "cell_type": "markdown",
   "id": "991ef1aa-f106-46e0-aa86-bde84dd4838f",
   "metadata": {
    "id": "991ef1aa-f106-46e0-aa86-bde84dd4838f",
    "jp-MarkdownHeadingCollapsed": true
   },
   "source": [
    "#### FUNCTIONS"
   ]
  },
  {
   "cell_type": "code",
   "execution_count": 3,
   "id": "72e1161b-9704-4e24-a5cf-a984aee7497e",
   "metadata": {
    "id": "72e1161b-9704-4e24-a5cf-a984aee7497e"
   },
   "outputs": [],
   "source": [
    "def generate_augmented_images(images, labels, augmentations_per_image=3, zoom_range=(0.9, 1.3)):\n",
    "    augmented_images = []\n",
    "    augmented_labels = []\n",
    "\n",
    "    # Precompute random values for efficiency\n",
    "    num_total_augs = len(images) * augmentations_per_image\n",
    "    random_flips_lr = tf.random.uniform([num_total_augs], 0, 2, dtype=tf.int32)\n",
    "    random_flips_ud = tf.random.uniform([num_total_augs], 0, 2, dtype=tf.int32)\n",
    "    random_rotations = tf.random.uniform([num_total_augs], 0, 4, dtype=tf.int32)\n",
    "    random_brightness = tf.random.uniform([num_total_augs], -0.1, 0.1)\n",
    "    random_contrasts = tf.random.uniform([num_total_augs], 0.8, 1.2)\n",
    "    zoom_factors = tf.random.uniform([num_total_augs], zoom_range[0], zoom_range[1])\n",
    "\n",
    "    # Process images\n",
    "    aug_idx = 0\n",
    "    for img, lbl in zip(images, labels):\n",
    "        # Ensure image is properly shaped for grayscale (h, w, 1)\n",
    "        if len(img.shape) == 2:\n",
    "            img = tf.expand_dims(img, axis=-1)\n",
    "\n",
    "        # Safety check: ensure values are within range [0, 1]\n",
    "        img = tf.clip_by_value(img, 0.0, 1.0)\n",
    "\n",
    "        h, w, c = img.shape\n",
    "\n",
    "        for _ in range(augmentations_per_image):\n",
    "            # Start with a clean copy of the image\n",
    "            aug_img = tf.identity(img)\n",
    "\n",
    "            # Apply random horizontal flip\n",
    "            if random_flips_lr[aug_idx] > 0:\n",
    "                aug_img = tf.image.flip_left_right(aug_img)\n",
    "\n",
    "            # Apply random vertical flip\n",
    "            if random_flips_ud[aug_idx] > 0:\n",
    "                aug_img = tf.image.flip_up_down(aug_img)\n",
    "\n",
    "            # Apply random rotation (90-degree increments)\n",
    "            aug_img = tf.image.rot90(aug_img, k=random_rotations[aug_idx])\n",
    "\n",
    "            # Apply random brightness with safety check\n",
    "            aug_img = tf.image.adjust_brightness(aug_img, random_brightness[aug_idx])\n",
    "            aug_img = tf.clip_by_value(aug_img, 0.0, 1.0)\n",
    "\n",
    "            # Apply random contrast with safety check\n",
    "            aug_img = tf.image.adjust_contrast(aug_img, random_contrasts[aug_idx])\n",
    "            aug_img = tf.clip_by_value(aug_img, 0.0, 1.0)\n",
    "\n",
    "            # Gaussian noise - optimized for grayscale\n",
    "            if tf.random.uniform(()) > 0.7:  # Apply with 30% probability\n",
    "                noise = tf.random.normal(shape=tf.shape(aug_img), mean=0.0, stddev=0.05)\n",
    "                aug_img = tf.clip_by_value(aug_img + noise, 0.0, 1.0)\n",
    "\n",
    "            # Random zoom with more robust logic\n",
    "            zoom_factor = zoom_factors[aug_idx]\n",
    "\n",
    "            try:\n",
    "                if zoom_factor > 1.0:  # Zoom in\n",
    "                    # Ensure new dimensions are at least 1\n",
    "                    new_h = tf.maximum(tf.cast(h / zoom_factor, tf.int32), 1)\n",
    "                    new_w = tf.maximum(tf.cast(w / zoom_factor, tf.int32), 1)\n",
    "\n",
    "                    # Calculate crop position\n",
    "                    top = (h - new_h) // 2\n",
    "                    left = (w - new_w) // 2\n",
    "\n",
    "                    # Ensure valid crop boundaries\n",
    "                    if new_h > 0 and new_w > 0 and top >= 0 and left >= 0:\n",
    "                        aug_img = tf.image.crop_to_bounding_box(aug_img, top, left, new_h, new_w)\n",
    "                        aug_img = tf.image.resize(aug_img, (h, w))\n",
    "                else:  # Zoom out\n",
    "                    # Ensure new dimensions don't exceed int32 max\n",
    "                    new_h = tf.minimum(tf.cast(h * zoom_factor, tf.int32), tf.int32.max)\n",
    "                    new_w = tf.minimum(tf.cast(w * zoom_factor, tf.int32), tf.int32.max)\n",
    "\n",
    "                    # Ensure dimensions are at least 1\n",
    "                    new_h = tf.maximum(new_h, 1)\n",
    "                    new_w = tf.maximum(new_w, 1)\n",
    "\n",
    "                    aug_img = tf.image.resize(aug_img, (new_h, new_w))\n",
    "                    aug_img = tf.image.resize_with_crop_or_pad(aug_img, h, w)\n",
    "            except tf.errors.InvalidArgumentError:\n",
    "                # If zoom causes error, skip this transformation\n",
    "                pass\n",
    "\n",
    "            # Random gamma adjustment with safety check\n",
    "            if tf.random.uniform(()) > 0.7:\n",
    "                gamma = tf.random.uniform([], 0.8, 1.2)\n",
    "                aug_img = tf.image.adjust_gamma(aug_img, gamma)\n",
    "                aug_img = tf.clip_by_value(aug_img, 0.0, 1.0)\n",
    "\n",
    "            # Random cutout (masking) - safer version\n",
    "            if tf.random.uniform(()) > 0.8:  # Apply with 20% probability\n",
    "                mask_size_h = tf.maximum(tf.cast(h * tf.random.uniform([], 0.1, 0.2), tf.int32), 1)\n",
    "                mask_size_w = tf.maximum(tf.cast(w * tf.random.uniform([], 0.1, 0.2), tf.int32), 1)\n",
    "\n",
    "                # Ensure mask position is valid\n",
    "                mask_y = tf.minimum(tf.random.uniform([], 0, h - mask_size_h, dtype=tf.int32), h - 1)\n",
    "                mask_x = tf.minimum(tf.random.uniform([], 0, w - mask_size_w, dtype=tf.int32), w - 1)\n",
    "\n",
    "                # Create mask\n",
    "                mask = tf.zeros([mask_size_h, mask_size_w, 1]) + 0.5  # Gray mask\n",
    "                paddings = [[mask_y, h - mask_y - mask_size_h],\n",
    "                           [mask_x, w - mask_x - mask_size_w],\n",
    "                           [0, 0]]\n",
    "\n",
    "                # Ensure paddings are valid\n",
    "                paddings = tf.maximum(paddings, 0)\n",
    "\n",
    "                mask = tf.pad(mask, paddings)\n",
    "                mask = tf.cast(mask > 0, aug_img.dtype)\n",
    "                aug_img = aug_img * (1 - mask) + mask * 0.5\n",
    "\n",
    "            # Final safety check\n",
    "            aug_img = tf.clip_by_value(aug_img, 0.0, 1.0)\n",
    "\n",
    "            # Check for NaN values and replace with safe values\n",
    "            aug_img = tf.where(tf.math.is_nan(aug_img), tf.zeros_like(aug_img), aug_img)\n",
    "\n",
    "            # Append the augmented image\n",
    "            augmented_images.append(aug_img.numpy())\n",
    "            augmented_labels.append(lbl)\n",
    "            aug_idx += 1\n",
    "\n",
    "    return np.array(augmented_images), np.array(augmented_labels)"
   ]
  },
  {
   "cell_type": "markdown",
   "id": "v47rIQaPyUxD",
   "metadata": {
    "id": "v47rIQaPyUxD"
   },
   "source": [
    "Here i applied the same changed version of augmentatioon function as in case with tuberculosis"
   ]
  },
  {
   "cell_type": "code",
   "execution_count": 4,
   "id": "d94e0ee1-870c-45e6-a384-1677d7ae7f04",
   "metadata": {
    "id": "d94e0ee1-870c-45e6-a384-1677d7ae7f04"
   },
   "outputs": [],
   "source": [
    "def display_examples(images, labels, num_examples=5):\n",
    "    plt.figure(figsize=(10, 10))\n",
    "\n",
    "    for i in range(num_examples):\n",
    "        ax = plt.subplot(1, num_examples, i + 1)\n",
    "        ax.imshow(images[i])  # Display the image\n",
    "        ax.set_title(f\"Label: {labels[i]}\")  # Display the label\n",
    "        ax.axis(\"off\")  # Hide axes\n",
    "\n",
    "    plt.show()"
   ]
  },
  {
   "cell_type": "code",
   "execution_count": 5,
   "id": "f7f0d168-5102-4488-8f69-7c10ceb29192",
   "metadata": {
    "id": "f7f0d168-5102-4488-8f69-7c10ceb29192"
   },
   "outputs": [],
   "source": [
    "lung_scans , lung_scans_labels = generate_augmented_images( images = lung_scans ,\n",
    "                                                            labels = lung_scans_labels ,\n",
    "                                                            augmentations_per_image = 2 )"
   ]
  },
  {
   "cell_type": "code",
   "execution_count": 6,
   "id": "e2f6389d-1624-45ff-a48c-065d2d8459d4",
   "metadata": {
    "colab": {
     "base_uri": "https://localhost:8080/",
     "height": 113
    },
    "executionInfo": {
     "elapsed": 940,
     "status": "ok",
     "timestamp": 1742397117651,
     "user": {
      "displayName": "Prodigy",
      "userId": "02895624965658676832"
     },
     "user_tz": -300
    },
    "id": "e2f6389d-1624-45ff-a48c-065d2d8459d4",
    "outputId": "9a9cd495-207e-4c49-de5f-a60258856552"
   },
   "outputs": [
    {
     "data": {
      "image/png": "[encoded data removed]",
      "text/plain": [
       "<Figure size 1000x1000 with 12 Axes>"
      ]
     },
     "metadata": {},
     "output_type": "display_data"
    }
   ],
   "source": [
    "display_examples(images = lung_scans,\n",
    "                 labels = lung_scans_labels,\n",
    "                 num_examples=12)"
   ]
  },
  {
   "cell_type": "code",
   "execution_count": 7,
   "id": "2064c876-32fb-4d93-a878-d469320918b5",
   "metadata": {
    "colab": {
     "base_uri": "https://localhost:8080/"
    },
    "executionInfo": {
     "elapsed": 10,
     "status": "ok",
     "timestamp": 1742397121075,
     "user": {
      "displayName": "Prodigy",
      "userId": "02895624965658676832"
     },
     "user_tz": -300
    },
    "id": "2064c876-32fb-4d93-a878-d469320918b5",
    "outputId": "93f1d87a-02cb-4691-9b75-93780b5ee2d0"
   },
   "outputs": [
    {
     "data": {
      "text/plain": [
       "(16018, 224, 224, 1)"
      ]
     },
     "execution_count": 7,
     "metadata": {},
     "output_type": "execute_result"
    }
   ],
   "source": [
    "lung_scans.shape"
   ]
  },
  {
   "cell_type": "markdown",
   "id": "6bd89849-0e2c-4c82-bfec-c023a85ddcf0",
   "metadata": {
    "id": "6bd89849-0e2c-4c82-bfec-c023a85ddcf0"
   },
   "source": [
    "## CLEAN & PREPARE"
   ]
  },
  {
   "cell_type": "markdown",
   "id": "cbf0904b-e0b0-4353-8cf4-ae4a0a90ea4e",
   "metadata": {
    "id": "cbf0904b-e0b0-4353-8cf4-ae4a0a90ea4e",
    "jp-MarkdownHeadingCollapsed": true
   },
   "source": [
    "#### PREPARE DATA FOR MODEL BUILDING"
   ]
  },
  {
   "cell_type": "code",
   "execution_count": 8,
   "id": "be93204f-74db-4023-af0b-3f11a563143a",
   "metadata": {
    "id": "be93204f-74db-4023-af0b-3f11a563143a"
   },
   "outputs": [],
   "source": [
    "lung_scans_train , lung_scans_test , lung_scans_labels_train , lung_scans_labels_test =  train_test_split(\n",
    "    lung_scans ,\n",
    "    lung_scans_labels ,\n",
    "    train_size = 0.95 ,\n",
    "    stratify = lung_scans_labels ,\n",
    "    random_state = 42\n",
    ")\n",
    "\n",
    "lung_scans_train , lung_scans_validation , lung_scans_labels_train , lung_scans_labels_validation  =  train_test_split(\n",
    "    lung_scans_train ,\n",
    "    lung_scans_labels_train ,\n",
    "    train_size = 0.95 ,\n",
    "    stratify = lung_scans_labels_train ,\n",
    "    random_state = 42\n",
    ")"
   ]
  },
  {
   "cell_type": "code",
   "execution_count": 9,
   "id": "cee8702d-ca54-4cc8-b48c-7d80e37696a4",
   "metadata": {
    "colab": {
     "base_uri": "https://localhost:8080/"
    },
    "executionInfo": {
     "elapsed": 5,
     "status": "ok",
     "timestamp": 1742397151638,
     "user": {
      "displayName": "Prodigy",
      "userId": "02895624965658676832"
     },
     "user_tz": -300
    },
    "id": "cee8702d-ca54-4cc8-b48c-7d80e37696a4",
    "outputId": "14836a69-b65e-434c-866f-8608936a0c79"
   },
   "outputs": [
    {
     "name": "stdout",
     "output_type": "stream",
     "text": [
      "IMAGE ARRAYS SHAPES (TRAIN - TEST - VALIDATION) : ((14456, 224, 224, 1), (801, 224, 224, 1), (761, 224, 224, 1))\n"
     ]
    }
   ],
   "source": [
    "print(f'IMAGE ARRAYS SHAPES (TRAIN - TEST - VALIDATION) : {lung_scans_train.shape , lung_scans_test.shape , lung_scans_validation.shape }')"
   ]
  },
  {
   "cell_type": "code",
   "execution_count": 10,
   "id": "bb0b8b0e-8bd3-4efd-bf5f-fb86af0361ba",
   "metadata": {},
   "outputs": [
    {
     "data": {
      "text/plain": [
       "1    0.555479\n",
       "0    0.444521\n",
       "Name: proportion, dtype: float64"
      ]
     },
     "execution_count": 10,
     "metadata": {},
     "output_type": "execute_result"
    }
   ],
   "source": [
    "pd.Series(lung_scans_labels_train).value_counts(normalize = True)"
   ]
  },
  {
   "cell_type": "markdown",
   "id": "20d539c4-566d-4a43-a709-5e0102ade2a2",
   "metadata": {
    "id": "20d539c4-566d-4a43-a709-5e0102ade2a2"
   },
   "source": [
    "## MODEL BUILD"
   ]
  },
  {
   "cell_type": "code",
   "execution_count": 11,
   "id": "ca2a609d-ec63-4996-9186-f586c3e9dacc",
   "metadata": {
    "id": "ca2a609d-ec63-4996-9186-f586c3e9dacc"
   },
   "outputs": [],
   "source": [
    "from tensorflow.keras import models , layers , optimizers , losses , callbacks , regularizers"
   ]
  },
  {
   "cell_type": "markdown",
   "id": "4d7651b2-b33a-43ab-8cb1-fc87bdaebf14",
   "metadata": {
    "id": "4d7651b2-b33a-43ab-8cb1-fc87bdaebf14",
    "jp-MarkdownHeadingCollapsed": true
   },
   "source": [
    "#### STRUCTURE"
   ]
  },
  {
   "cell_type": "code",
   "execution_count": 17,
   "id": "22248410-2015-4f3b-83e9-6828f94d810e",
   "metadata": {
    "id": "22248410-2015-4f3b-83e9-6828f94d810e"
   },
   "outputs": [],
   "source": [
    "lung_scans_sequential_neural_net = models.Sequential( [\n",
    "\n",
    "    layers.Conv2D( filters = 32 ,\n",
    "                   kernel_size = (3,3),\n",
    "                   activation = 'relu'),\n",
    "    layers.MaxPool2D(pool_size = (2,2)),\n",
    "    layers.BatchNormalization(),\n",
    "    layers.Dropout(rate = 0.3) ,\n",
    "\n",
    "    layers.Conv2D( filters = 64 ,\n",
    "                   kernel_size = (3,3),\n",
    "                   activation = 'relu'),\n",
    "    layers.MaxPool2D(pool_size = (2,2)),\n",
    "    layers.BatchNormalization(),\n",
    "    layers.Dropout(rate = 0.3) ,\n",
    "\n",
    "    layers.Conv2D( filters = 128 ,\n",
    "                   kernel_size = (3,3),\n",
    "                   activation = 'relu'),\n",
    "    layers.MaxPool2D(pool_size = (2,2)),\n",
    "    layers.BatchNormalization(),\n",
    "    layers.Dropout(rate = 0.3) ,\n",
    "\n",
    "    layers.Conv2D( filters = 256 ,\n",
    "                   kernel_size = (3,3),\n",
    "                   activation = 'relu'),\n",
    "    layers.MaxPool2D(pool_size = (2,2)),\n",
    "    layers.BatchNormalization(),\n",
    "    layers.Dropout(rate = 0.3) \n",
    "\n",
    "] )"
   ]
  },
  {
   "cell_type": "code",
   "execution_count": 18,
   "id": "6e6c1311-24c0-4d0e-841d-ba459204f090",
   "metadata": {
    "id": "6e6c1311-24c0-4d0e-841d-ba459204f090"
   },
   "outputs": [],
   "source": [
    "\n",
    "\n",
    "lung_scans_sequential_neural_net.add( layers.GlobalAveragePooling2D() )\n",
    "\n",
    "\n",
    "lung_scans_sequential_neural_net.add( layers.Dense(units = 128,\n",
    "                                                   activation = 'relu') )\n",
    "\n",
    "lung_scans_sequential_neural_net.add( layers.Dropout(rate = 0.5) )\n",
    "\n",
    "lung_scans_sequential_neural_net.add( layers.Dense(units = 128,\n",
    "                                                   activation = 'relu') )\n",
    "\n",
    "lung_scans_sequential_neural_net.add( layers.Dense(units = 1,\n",
    "                                                   activation = 'sigmoid') )\n"
   ]
  },
  {
   "cell_type": "code",
   "execution_count": 19,
   "id": "2d6c5f7a-e478-4067-93b7-e7ec0a175c99",
   "metadata": {
    "id": "2d6c5f7a-e478-4067-93b7-e7ec0a175c99"
   },
   "outputs": [],
   "source": [
    "lung_scans_sequential_neural_net.build( input_shape = (lung_scans_train.shape) )"
   ]
  },
  {
   "cell_type": "code",
   "execution_count": 20,
   "id": "194a9bb3-9b17-4068-8eb8-3e32772dfd48",
   "metadata": {
    "colab": {
     "base_uri": "https://localhost:8080/"
    },
    "executionInfo": {
     "elapsed": 66,
     "status": "ok",
     "timestamp": 1742397164412,
     "user": {
      "displayName": "Prodigy",
      "userId": "02895624965658676832"
     },
     "user_tz": -300
    },
    "id": "194a9bb3-9b17-4068-8eb8-3e32772dfd48",
    "outputId": "9ee69b76-68a1-4f1e-cb7b-be1efe639bec"
   },
   "outputs": [
    {
     "data": {
      "text/html": [
       "<pre style=\"white-space:pre;overflow-x:auto;line-height:normal;font-family:Menlo,'DejaVu Sans Mono',consolas,'Courier New',monospace\"><span style=\"font-weight: bold\">Model: \"sequential_1\"</span>\n",
       "</pre>\n"
      ],
      "text/plain": [
       "\u001b[1mModel: \"sequential_1\"\u001b[0m\n"
      ]
     },
     "metadata": {},
     "output_type": "display_data"
    },
    {
     "data": {
      "text/html": [
       "<pre style=\"white-space:pre;overflow-x:auto;line-height:normal;font-family:Menlo,'DejaVu Sans Mono',consolas,'Courier New',monospace\">┏━━━━━━━━━━━━━━━━━━━━━━━━━━━━━━━━━━━━━━┳━━━━━━━━━━━━━━━━━━━━━━━━━━━━━┳━━━━━━━━━━━━━━━━━┓\n",
       "┃<span style=\"font-weight: bold\"> Layer (type)                         </span>┃<span style=\"font-weight: bold\"> Output Shape                </span>┃<span style=\"font-weight: bold\">         Param # </span>┃\n",
       "┡━━━━━━━━━━━━━━━━━━━━━━━━━━━━━━━━━━━━━━╇━━━━━━━━━━━━━━━━━━━━━━━━━━━━━╇━━━━━━━━━━━━━━━━━┩\n",
       "│ conv2d_4 (<span style=\"color: #0087ff; text-decoration-color: #0087ff\">Conv2D</span>)                    │ (<span style=\"color: #00af00; text-decoration-color: #00af00\">14456</span>, <span style=\"color: #00af00; text-decoration-color: #00af00\">222</span>, <span style=\"color: #00af00; text-decoration-color: #00af00\">222</span>, <span style=\"color: #00af00; text-decoration-color: #00af00\">32</span>)       │             <span style=\"color: #00af00; text-decoration-color: #00af00\">320</span> │\n",
       "├──────────────────────────────────────┼─────────────────────────────┼─────────────────┤\n",
       "│ max_pooling2d_4 (<span style=\"color: #0087ff; text-decoration-color: #0087ff\">MaxPooling2D</span>)       │ (<span style=\"color: #00af00; text-decoration-color: #00af00\">14456</span>, <span style=\"color: #00af00; text-decoration-color: #00af00\">111</span>, <span style=\"color: #00af00; text-decoration-color: #00af00\">111</span>, <span style=\"color: #00af00; text-decoration-color: #00af00\">32</span>)       │               <span style=\"color: #00af00; text-decoration-color: #00af00\">0</span> │\n",
       "├──────────────────────────────────────┼─────────────────────────────┼─────────────────┤\n",
       "│ batch_normalization_4                │ (<span style=\"color: #00af00; text-decoration-color: #00af00\">14456</span>, <span style=\"color: #00af00; text-decoration-color: #00af00\">111</span>, <span style=\"color: #00af00; text-decoration-color: #00af00\">111</span>, <span style=\"color: #00af00; text-decoration-color: #00af00\">32</span>)       │             <span style=\"color: #00af00; text-decoration-color: #00af00\">128</span> │\n",
       "│ (<span style=\"color: #0087ff; text-decoration-color: #0087ff\">BatchNormalization</span>)                 │                             │                 │\n",
       "├──────────────────────────────────────┼─────────────────────────────┼─────────────────┤\n",
       "│ dropout_5 (<span style=\"color: #0087ff; text-decoration-color: #0087ff\">Dropout</span>)                  │ (<span style=\"color: #00af00; text-decoration-color: #00af00\">14456</span>, <span style=\"color: #00af00; text-decoration-color: #00af00\">111</span>, <span style=\"color: #00af00; text-decoration-color: #00af00\">111</span>, <span style=\"color: #00af00; text-decoration-color: #00af00\">32</span>)       │               <span style=\"color: #00af00; text-decoration-color: #00af00\">0</span> │\n",
       "├──────────────────────────────────────┼─────────────────────────────┼─────────────────┤\n",
       "│ conv2d_5 (<span style=\"color: #0087ff; text-decoration-color: #0087ff\">Conv2D</span>)                    │ (<span style=\"color: #00af00; text-decoration-color: #00af00\">14456</span>, <span style=\"color: #00af00; text-decoration-color: #00af00\">109</span>, <span style=\"color: #00af00; text-decoration-color: #00af00\">109</span>, <span style=\"color: #00af00; text-decoration-color: #00af00\">64</span>)       │          <span style=\"color: #00af00; text-decoration-color: #00af00\">18,496</span> │\n",
       "├──────────────────────────────────────┼─────────────────────────────┼─────────────────┤\n",
       "│ max_pooling2d_5 (<span style=\"color: #0087ff; text-decoration-color: #0087ff\">MaxPooling2D</span>)       │ (<span style=\"color: #00af00; text-decoration-color: #00af00\">14456</span>, <span style=\"color: #00af00; text-decoration-color: #00af00\">54</span>, <span style=\"color: #00af00; text-decoration-color: #00af00\">54</span>, <span style=\"color: #00af00; text-decoration-color: #00af00\">64</span>)         │               <span style=\"color: #00af00; text-decoration-color: #00af00\">0</span> │\n",
       "├──────────────────────────────────────┼─────────────────────────────┼─────────────────┤\n",
       "│ batch_normalization_5                │ (<span style=\"color: #00af00; text-decoration-color: #00af00\">14456</span>, <span style=\"color: #00af00; text-decoration-color: #00af00\">54</span>, <span style=\"color: #00af00; text-decoration-color: #00af00\">54</span>, <span style=\"color: #00af00; text-decoration-color: #00af00\">64</span>)         │             <span style=\"color: #00af00; text-decoration-color: #00af00\">256</span> │\n",
       "│ (<span style=\"color: #0087ff; text-decoration-color: #0087ff\">BatchNormalization</span>)                 │                             │                 │\n",
       "├──────────────────────────────────────┼─────────────────────────────┼─────────────────┤\n",
       "│ dropout_6 (<span style=\"color: #0087ff; text-decoration-color: #0087ff\">Dropout</span>)                  │ (<span style=\"color: #00af00; text-decoration-color: #00af00\">14456</span>, <span style=\"color: #00af00; text-decoration-color: #00af00\">54</span>, <span style=\"color: #00af00; text-decoration-color: #00af00\">54</span>, <span style=\"color: #00af00; text-decoration-color: #00af00\">64</span>)         │               <span style=\"color: #00af00; text-decoration-color: #00af00\">0</span> │\n",
       "├──────────────────────────────────────┼─────────────────────────────┼─────────────────┤\n",
       "│ conv2d_6 (<span style=\"color: #0087ff; text-decoration-color: #0087ff\">Conv2D</span>)                    │ (<span style=\"color: #00af00; text-decoration-color: #00af00\">14456</span>, <span style=\"color: #00af00; text-decoration-color: #00af00\">52</span>, <span style=\"color: #00af00; text-decoration-color: #00af00\">52</span>, <span style=\"color: #00af00; text-decoration-color: #00af00\">128</span>)        │          <span style=\"color: #00af00; text-decoration-color: #00af00\">73,856</span> │\n",
       "├──────────────────────────────────────┼─────────────────────────────┼─────────────────┤\n",
       "│ max_pooling2d_6 (<span style=\"color: #0087ff; text-decoration-color: #0087ff\">MaxPooling2D</span>)       │ (<span style=\"color: #00af00; text-decoration-color: #00af00\">14456</span>, <span style=\"color: #00af00; text-decoration-color: #00af00\">26</span>, <span style=\"color: #00af00; text-decoration-color: #00af00\">26</span>, <span style=\"color: #00af00; text-decoration-color: #00af00\">128</span>)        │               <span style=\"color: #00af00; text-decoration-color: #00af00\">0</span> │\n",
       "├──────────────────────────────────────┼─────────────────────────────┼─────────────────┤\n",
       "│ batch_normalization_6                │ (<span style=\"color: #00af00; text-decoration-color: #00af00\">14456</span>, <span style=\"color: #00af00; text-decoration-color: #00af00\">26</span>, <span style=\"color: #00af00; text-decoration-color: #00af00\">26</span>, <span style=\"color: #00af00; text-decoration-color: #00af00\">128</span>)        │             <span style=\"color: #00af00; text-decoration-color: #00af00\">512</span> │\n",
       "│ (<span style=\"color: #0087ff; text-decoration-color: #0087ff\">BatchNormalization</span>)                 │                             │                 │\n",
       "├──────────────────────────────────────┼─────────────────────────────┼─────────────────┤\n",
       "│ dropout_7 (<span style=\"color: #0087ff; text-decoration-color: #0087ff\">Dropout</span>)                  │ (<span style=\"color: #00af00; text-decoration-color: #00af00\">14456</span>, <span style=\"color: #00af00; text-decoration-color: #00af00\">26</span>, <span style=\"color: #00af00; text-decoration-color: #00af00\">26</span>, <span style=\"color: #00af00; text-decoration-color: #00af00\">128</span>)        │               <span style=\"color: #00af00; text-decoration-color: #00af00\">0</span> │\n",
       "├──────────────────────────────────────┼─────────────────────────────┼─────────────────┤\n",
       "│ conv2d_7 (<span style=\"color: #0087ff; text-decoration-color: #0087ff\">Conv2D</span>)                    │ (<span style=\"color: #00af00; text-decoration-color: #00af00\">14456</span>, <span style=\"color: #00af00; text-decoration-color: #00af00\">24</span>, <span style=\"color: #00af00; text-decoration-color: #00af00\">24</span>, <span style=\"color: #00af00; text-decoration-color: #00af00\">256</span>)        │         <span style=\"color: #00af00; text-decoration-color: #00af00\">295,168</span> │\n",
       "├──────────────────────────────────────┼─────────────────────────────┼─────────────────┤\n",
       "│ max_pooling2d_7 (<span style=\"color: #0087ff; text-decoration-color: #0087ff\">MaxPooling2D</span>)       │ (<span style=\"color: #00af00; text-decoration-color: #00af00\">14456</span>, <span style=\"color: #00af00; text-decoration-color: #00af00\">12</span>, <span style=\"color: #00af00; text-decoration-color: #00af00\">12</span>, <span style=\"color: #00af00; text-decoration-color: #00af00\">256</span>)        │               <span style=\"color: #00af00; text-decoration-color: #00af00\">0</span> │\n",
       "├──────────────────────────────────────┼─────────────────────────────┼─────────────────┤\n",
       "│ batch_normalization_7                │ (<span style=\"color: #00af00; text-decoration-color: #00af00\">14456</span>, <span style=\"color: #00af00; text-decoration-color: #00af00\">12</span>, <span style=\"color: #00af00; text-decoration-color: #00af00\">12</span>, <span style=\"color: #00af00; text-decoration-color: #00af00\">256</span>)        │           <span style=\"color: #00af00; text-decoration-color: #00af00\">1,024</span> │\n",
       "│ (<span style=\"color: #0087ff; text-decoration-color: #0087ff\">BatchNormalization</span>)                 │                             │                 │\n",
       "├──────────────────────────────────────┼─────────────────────────────┼─────────────────┤\n",
       "│ dropout_8 (<span style=\"color: #0087ff; text-decoration-color: #0087ff\">Dropout</span>)                  │ (<span style=\"color: #00af00; text-decoration-color: #00af00\">14456</span>, <span style=\"color: #00af00; text-decoration-color: #00af00\">12</span>, <span style=\"color: #00af00; text-decoration-color: #00af00\">12</span>, <span style=\"color: #00af00; text-decoration-color: #00af00\">256</span>)        │               <span style=\"color: #00af00; text-decoration-color: #00af00\">0</span> │\n",
       "├──────────────────────────────────────┼─────────────────────────────┼─────────────────┤\n",
       "│ global_average_pooling2d_2           │ (<span style=\"color: #00af00; text-decoration-color: #00af00\">14456</span>, <span style=\"color: #00af00; text-decoration-color: #00af00\">256</span>)                │               <span style=\"color: #00af00; text-decoration-color: #00af00\">0</span> │\n",
       "│ (<span style=\"color: #0087ff; text-decoration-color: #0087ff\">GlobalAveragePooling2D</span>)             │                             │                 │\n",
       "├──────────────────────────────────────┼─────────────────────────────┼─────────────────┤\n",
       "│ dense_2 (<span style=\"color: #0087ff; text-decoration-color: #0087ff\">Dense</span>)                      │ (<span style=\"color: #00af00; text-decoration-color: #00af00\">14456</span>, <span style=\"color: #00af00; text-decoration-color: #00af00\">128</span>)                │          <span style=\"color: #00af00; text-decoration-color: #00af00\">32,896</span> │\n",
       "├──────────────────────────────────────┼─────────────────────────────┼─────────────────┤\n",
       "│ dropout_9 (<span style=\"color: #0087ff; text-decoration-color: #0087ff\">Dropout</span>)                  │ (<span style=\"color: #00af00; text-decoration-color: #00af00\">14456</span>, <span style=\"color: #00af00; text-decoration-color: #00af00\">128</span>)                │               <span style=\"color: #00af00; text-decoration-color: #00af00\">0</span> │\n",
       "├──────────────────────────────────────┼─────────────────────────────┼─────────────────┤\n",
       "│ dense_3 (<span style=\"color: #0087ff; text-decoration-color: #0087ff\">Dense</span>)                      │ (<span style=\"color: #00af00; text-decoration-color: #00af00\">14456</span>, <span style=\"color: #00af00; text-decoration-color: #00af00\">128</span>)                │          <span style=\"color: #00af00; text-decoration-color: #00af00\">16,512</span> │\n",
       "├──────────────────────────────────────┼─────────────────────────────┼─────────────────┤\n",
       "│ dense_4 (<span style=\"color: #0087ff; text-decoration-color: #0087ff\">Dense</span>)                      │ (<span style=\"color: #00af00; text-decoration-color: #00af00\">14456</span>, <span style=\"color: #00af00; text-decoration-color: #00af00\">1</span>)                  │             <span style=\"color: #00af00; text-decoration-color: #00af00\">129</span> │\n",
       "└──────────────────────────────────────┴─────────────────────────────┴─────────────────┘\n",
       "</pre>\n"
      ],
      "text/plain": [
       "┏━━━━━━━━━━━━━━━━━━━━━━━━━━━━━━━━━━━━━━┳━━━━━━━━━━━━━━━━━━━━━━━━━━━━━┳━━━━━━━━━━━━━━━━━┓\n",
       "┃\u001b[1m \u001b[0m\u001b[1mLayer (type)                        \u001b[0m\u001b[1m \u001b[0m┃\u001b[1m \u001b[0m\u001b[1mOutput Shape               \u001b[0m\u001b[1m \u001b[0m┃\u001b[1m \u001b[0m\u001b[1m        Param #\u001b[0m\u001b[1m \u001b[0m┃\n",
       "┡━━━━━━━━━━━━━━━━━━━━━━━━━━━━━━━━━━━━━━╇━━━━━━━━━━━━━━━━━━━━━━━━━━━━━╇━━━━━━━━━━━━━━━━━┩\n",
       "│ conv2d_4 (\u001b[38;5;33mConv2D\u001b[0m)                    │ (\u001b[38;5;34m14456\u001b[0m, \u001b[38;5;34m222\u001b[0m, \u001b[38;5;34m222\u001b[0m, \u001b[38;5;34m32\u001b[0m)       │             \u001b[38;5;34m320\u001b[0m │\n",
       "├──────────────────────────────────────┼─────────────────────────────┼─────────────────┤\n",
       "│ max_pooling2d_4 (\u001b[38;5;33mMaxPooling2D\u001b[0m)       │ (\u001b[38;5;34m14456\u001b[0m, \u001b[38;5;34m111\u001b[0m, \u001b[38;5;34m111\u001b[0m, \u001b[38;5;34m32\u001b[0m)       │               \u001b[38;5;34m0\u001b[0m │\n",
       "├──────────────────────────────────────┼─────────────────────────────┼─────────────────┤\n",
       "│ batch_normalization_4                │ (\u001b[38;5;34m14456\u001b[0m, \u001b[38;5;34m111\u001b[0m, \u001b[38;5;34m111\u001b[0m, \u001b[38;5;34m32\u001b[0m)       │             \u001b[38;5;34m128\u001b[0m │\n",
       "│ (\u001b[38;5;33mBatchNormalization\u001b[0m)                 │                             │                 │\n",
       "├──────────────────────────────────────┼─────────────────────────────┼─────────────────┤\n",
       "│ dropout_5 (\u001b[38;5;33mDropout\u001b[0m)                  │ (\u001b[38;5;34m14456\u001b[0m, \u001b[38;5;34m111\u001b[0m, \u001b[38;5;34m111\u001b[0m, \u001b[38;5;34m32\u001b[0m)       │               \u001b[38;5;34m0\u001b[0m │\n",
       "├──────────────────────────────────────┼─────────────────────────────┼─────────────────┤\n",
       "│ conv2d_5 (\u001b[38;5;33mConv2D\u001b[0m)                    │ (\u001b[38;5;34m14456\u001b[0m, \u001b[38;5;34m109\u001b[0m, \u001b[38;5;34m109\u001b[0m, \u001b[38;5;34m64\u001b[0m)       │          \u001b[38;5;34m18,496\u001b[0m │\n",
       "├──────────────────────────────────────┼─────────────────────────────┼─────────────────┤\n",
       "│ max_pooling2d_5 (\u001b[38;5;33mMaxPooling2D\u001b[0m)       │ (\u001b[38;5;34m14456\u001b[0m, \u001b[38;5;34m54\u001b[0m, \u001b[38;5;34m54\u001b[0m, \u001b[38;5;34m64\u001b[0m)         │               \u001b[38;5;34m0\u001b[0m │\n",
       "├──────────────────────────────────────┼─────────────────────────────┼─────────────────┤\n",
       "│ batch_normalization_5                │ (\u001b[38;5;34m14456\u001b[0m, \u001b[38;5;34m54\u001b[0m, \u001b[38;5;34m54\u001b[0m, \u001b[38;5;34m64\u001b[0m)         │             \u001b[38;5;34m256\u001b[0m │\n",
       "│ (\u001b[38;5;33mBatchNormalization\u001b[0m)                 │                             │                 │\n",
       "├──────────────────────────────────────┼─────────────────────────────┼─────────────────┤\n",
       "│ dropout_6 (\u001b[38;5;33mDropout\u001b[0m)                  │ (\u001b[38;5;34m14456\u001b[0m, \u001b[38;5;34m54\u001b[0m, \u001b[38;5;34m54\u001b[0m, \u001b[38;5;34m64\u001b[0m)         │               \u001b[38;5;34m0\u001b[0m │\n",
       "├──────────────────────────────────────┼─────────────────────────────┼─────────────────┤\n",
       "│ conv2d_6 (\u001b[38;5;33mConv2D\u001b[0m)                    │ (\u001b[38;5;34m14456\u001b[0m, \u001b[38;5;34m52\u001b[0m, \u001b[38;5;34m52\u001b[0m, \u001b[38;5;34m128\u001b[0m)        │          \u001b[38;5;34m73,856\u001b[0m │\n",
       "├──────────────────────────────────────┼─────────────────────────────┼─────────────────┤\n",
       "│ max_pooling2d_6 (\u001b[38;5;33mMaxPooling2D\u001b[0m)       │ (\u001b[38;5;34m14456\u001b[0m, \u001b[38;5;34m26\u001b[0m, \u001b[38;5;34m26\u001b[0m, \u001b[38;5;34m128\u001b[0m)        │               \u001b[38;5;34m0\u001b[0m │\n",
       "├──────────────────────────────────────┼─────────────────────────────┼─────────────────┤\n",
       "│ batch_normalization_6                │ (\u001b[38;5;34m14456\u001b[0m, \u001b[38;5;34m26\u001b[0m, \u001b[38;5;34m26\u001b[0m, \u001b[38;5;34m128\u001b[0m)        │             \u001b[38;5;34m512\u001b[0m │\n",
       "│ (\u001b[38;5;33mBatchNormalization\u001b[0m)                 │                             │                 │\n",
       "├──────────────────────────────────────┼─────────────────────────────┼─────────────────┤\n",
       "│ dropout_7 (\u001b[38;5;33mDropout\u001b[0m)                  │ (\u001b[38;5;34m14456\u001b[0m, \u001b[38;5;34m26\u001b[0m, \u001b[38;5;34m26\u001b[0m, \u001b[38;5;34m128\u001b[0m)        │               \u001b[38;5;34m0\u001b[0m │\n",
       "├──────────────────────────────────────┼─────────────────────────────┼─────────────────┤\n",
       "│ conv2d_7 (\u001b[38;5;33mConv2D\u001b[0m)                    │ (\u001b[38;5;34m14456\u001b[0m, \u001b[38;5;34m24\u001b[0m, \u001b[38;5;34m24\u001b[0m, \u001b[38;5;34m256\u001b[0m)        │         \u001b[38;5;34m295,168\u001b[0m │\n",
       "├──────────────────────────────────────┼─────────────────────────────┼─────────────────┤\n",
       "│ max_pooling2d_7 (\u001b[38;5;33mMaxPooling2D\u001b[0m)       │ (\u001b[38;5;34m14456\u001b[0m, \u001b[38;5;34m12\u001b[0m, \u001b[38;5;34m12\u001b[0m, \u001b[38;5;34m256\u001b[0m)        │               \u001b[38;5;34m0\u001b[0m │\n",
       "├──────────────────────────────────────┼─────────────────────────────┼─────────────────┤\n",
       "│ batch_normalization_7                │ (\u001b[38;5;34m14456\u001b[0m, \u001b[38;5;34m12\u001b[0m, \u001b[38;5;34m12\u001b[0m, \u001b[38;5;34m256\u001b[0m)        │           \u001b[38;5;34m1,024\u001b[0m │\n",
       "│ (\u001b[38;5;33mBatchNormalization\u001b[0m)                 │                             │                 │\n",
       "├──────────────────────────────────────┼─────────────────────────────┼─────────────────┤\n",
       "│ dropout_8 (\u001b[38;5;33mDropout\u001b[0m)                  │ (\u001b[38;5;34m14456\u001b[0m, \u001b[38;5;34m12\u001b[0m, \u001b[38;5;34m12\u001b[0m, \u001b[38;5;34m256\u001b[0m)        │               \u001b[38;5;34m0\u001b[0m │\n",
       "├──────────────────────────────────────┼─────────────────────────────┼─────────────────┤\n",
       "│ global_average_pooling2d_2           │ (\u001b[38;5;34m14456\u001b[0m, \u001b[38;5;34m256\u001b[0m)                │               \u001b[38;5;34m0\u001b[0m │\n",
       "│ (\u001b[38;5;33mGlobalAveragePooling2D\u001b[0m)             │                             │                 │\n",
       "├──────────────────────────────────────┼─────────────────────────────┼─────────────────┤\n",
       "│ dense_2 (\u001b[38;5;33mDense\u001b[0m)                      │ (\u001b[38;5;34m14456\u001b[0m, \u001b[38;5;34m128\u001b[0m)                │          \u001b[38;5;34m32,896\u001b[0m │\n",
       "├──────────────────────────────────────┼─────────────────────────────┼─────────────────┤\n",
       "│ dropout_9 (\u001b[38;5;33mDropout\u001b[0m)                  │ (\u001b[38;5;34m14456\u001b[0m, \u001b[38;5;34m128\u001b[0m)                │               \u001b[38;5;34m0\u001b[0m │\n",
       "├──────────────────────────────────────┼─────────────────────────────┼─────────────────┤\n",
       "│ dense_3 (\u001b[38;5;33mDense\u001b[0m)                      │ (\u001b[38;5;34m14456\u001b[0m, \u001b[38;5;34m128\u001b[0m)                │          \u001b[38;5;34m16,512\u001b[0m │\n",
       "├──────────────────────────────────────┼─────────────────────────────┼─────────────────┤\n",
       "│ dense_4 (\u001b[38;5;33mDense\u001b[0m)                      │ (\u001b[38;5;34m14456\u001b[0m, \u001b[38;5;34m1\u001b[0m)                  │             \u001b[38;5;34m129\u001b[0m │\n",
       "└──────────────────────────────────────┴─────────────────────────────┴─────────────────┘\n"
      ]
     },
     "metadata": {},
     "output_type": "display_data"
    },
    {
     "data": {
      "text/html": [
       "<pre style=\"white-space:pre;overflow-x:auto;line-height:normal;font-family:Menlo,'DejaVu Sans Mono',consolas,'Courier New',monospace\"><span style=\"font-weight: bold\"> Total params: </span><span style=\"color: #00af00; text-decoration-color: #00af00\">439,297</span> (1.68 MB)\n",
       "</pre>\n"
      ],
      "text/plain": [
       "\u001b[1m Total params: \u001b[0m\u001b[38;5;34m439,297\u001b[0m (1.68 MB)\n"
      ]
     },
     "metadata": {},
     "output_type": "display_data"
    },
    {
     "data": {
      "text/html": [
       "<pre style=\"white-space:pre;overflow-x:auto;line-height:normal;font-family:Menlo,'DejaVu Sans Mono',consolas,'Courier New',monospace\"><span style=\"font-weight: bold\"> Trainable params: </span><span style=\"color: #00af00; text-decoration-color: #00af00\">438,337</span> (1.67 MB)\n",
       "</pre>\n"
      ],
      "text/plain": [
       "\u001b[1m Trainable params: \u001b[0m\u001b[38;5;34m438,337\u001b[0m (1.67 MB)\n"
      ]
     },
     "metadata": {},
     "output_type": "display_data"
    },
    {
     "data": {
      "text/html": [
       "<pre style=\"white-space:pre;overflow-x:auto;line-height:normal;font-family:Menlo,'DejaVu Sans Mono',consolas,'Courier New',monospace\"><span style=\"font-weight: bold\"> Non-trainable params: </span><span style=\"color: #00af00; text-decoration-color: #00af00\">960</span> (3.75 KB)\n",
       "</pre>\n"
      ],
      "text/plain": [
       "\u001b[1m Non-trainable params: \u001b[0m\u001b[38;5;34m960\u001b[0m (3.75 KB)\n"
      ]
     },
     "metadata": {},
     "output_type": "display_data"
    }
   ],
   "source": [
    "lung_scans_sequential_neural_net.summary()"
   ]
  },
  {
   "cell_type": "markdown",
   "id": "1c9bf7ad-fe9a-4820-8663-fa2e4c25a85d",
   "metadata": {
    "id": "1c9bf7ad-fe9a-4820-8663-fa2e4c25a85d",
    "jp-MarkdownHeadingCollapsed": true
   },
   "source": [
    "#### COMPILE"
   ]
  },
  {
   "cell_type": "code",
   "execution_count": 21,
   "id": "3ffc76bb-5b65-4030-88f8-a3df96f5ffcf",
   "metadata": {
    "id": "3ffc76bb-5b65-4030-88f8-a3df96f5ffcf"
   },
   "outputs": [],
   "source": [
    "lung_scans_sequential_neural_net.compile( optimizer = optimizers.Adam() ,\n",
    "                                          loss = losses.BinaryCrossentropy(),\n",
    "                                          metrics = ['accuracy'] )\n",
    "\n",
    "lung_scans_sequential_neural_net_early_stop = callbacks.EarlyStopping( monitor = 'val_loss',\n",
    "                                                                       patience = 25 ,\n",
    "                                                                       restore_best_weights = True )"
   ]
  },
  {
   "cell_type": "markdown",
   "id": "6adb8eb2-0571-4f11-9270-72d082578cb0",
   "metadata": {
    "id": "6adb8eb2-0571-4f11-9270-72d082578cb0",
    "jp-MarkdownHeadingCollapsed": true
   },
   "source": [
    "#### TRAIN"
   ]
  },
  {
   "cell_type": "code",
   "execution_count": 22,
   "id": "30a47eec-727f-41f4-b944-427856a34c71",
   "metadata": {
    "colab": {
     "base_uri": "https://localhost:8080/"
    },
    "executionInfo": {
     "elapsed": 745151,
     "status": "ok",
     "timestamp": 1742397916016,
     "user": {
      "displayName": "Prodigy",
      "userId": "02895624965658676832"
     },
     "user_tz": -300
    },
    "id": "30a47eec-727f-41f4-b944-427856a34c71",
    "outputId": "4d194340-dfac-4ea4-f15f-d111e4cf2b03",
    "scrolled": true
   },
   "outputs": [
    {
     "name": "stdout",
     "output_type": "stream",
     "text": [
      "Epoch 1/120\n",
      "\u001b[1m452/452\u001b[0m \u001b[32m━━━━━━━━━━━━━━━━━━━━\u001b[0m\u001b[37m\u001b[0m \u001b[1m324s\u001b[0m 707ms/step - accuracy: 0.6694 - loss: 0.6229 - val_accuracy: 0.6715 - val_loss: 0.6691\n",
      "Epoch 2/120\n",
      "\u001b[1m452/452\u001b[0m \u001b[32m━━━━━━━━━━━━━━━━━━━━\u001b[0m\u001b[37m\u001b[0m \u001b[1m293s\u001b[0m 648ms/step - accuracy: 0.7691 - loss: 0.5038 - val_accuracy: 0.7122 - val_loss: 0.5891\n",
      "Epoch 3/120\n",
      "\u001b[1m452/452\u001b[0m \u001b[32m━━━━━━━━━━━━━━━━━━━━\u001b[0m\u001b[37m\u001b[0m \u001b[1m196s\u001b[0m 434ms/step - accuracy: 0.8370 - loss: 0.3914 - val_accuracy: 0.8607 - val_loss: 0.3537\n",
      "Epoch 4/120\n",
      "\u001b[1m452/452\u001b[0m \u001b[32m━━━━━━━━━━━━━━━━━━━━\u001b[0m\u001b[37m\u001b[0m \u001b[1m195s\u001b[0m 432ms/step - accuracy: 0.8617 - loss: 0.3408 - val_accuracy: 0.8029 - val_loss: 0.4375\n",
      "Epoch 5/120\n",
      "\u001b[1m452/452\u001b[0m \u001b[32m━━━━━━━━━━━━━━━━━━━━\u001b[0m\u001b[37m\u001b[0m \u001b[1m193s\u001b[0m 427ms/step - accuracy: 0.8845 - loss: 0.3057 - val_accuracy: 0.7569 - val_loss: 0.7810\n",
      "Epoch 6/120\n",
      "\u001b[1m452/452\u001b[0m \u001b[32m━━━━━━━━━━━━━━━━━━━━\u001b[0m\u001b[37m\u001b[0m \u001b[1m193s\u001b[0m 427ms/step - accuracy: 0.8927 - loss: 0.2786 - val_accuracy: 0.9093 - val_loss: 0.2404\n",
      "Epoch 7/120\n",
      "\u001b[1m452/452\u001b[0m \u001b[32m━━━━━━━━━━━━━━━━━━━━\u001b[0m\u001b[37m\u001b[0m \u001b[1m193s\u001b[0m 428ms/step - accuracy: 0.9041 - loss: 0.2581 - val_accuracy: 0.9172 - val_loss: 0.2407\n",
      "Epoch 8/120\n",
      "\u001b[1m452/452\u001b[0m \u001b[32m━━━━━━━━━━━━━━━━━━━━\u001b[0m\u001b[37m\u001b[0m \u001b[1m192s\u001b[0m 424ms/step - accuracy: 0.9099 - loss: 0.2413 - val_accuracy: 0.8121 - val_loss: 0.3946\n",
      "Epoch 9/120\n",
      "\u001b[1m452/452\u001b[0m \u001b[32m━━━━━━━━━━━━━━━━━━━━\u001b[0m\u001b[37m\u001b[0m \u001b[1m193s\u001b[0m 427ms/step - accuracy: 0.9162 - loss: 0.2261 - val_accuracy: 0.8371 - val_loss: 0.3515\n",
      "Epoch 10/120\n",
      "\u001b[1m452/452\u001b[0m \u001b[32m━━━━━━━━━━━━━━━━━━━━\u001b[0m\u001b[37m\u001b[0m \u001b[1m193s\u001b[0m 427ms/step - accuracy: 0.9193 - loss: 0.2186 - val_accuracy: 0.8489 - val_loss: 0.3401\n",
      "Epoch 11/120\n",
      "\u001b[1m452/452\u001b[0m \u001b[32m━━━━━━━━━━━━━━━━━━━━\u001b[0m\u001b[37m\u001b[0m \u001b[1m192s\u001b[0m 425ms/step - accuracy: 0.9218 - loss: 0.2133 - val_accuracy: 0.9080 - val_loss: 0.2478\n",
      "Epoch 12/120\n",
      "\u001b[1m452/452\u001b[0m \u001b[32m━━━━━━━━━━━━━━━━━━━━\u001b[0m\u001b[37m\u001b[0m \u001b[1m192s\u001b[0m 425ms/step - accuracy: 0.9295 - loss: 0.2056 - val_accuracy: 0.9054 - val_loss: 0.2348\n",
      "Epoch 13/120\n",
      "\u001b[1m452/452\u001b[0m \u001b[32m━━━━━━━━━━━━━━━━━━━━\u001b[0m\u001b[37m\u001b[0m \u001b[1m192s\u001b[0m 424ms/step - accuracy: 0.9286 - loss: 0.1984 - val_accuracy: 0.7135 - val_loss: 0.5711\n",
      "Epoch 14/120\n",
      "\u001b[1m452/452\u001b[0m \u001b[32m━━━━━━━━━━━━━━━━━━━━\u001b[0m\u001b[37m\u001b[0m \u001b[1m192s\u001b[0m 426ms/step - accuracy: 0.9333 - loss: 0.1938 - val_accuracy: 0.8936 - val_loss: 0.2841\n",
      "Epoch 15/120\n",
      "\u001b[1m452/452\u001b[0m \u001b[32m━━━━━━━━━━━━━━━━━━━━\u001b[0m\u001b[37m\u001b[0m \u001b[1m194s\u001b[0m 430ms/step - accuracy: 0.9339 - loss: 0.1878 - val_accuracy: 0.8909 - val_loss: 0.2608\n",
      "Epoch 16/120\n",
      "\u001b[1m452/452\u001b[0m \u001b[32m━━━━━━━━━━━━━━━━━━━━\u001b[0m\u001b[37m\u001b[0m \u001b[1m193s\u001b[0m 426ms/step - accuracy: 0.9317 - loss: 0.1916 - val_accuracy: 0.9251 - val_loss: 0.1959\n",
      "Epoch 17/120\n",
      "\u001b[1m452/452\u001b[0m \u001b[32m━━━━━━━━━━━━━━━━━━━━\u001b[0m\u001b[37m\u001b[0m \u001b[1m192s\u001b[0m 426ms/step - accuracy: 0.9331 - loss: 0.1850 - val_accuracy: 0.6386 - val_loss: 0.7894\n",
      "Epoch 18/120\n",
      "\u001b[1m452/452\u001b[0m \u001b[32m━━━━━━━━━━━━━━━━━━━━\u001b[0m\u001b[37m\u001b[0m \u001b[1m194s\u001b[0m 429ms/step - accuracy: 0.9399 - loss: 0.1697 - val_accuracy: 0.9264 - val_loss: 0.1887\n",
      "Epoch 19/120\n",
      "\u001b[1m452/452\u001b[0m \u001b[32m━━━━━━━━━━━━━━━━━━━━\u001b[0m\u001b[37m\u001b[0m \u001b[1m193s\u001b[0m 427ms/step - accuracy: 0.9416 - loss: 0.1680 - val_accuracy: 0.8594 - val_loss: 0.3004\n",
      "Epoch 20/120\n",
      "\u001b[1m452/452\u001b[0m \u001b[32m━━━━━━━━━━━━━━━━━━━━\u001b[0m\u001b[37m\u001b[0m \u001b[1m192s\u001b[0m 425ms/step - accuracy: 0.9413 - loss: 0.1639 - val_accuracy: 0.5020 - val_loss: 0.8155\n",
      "Epoch 21/120\n",
      "\u001b[1m452/452\u001b[0m \u001b[32m━━━━━━━━━━━━━━━━━━━━\u001b[0m\u001b[37m\u001b[0m \u001b[1m193s\u001b[0m 426ms/step - accuracy: 0.9419 - loss: 0.1648 - val_accuracy: 0.8857 - val_loss: 0.2977\n",
      "Epoch 22/120\n",
      "\u001b[1m452/452\u001b[0m \u001b[32m━━━━━━━━━━━━━━━━━━━━\u001b[0m\u001b[37m\u001b[0m \u001b[1m193s\u001b[0m 428ms/step - accuracy: 0.9439 - loss: 0.1595 - val_accuracy: 0.9277 - val_loss: 0.2218\n",
      "Epoch 23/120\n",
      "\u001b[1m452/452\u001b[0m \u001b[32m━━━━━━━━━━━━━━━━━━━━\u001b[0m\u001b[37m\u001b[0m \u001b[1m192s\u001b[0m 424ms/step - accuracy: 0.9494 - loss: 0.1458 - val_accuracy: 0.6833 - val_loss: 0.6648\n",
      "Epoch 24/120\n",
      "\u001b[1m452/452\u001b[0m \u001b[32m━━━━━━━━━━━━━━━━━━━━\u001b[0m\u001b[37m\u001b[0m \u001b[1m191s\u001b[0m 424ms/step - accuracy: 0.9453 - loss: 0.1539 - val_accuracy: 0.7766 - val_loss: 0.4303\n",
      "Epoch 25/120\n",
      "\u001b[1m452/452\u001b[0m \u001b[32m━━━━━━━━━━━━━━━━━━━━\u001b[0m\u001b[37m\u001b[0m \u001b[1m192s\u001b[0m 424ms/step - accuracy: 0.9498 - loss: 0.1445 - val_accuracy: 0.8633 - val_loss: 0.3154\n",
      "Epoch 26/120\n",
      "\u001b[1m452/452\u001b[0m \u001b[32m━━━━━━━━━━━━━━━━━━━━\u001b[0m\u001b[37m\u001b[0m \u001b[1m191s\u001b[0m 423ms/step - accuracy: 0.9496 - loss: 0.1442 - val_accuracy: 0.9054 - val_loss: 0.3582\n",
      "Epoch 27/120\n",
      "\u001b[1m452/452\u001b[0m \u001b[32m━━━━━━━━━━━━━━━━━━━━\u001b[0m\u001b[37m\u001b[0m \u001b[1m192s\u001b[0m 424ms/step - accuracy: 0.9507 - loss: 0.1400 - val_accuracy: 0.8173 - val_loss: 0.3901\n",
      "Epoch 28/120\n",
      "\u001b[1m452/452\u001b[0m \u001b[32m━━━━━━━━━━━━━━━━━━━━\u001b[0m\u001b[37m\u001b[0m \u001b[1m192s\u001b[0m 424ms/step - accuracy: 0.9554 - loss: 0.1318 - val_accuracy: 0.8581 - val_loss: 0.3747\n",
      "Epoch 29/120\n",
      "\u001b[1m452/452\u001b[0m \u001b[32m━━━━━━━━━━━━━━━━━━━━\u001b[0m\u001b[37m\u001b[0m \u001b[1m195s\u001b[0m 430ms/step - accuracy: 0.9541 - loss: 0.1348 - val_accuracy: 0.7950 - val_loss: 0.4528\n",
      "Epoch 30/120\n",
      "\u001b[1m452/452\u001b[0m \u001b[32m━━━━━━━━━━━━━━━━━━━━\u001b[0m\u001b[37m\u001b[0m \u001b[1m193s\u001b[0m 427ms/step - accuracy: 0.9506 - loss: 0.1398 - val_accuracy: 0.9317 - val_loss: 0.2073\n",
      "Epoch 31/120\n",
      "\u001b[1m452/452\u001b[0m \u001b[32m━━━━━━━━━━━━━━━━━━━━\u001b[0m\u001b[37m\u001b[0m \u001b[1m192s\u001b[0m 426ms/step - accuracy: 0.9517 - loss: 0.1322 - val_accuracy: 0.9304 - val_loss: 0.2051\n",
      "Epoch 32/120\n",
      "\u001b[1m452/452\u001b[0m \u001b[32m━━━━━━━━━━━━━━━━━━━━\u001b[0m\u001b[37m\u001b[0m \u001b[1m192s\u001b[0m 424ms/step - accuracy: 0.9518 - loss: 0.1355 - val_accuracy: 0.9198 - val_loss: 0.2326\n",
      "Epoch 33/120\n",
      "\u001b[1m452/452\u001b[0m \u001b[32m━━━━━━━━━━━━━━━━━━━━\u001b[0m\u001b[37m\u001b[0m \u001b[1m192s\u001b[0m 424ms/step - accuracy: 0.9571 - loss: 0.1259 - val_accuracy: 0.9225 - val_loss: 0.2110\n",
      "Epoch 34/120\n",
      "\u001b[1m452/452\u001b[0m \u001b[32m━━━━━━━━━━━━━━━━━━━━\u001b[0m\u001b[37m\u001b[0m \u001b[1m193s\u001b[0m 427ms/step - accuracy: 0.9579 - loss: 0.1178 - val_accuracy: 0.8975 - val_loss: 0.2394\n",
      "Epoch 35/120\n",
      "\u001b[1m452/452\u001b[0m \u001b[32m━━━━━━━━━━━━━━━━━━━━\u001b[0m\u001b[37m\u001b[0m \u001b[1m193s\u001b[0m 427ms/step - accuracy: 0.9533 - loss: 0.1289 - val_accuracy: 0.9120 - val_loss: 0.2347\n",
      "Epoch 36/120\n",
      "\u001b[1m452/452\u001b[0m \u001b[32m━━━━━━━━━━━━━━━━━━━━\u001b[0m\u001b[37m\u001b[0m \u001b[1m192s\u001b[0m 424ms/step - accuracy: 0.9578 - loss: 0.1146 - val_accuracy: 0.6978 - val_loss: 0.6244\n",
      "Epoch 37/120\n",
      "\u001b[1m452/452\u001b[0m \u001b[32m━━━━━━━━━━━━━━━━━━━━\u001b[0m\u001b[37m\u001b[0m \u001b[1m192s\u001b[0m 425ms/step - accuracy: 0.9602 - loss: 0.1139 - val_accuracy: 0.9225 - val_loss: 0.2092\n",
      "Epoch 38/120\n",
      "\u001b[1m452/452\u001b[0m \u001b[32m━━━━━━━━━━━━━━━━━━━━\u001b[0m\u001b[37m\u001b[0m \u001b[1m194s\u001b[0m 428ms/step - accuracy: 0.9558 - loss: 0.1191 - val_accuracy: 0.7516 - val_loss: 0.6707\n",
      "Epoch 39/120\n",
      "\u001b[1m452/452\u001b[0m \u001b[32m━━━━━━━━━━━━━━━━━━━━\u001b[0m\u001b[37m\u001b[0m \u001b[1m193s\u001b[0m 426ms/step - accuracy: 0.9600 - loss: 0.1172 - val_accuracy: 0.9448 - val_loss: 0.1716\n",
      "Epoch 40/120\n",
      "\u001b[1m452/452\u001b[0m \u001b[32m━━━━━━━━━━━━━━━━━━━━\u001b[0m\u001b[37m\u001b[0m \u001b[1m192s\u001b[0m 426ms/step - accuracy: 0.9576 - loss: 0.1161 - val_accuracy: 0.9277 - val_loss: 0.2248\n",
      "Epoch 41/120\n",
      "\u001b[1m452/452\u001b[0m \u001b[32m━━━━━━━━━━━━━━━━━━━━\u001b[0m\u001b[37m\u001b[0m \u001b[1m192s\u001b[0m 425ms/step - accuracy: 0.9584 - loss: 0.1126 - val_accuracy: 0.9172 - val_loss: 0.2547\n",
      "Epoch 42/120\n",
      "\u001b[1m452/452\u001b[0m \u001b[32m━━━━━━━━━━━━━━━━━━━━\u001b[0m\u001b[37m\u001b[0m \u001b[1m193s\u001b[0m 427ms/step - accuracy: 0.9586 - loss: 0.1133 - val_accuracy: 0.9382 - val_loss: 0.1963\n",
      "Epoch 43/120\n",
      "\u001b[1m452/452\u001b[0m \u001b[32m━━━━━━━━━━━━━━━━━━━━\u001b[0m\u001b[37m\u001b[0m \u001b[1m194s\u001b[0m 428ms/step - accuracy: 0.9630 - loss: 0.1034 - val_accuracy: 0.8988 - val_loss: 0.2461\n",
      "Epoch 44/120\n",
      "\u001b[1m452/452\u001b[0m \u001b[32m━━━━━━━━━━━━━━━━━━━━\u001b[0m\u001b[37m\u001b[0m \u001b[1m192s\u001b[0m 426ms/step - accuracy: 0.9591 - loss: 0.1093 - val_accuracy: 0.9264 - val_loss: 0.2071\n",
      "Epoch 45/120\n",
      "\u001b[1m452/452\u001b[0m \u001b[32m━━━━━━━━━━━━━━━━━━━━\u001b[0m\u001b[37m\u001b[0m \u001b[1m192s\u001b[0m 426ms/step - accuracy: 0.9630 - loss: 0.1016 - val_accuracy: 0.9369 - val_loss: 0.1915\n",
      "Epoch 46/120\n",
      "\u001b[1m452/452\u001b[0m \u001b[32m━━━━━━━━━━━━━━━━━━━━\u001b[0m\u001b[37m\u001b[0m \u001b[1m194s\u001b[0m 428ms/step - accuracy: 0.9649 - loss: 0.0976 - val_accuracy: 0.9343 - val_loss: 0.1714\n",
      "Epoch 47/120\n",
      "\u001b[1m452/452\u001b[0m \u001b[32m━━━━━━━━━━━━━━━━━━━━\u001b[0m\u001b[37m\u001b[0m \u001b[1m192s\u001b[0m 426ms/step - accuracy: 0.9663 - loss: 0.0936 - val_accuracy: 0.9277 - val_loss: 0.2082\n",
      "Epoch 48/120\n",
      "\u001b[1m452/452\u001b[0m \u001b[32m━━━━━━━━━━━━━━━━━━━━\u001b[0m\u001b[37m\u001b[0m \u001b[1m192s\u001b[0m 425ms/step - accuracy: 0.9657 - loss: 0.0923 - val_accuracy: 0.9159 - val_loss: 0.2270\n",
      "Epoch 49/120\n",
      "\u001b[1m452/452\u001b[0m \u001b[32m━━━━━━━━━━━━━━━━━━━━\u001b[0m\u001b[37m\u001b[0m \u001b[1m193s\u001b[0m 427ms/step - accuracy: 0.9670 - loss: 0.0907 - val_accuracy: 0.9120 - val_loss: 0.2590\n",
      "Epoch 50/120\n",
      "\u001b[1m452/452\u001b[0m \u001b[32m━━━━━━━━━━━━━━━━━━━━\u001b[0m\u001b[37m\u001b[0m \u001b[1m202s\u001b[0m 428ms/step - accuracy: 0.9663 - loss: 0.0928 - val_accuracy: 0.9448 - val_loss: 0.1961\n",
      "Epoch 51/120\n",
      "\u001b[1m452/452\u001b[0m \u001b[32m━━━━━━━━━━━━━━━━━━━━\u001b[0m\u001b[37m\u001b[0m \u001b[1m194s\u001b[0m 430ms/step - accuracy: 0.9717 - loss: 0.0823 - val_accuracy: 0.8778 - val_loss: 0.2862\n",
      "Epoch 52/120\n",
      "\u001b[1m452/452\u001b[0m \u001b[32m━━━━━━━━━━━━━━━━━━━━\u001b[0m\u001b[37m\u001b[0m \u001b[1m194s\u001b[0m 429ms/step - accuracy: 0.9614 - loss: 0.1012 - val_accuracy: 0.9356 - val_loss: 0.1927\n",
      "Epoch 53/120\n",
      "\u001b[1m452/452\u001b[0m \u001b[32m━━━━━━━━━━━━━━━━━━━━\u001b[0m\u001b[37m\u001b[0m \u001b[1m194s\u001b[0m 429ms/step - accuracy: 0.9690 - loss: 0.0844 - val_accuracy: 0.8988 - val_loss: 0.2687\n",
      "Epoch 54/120\n",
      "\u001b[1m452/452\u001b[0m \u001b[32m━━━━━━━━━━━━━━━━━━━━\u001b[0m\u001b[37m\u001b[0m \u001b[1m194s\u001b[0m 429ms/step - accuracy: 0.9654 - loss: 0.0884 - val_accuracy: 0.9382 - val_loss: 0.2243\n",
      "Epoch 55/120\n",
      "\u001b[1m452/452\u001b[0m \u001b[32m━━━━━━━━━━━━━━━━━━━━\u001b[0m\u001b[37m\u001b[0m \u001b[1m193s\u001b[0m 426ms/step - accuracy: 0.9676 - loss: 0.0875 - val_accuracy: 0.9343 - val_loss: 0.1919\n",
      "Epoch 56/120\n",
      "\u001b[1m452/452\u001b[0m \u001b[32m━━━━━━━━━━━━━━━━━━━━\u001b[0m\u001b[37m\u001b[0m \u001b[1m193s\u001b[0m 426ms/step - accuracy: 0.9678 - loss: 0.0892 - val_accuracy: 0.7043 - val_loss: 0.6298\n",
      "Epoch 57/120\n",
      "\u001b[1m452/452\u001b[0m \u001b[32m━━━━━━━━━━━━━━━━━━━━\u001b[0m\u001b[37m\u001b[0m \u001b[1m193s\u001b[0m 427ms/step - accuracy: 0.9708 - loss: 0.0813 - val_accuracy: 0.8739 - val_loss: 0.3543\n",
      "Epoch 58/120\n",
      "\u001b[1m452/452\u001b[0m \u001b[32m━━━━━━━━━━━━━━━━━━━━\u001b[0m\u001b[37m\u001b[0m \u001b[1m193s\u001b[0m 426ms/step - accuracy: 0.9703 - loss: 0.0785 - val_accuracy: 0.7516 - val_loss: 0.9384\n",
      "Epoch 59/120\n",
      "\u001b[1m452/452\u001b[0m \u001b[32m━━━━━━━━━━━━━━━━━━━━\u001b[0m\u001b[37m\u001b[0m \u001b[1m193s\u001b[0m 427ms/step - accuracy: 0.9696 - loss: 0.0813 - val_accuracy: 0.7385 - val_loss: 0.7315\n",
      "Epoch 60/120\n",
      "\u001b[1m452/452\u001b[0m \u001b[32m━━━━━━━━━━━━━━━━━━━━\u001b[0m\u001b[37m\u001b[0m \u001b[1m193s\u001b[0m 427ms/step - accuracy: 0.9687 - loss: 0.0869 - val_accuracy: 0.9396 - val_loss: 0.1966\n",
      "Epoch 61/120\n",
      "\u001b[1m452/452\u001b[0m \u001b[32m━━━━━━━━━━━━━━━━━━━━\u001b[0m\u001b[37m\u001b[0m \u001b[1m193s\u001b[0m 427ms/step - accuracy: 0.9682 - loss: 0.0802 - val_accuracy: 0.7845 - val_loss: 0.5159\n",
      "Epoch 62/120\n",
      "\u001b[1m452/452\u001b[0m \u001b[32m━━━━━━━━━━━━━━━━━━━━\u001b[0m\u001b[37m\u001b[0m \u001b[1m193s\u001b[0m 427ms/step - accuracy: 0.9713 - loss: 0.0756 - val_accuracy: 0.9330 - val_loss: 0.1982\n",
      "Epoch 63/120\n",
      "\u001b[1m452/452\u001b[0m \u001b[32m━━━━━━━━━━━━━━━━━━━━\u001b[0m\u001b[37m\u001b[0m \u001b[1m193s\u001b[0m 427ms/step - accuracy: 0.9725 - loss: 0.0721 - val_accuracy: 0.9317 - val_loss: 0.1931\n",
      "Epoch 64/120\n",
      "\u001b[1m452/452\u001b[0m \u001b[32m━━━━━━━━━━━━━━━━━━━━\u001b[0m\u001b[37m\u001b[0m \u001b[1m193s\u001b[0m 426ms/step - accuracy: 0.9691 - loss: 0.0779 - val_accuracy: 0.9172 - val_loss: 0.2755\n",
      "Epoch 65/120\n",
      "\u001b[1m452/452\u001b[0m \u001b[32m━━━━━━━━━━━━━━━━━━━━\u001b[0m\u001b[37m\u001b[0m \u001b[1m193s\u001b[0m 427ms/step - accuracy: 0.9691 - loss: 0.0823 - val_accuracy: 0.9001 - val_loss: 0.3143\n",
      "Epoch 66/120\n",
      "\u001b[1m452/452\u001b[0m \u001b[32m━━━━━━━━━━━━━━━━━━━━\u001b[0m\u001b[37m\u001b[0m \u001b[1m193s\u001b[0m 427ms/step - accuracy: 0.9722 - loss: 0.0752 - val_accuracy: 0.9290 - val_loss: 0.1959\n",
      "Epoch 67/120\n",
      "\u001b[1m452/452\u001b[0m \u001b[32m━━━━━━━━━━━━━━━━━━━━\u001b[0m\u001b[37m\u001b[0m \u001b[1m193s\u001b[0m 427ms/step - accuracy: 0.9739 - loss: 0.0697 - val_accuracy: 0.8647 - val_loss: 0.3653\n",
      "Epoch 68/120\n",
      "\u001b[1m452/452\u001b[0m \u001b[32m━━━━━━━━━━━━━━━━━━━━\u001b[0m\u001b[37m\u001b[0m \u001b[1m193s\u001b[0m 427ms/step - accuracy: 0.9702 - loss: 0.0769 - val_accuracy: 0.8686 - val_loss: 0.3118\n",
      "Epoch 69/120\n",
      "\u001b[1m452/452\u001b[0m \u001b[32m━━━━━━━━━━━━━━━━━━━━\u001b[0m\u001b[37m\u001b[0m \u001b[1m193s\u001b[0m 427ms/step - accuracy: 0.9706 - loss: 0.0767 - val_accuracy: 0.9409 - val_loss: 0.1837\n",
      "Epoch 70/120\n",
      "\u001b[1m452/452\u001b[0m \u001b[32m━━━━━━━━━━━━━━━━━━━━\u001b[0m\u001b[37m\u001b[0m \u001b[1m193s\u001b[0m 427ms/step - accuracy: 0.9737 - loss: 0.0686 - val_accuracy: 0.9422 - val_loss: 0.2412\n",
      "Epoch 71/120\n",
      "\u001b[1m452/452\u001b[0m \u001b[32m━━━━━━━━━━━━━━━━━━━━\u001b[0m\u001b[37m\u001b[0m \u001b[1m193s\u001b[0m 428ms/step - accuracy: 0.9755 - loss: 0.0656 - val_accuracy: 0.9212 - val_loss: 0.2300\n"
     ]
    }
   ],
   "source": [
    "training_history = lung_scans_sequential_neural_net.fit( lung_scans_train ,\n",
    "                                                         lung_scans_labels_train,\n",
    "                                                         validation_data = [lung_scans_validation,lung_scans_labels_validation],\n",
    "                                                         epochs = 120,\n",
    "                                                         callbacks = [lung_scans_sequential_neural_net_early_stop],\n",
    "                                                         batch_size = 32 ,\n",
    "                                                         verbose  = 1 )"
   ]
  },
  {
   "cell_type": "code",
   "execution_count": null,
   "id": "31209784-9d60-4782-a838-bfc71163df45",
   "metadata": {
    "id": "31209784-9d60-4782-a838-bfc71163df45"
   },
   "outputs": [],
   "source": []
  },
  {
   "cell_type": "markdown",
   "id": "b4e231ed-f15b-4b42-bb55-331cb8777033",
   "metadata": {
    "id": "b4e231ed-f15b-4b42-bb55-331cb8777033",
    "jp-MarkdownHeadingCollapsed": true
   },
   "source": [
    "#### EVALUATE"
   ]
  },
  {
   "cell_type": "code",
   "execution_count": 23,
   "id": "9b747e74-526d-4893-a3dc-f92eb822e697",
   "metadata": {
    "id": "9b747e74-526d-4893-a3dc-f92eb822e697"
   },
   "outputs": [],
   "source": [
    "from sklearn.metrics import classification_report, ConfusionMatrixDisplay"
   ]
  },
  {
   "cell_type": "code",
   "execution_count": 24,
   "id": "88d540b0-976a-4bfd-b0ff-59eca41deb5e",
   "metadata": {
    "colab": {
     "base_uri": "https://localhost:8080/",
     "height": 640
    },
    "executionInfo": {
     "elapsed": 3128,
     "status": "ok",
     "timestamp": 1742397932555,
     "user": {
      "displayName": "Prodigy",
      "userId": "02895624965658676832"
     },
     "user_tz": -300
    },
    "id": "88d540b0-976a-4bfd-b0ff-59eca41deb5e",
    "outputId": "43d236c8-733f-4375-b222-e48bc6efed0d"
   },
   "outputs": [
    {
     "name": "stdout",
     "output_type": "stream",
     "text": [
      "\u001b[1m26/26\u001b[0m \u001b[32m━━━━━━━━━━━━━━━━━━━━\u001b[0m\u001b[37m\u001b[0m \u001b[1m3s\u001b[0m 99ms/step\n",
      "              precision    recall  f1-score   support\n",
      "\n",
      "           0       0.89      0.90      0.90       356\n",
      "           1       0.92      0.91      0.92       445\n",
      "\n",
      "    accuracy                           0.91       801\n",
      "   macro avg       0.90      0.91      0.91       801\n",
      "weighted avg       0.91      0.91      0.91       801\n",
      "\n"
     ]
    },
    {
     "data": {
      "text/plain": [
       "<sklearn.metrics._plot.confusion_matrix.ConfusionMatrixDisplay at 0x1e84d7dec90>"
      ]
     },
     "execution_count": 24,
     "metadata": {},
     "output_type": "execute_result"
    },
    {
     "data": {
      "image/png": "[encoded data removed]",
      "text/plain": [
       "<Figure size 640x480 with 2 Axes>"
      ]
     },
     "metadata": {},
     "output_type": "display_data"
    }
   ],
   "source": [
    "# Convert probabilities to class labels using a threshold of 0.5\n",
    "predicted_labels = (lung_scans_sequential_neural_net.predict(lung_scans_test) >= 0.4).astype(int)\n",
    "\n",
    "# Generate classification report\n",
    "print(classification_report(lung_scans_labels_test, predicted_labels, zero_division=1))\n",
    "\n",
    "# Display confusion matrix\n",
    "ConfusionMatrixDisplay.from_predictions(lung_scans_labels_test, predicted_labels)\n"
   ]
  },
  {
   "cell_type": "code",
   "execution_count": 25,
   "id": "b5662354-8bf6-4e79-9dc3-0a6cf197971a",
   "metadata": {
    "colab": {
     "base_uri": "https://localhost:8080/"
    },
    "executionInfo": {
     "elapsed": 871,
     "status": "ok",
     "timestamp": 1742397945899,
     "user": {
      "displayName": "Prodigy",
      "userId": "02895624965658676832"
     },
     "user_tz": -300
    },
    "id": "b5662354-8bf6-4e79-9dc3-0a6cf197971a",
    "outputId": "49e53962-1d5a-44c2-95bd-87a19f244419"
   },
   "outputs": [
    {
     "name": "stdout",
     "output_type": "stream",
     "text": [
      "\u001b[1m26/26\u001b[0m \u001b[32m━━━━━━━━━━━━━━━━━━━━\u001b[0m\u001b[37m\u001b[0m \u001b[1m7s\u001b[0m 250ms/step - accuracy: 0.9039 - loss: 0.2116\n"
     ]
    },
    {
     "data": {
      "text/plain": [
       "[0.21063849329948425, 0.90886390209198]"
      ]
     },
     "execution_count": 25,
     "metadata": {},
     "output_type": "execute_result"
    }
   ],
   "source": [
    "lung_scans_sequential_neural_net.evaluate( lung_scans_test ,\n",
    "                                           lung_scans_labels_test )"
   ]
  },
  {
   "cell_type": "markdown",
   "id": "ae0bb0bc-d07a-44fc-ab20-e0806e8f073f",
   "metadata": {
    "id": "ae0bb0bc-d07a-44fc-ab20-e0806e8f073f",
    "jp-MarkdownHeadingCollapsed": true
   },
   "source": [
    "#### SAVE"
   ]
  },
  {
   "cell_type": "code",
   "execution_count": 26,
   "id": "a8a0f024-0af0-493d-8f49-6f7c3f1917b2",
   "metadata": {
    "id": "a8a0f024-0af0-493d-8f49-6f7c3f1917b2"
   },
   "outputs": [],
   "source": [
    "lung_scans_sequential_neural_net.save('lung_scans_pneumonia_sequential_neural_net.keras')"
   ]
  }
 ],
 "metadata": {
  "accelerator": "GPU",
  "colab": {
   "gpuType": "T4",
   "provenance": []
  },
  "kernelspec": {
   "display_name": "Python 3 (ipykernel)",
   "language": "python",
   "name": "python3"
  },
  "language_info": {
   "codemirror_mode": {
    "name": "ipython",
    "version": 3
   },
   "file_extension": ".py",
   "mimetype": "text/x-python",
   "name": "python",
   "nbconvert_exporter": "python",
   "pygments_lexer": "ipython3",
   "version": "3.12.7"
  }
 },
 "nbformat": 4,
 "nbformat_minor": 5
}
