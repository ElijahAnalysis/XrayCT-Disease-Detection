{
 "cells": [
  {
   "cell_type": "code",
   "execution_count": 1,
   "id": "83d3127a-1b9d-4465-80d9-d70e973359a3",
   "metadata": {},
   "outputs": [],
   "source": [
    "import numpy as np\n",
    "import pandas as pd \n",
    "import tensorflow as tf\n",
    "\n",
    "from pathlib import Path\n",
    "from matplotlib import pyplot as plt "
   ]
  },
  {
   "cell_type": "markdown",
   "id": "aec2ba1a-7e16-41f0-9a72-cc26c8057852",
   "metadata": {},
   "source": [
    "## IMPORT & EXPLORE"
   ]
  },
  {
   "cell_type": "markdown",
   "id": "9195837d-36f7-436a-ac92-5c35d229759a",
   "metadata": {},
   "source": [
    "#### FUNCTIONS"
   ]
  },
  {
   "cell_type": "code",
   "execution_count": 2,
   "id": "06866315-d211-4685-b4ee-138bcabf5422",
   "metadata": {},
   "outputs": [],
   "source": [
    "def directory_files( directory,\n",
    "                     item_type = None):\n",
    "\n",
    "    directory_files = sorted([ str(path) for path in directory.glob(f'*.{item_type}') ])\n",
    "\n",
    "    return directory_files"
   ]
  },
  {
   "cell_type": "code",
   "execution_count": 3,
   "id": "abd9e6a9-1457-4123-ad01-87b9fd1475df",
   "metadata": {},
   "outputs": [],
   "source": [
    "def xray_labeling( files ):\n",
    "\n",
    "    labels = [ 0 if 'NORMAL' in path else\n",
    "               1 if 'PNEUMANIA']\n",
    "    \n",
    "    return np.array(item_labels)"
   ]
  },
  {
   "cell_type": "code",
   "execution_count": 4,
   "id": "b87e3943-2f15-45f9-85f9-7f253fcaf6e8",
   "metadata": {},
   "outputs": [],
   "source": [
    "def load_images(image_paths, target_size=(224, 224)):\n",
    "    loaded_images = []\n",
    "    for path in image_paths:\n",
    "        try:\n",
    "            # Read and decode the image as grayscale (force 1 channel)\n",
    "            image = tf.io.read_file(path)\n",
    "            image = tf.image.decode_image(image, channels=1)  # Force grayscale format\n",
    "\n",
    "            # Resize the image to the target size\n",
    "            image = tf.image.resize(image, target_size)\n",
    "\n",
    "            # Normalize the pixel values to [0, 1]\n",
    "            image = image / 255.0\n",
    "\n",
    "            # Set the shape explicitly to ensure consistency\n",
    "            image.set_shape((target_size[0], target_size[1], 1))\n",
    "\n",
    "            loaded_images.append(image)\n",
    "        except Exception as e:\n",
    "            print(f\"Error loading image at {path}: {e}\")\n",
    "\n",
    "    return loaded_images"
   ]
  },
  {
   "cell_type": "code",
   "execution_count": 5,
   "id": "0ede5cb6-f8f7-4aa8-8272-eedbf1c244c7",
   "metadata": {},
   "outputs": [],
   "source": [
    "def display_examples(images, labels, num_examples=5):\n",
    "    plt.figure(figsize=(10, 10))\n",
    "    \n",
    "    for i in range(num_examples):\n",
    "        ax = plt.subplot(1, num_examples, i + 1)\n",
    "        ax.imshow(images[i])  # Display the image\n",
    "        ax.set_title(f\"Label: {labels[i]}\")  # Display the label\n",
    "        ax.axis(\"off\")  # Hide axes\n",
    "    \n",
    "    plt.show()"
   ]
  },
  {
   "cell_type": "code",
   "execution_count": null,
   "id": "b06c9932-f2fe-4e97-bb60-f6ff03e2522e",
   "metadata": {},
   "outputs": [],
   "source": []
  },
  {
   "cell_type": "code",
   "execution_count": null,
   "id": "b9251464-8134-4d09-b5f3-28f6ccfd8a4b",
   "metadata": {},
   "outputs": [],
   "source": []
  },
  {
   "cell_type": "code",
   "execution_count": null,
   "id": "9db7a61f-a0dc-428c-8aa8-b885b3e420a8",
   "metadata": {},
   "outputs": [],
   "source": []
  }
 ],
 "metadata": {
  "kernelspec": {
   "display_name": "Python 3 (ipykernel)",
   "language": "python",
   "name": "python3"
  },
  "language_info": {
   "codemirror_mode": {
    "name": "ipython",
    "version": 3
   },
   "file_extension": ".py",
   "mimetype": "text/x-python",
   "name": "python",
   "nbconvert_exporter": "python",
   "pygments_lexer": "ipython3",
   "version": "3.12.7"
  }
 },
 "nbformat": 4,
 "nbformat_minor": 5
}
