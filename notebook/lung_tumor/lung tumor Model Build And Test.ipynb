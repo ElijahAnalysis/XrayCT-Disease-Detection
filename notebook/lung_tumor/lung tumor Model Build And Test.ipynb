{
 "cells": [
  {
   "cell_type": "code",
   "execution_count": 1,
   "id": "309ef3a6-289d-4743-9666-4609dca803cf",
   "metadata": {},
   "outputs": [],
   "source": [
    "# Core Libraries\n",
    "import pandas as pd\n",
    "import numpy as np\n",
    "import matplotlib.pyplot as plt\n",
    "import seaborn as sns\n",
    "from datetime import datetime, timedelta\n",
    "from scipy import stats\n",
    "from scipy.stats import randint, uniform\n",
    "\n",
    "# Sklearn\n",
    "from sklearn.datasets import fetch_openml\n",
    "from sklearn.model_selection import train_test_split , RandomizedSearchCV\n",
    "from sklearn.feature_selection import SelectKBest\n",
    "from sklearn.preprocessing import MinMaxScaler, StandardScaler\n",
    "from sklearn.linear_model import LinearRegression, LogisticRegression\n",
    "from sklearn.tree import DecisionTreeClassifier, DecisionTreeRegressor\n",
    "from sklearn.metrics import mean_absolute_error, mean_squared_error, r2_score\n",
    "import sklearn.metrics as metrics\n",
    "from sklearn.pipeline import Pipeline\n",
    "from sklearn.tree import plot_tree\n",
    "from sklearn.ensemble import RandomForestRegressor  # For regression\n",
    "from sklearn.ensemble import RandomForestClassifier  # For classification\n",
    "from sklearn.ensemble import HistGradientBoostingRegressor\n",
    "from sklearn.ensemble import HistGradientBoostingClassifier\n",
    "from sklearn.neighbors import KNeighborsClassifier \n",
    "from sklearn.neighbors import KNeighborsRegressor\n",
    "\n",
    "pd.options.display.float_format = '{:.2f}'.format"
   ]
  },
  {
   "cell_type": "markdown",
   "id": "51ca0d79-7493-4fc0-a606-5ac674584e2f",
   "metadata": {},
   "source": [
    "## IMPORT & EXPLORE"
   ]
  },
  {
   "cell_type": "code",
   "execution_count": 2,
   "id": "d09ebfc5-576b-4216-9a3e-c830002b691c",
   "metadata": {},
   "outputs": [],
   "source": [
    "# Let's laod saved np.array converted images \n",
    "\n",
    "lung_scan_cases = np.load(r\"C:\\Users\\User\\Desktop\\lung_tumor_project\\ct_scans\\scan_arrays\\lung_tumor_scan_cases.npz\")['scan_array']\n",
    "\n",
    "lung_scan_cases_labels = np.load(r\"C:\\Users\\User\\Desktop\\lung_tumor_project\\ct_scans\\scan_arrays\\lung_tumor_scan_cases.npz\")['labels']\n"
   ]
  },
  {
   "cell_type": "code",
   "execution_count": 3,
   "id": "7703edf8-5104-40ac-8d00-94a698120bc3",
   "metadata": {},
   "outputs": [
    {
     "data": {
      "text/plain": [
       "(4159, 224, 224, 1)"
      ]
     },
     "execution_count": 3,
     "metadata": {},
     "output_type": "execute_result"
    }
   ],
   "source": [
    "lung_scan_cases.shape"
   ]
  },
  {
   "cell_type": "markdown",
   "id": "61aaeb9d-75ad-4b33-8596-66934c86b16e",
   "metadata": {},
   "source": [
    "Shape of this array tells us that : We have 4159 images with 224x224 resolution which is in grayscale, "
   ]
  },
  {
   "cell_type": "code",
   "execution_count": 4,
   "id": "0dd2ee56-9d43-4077-b716-d49044c15e5d",
   "metadata": {},
   "outputs": [
    {
     "data": {
      "text/plain": [
       "2   0.39\n",
       "0   0.33\n",
       "1   0.29\n",
       "Name: proportion, dtype: float64"
      ]
     },
     "execution_count": 4,
     "metadata": {},
     "output_type": "execute_result"
    }
   ],
   "source": [
    "pd.Series(lung_scan_cases_labels).value_counts(normalize = True)"
   ]
  },
  {
   "cell_type": "markdown",
   "id": "aeafa1ce-545c-410d-8e25-2152d84feee1",
   "metadata": {},
   "source": [
    "And we also dealing with near balanced data , as all classes have near equal number of presentations in the \"lung_scan_cases_labels\" array."
   ]
  },
  {
   "cell_type": "markdown",
   "id": "84235bca-b386-4acb-9290-31355ac2b737",
   "metadata": {},
   "source": [
    "## CLEAN & PREPARE"
   ]
  },
  {
   "cell_type": "markdown",
   "id": "76d24fe2-9736-4a1a-a4b7-1f60e34fe869",
   "metadata": {
    "jp-MarkdownHeadingCollapsed": true
   },
   "source": [
    "#### PREPARE DATA FOR MODEL BUILDING"
   ]
  },
  {
   "cell_type": "markdown",
   "id": "a8acddd5-6a53-4bac-88f7-13cd78301492",
   "metadata": {},
   "source": [
    "before we split data into subsets , i suggest we deal with loss functions for our task. As labels in this specific task are integer encoded , we could use availablle Sparse Categorical cross-entropy from tensorflow , but in case we are dealing with task where fasle negative is very dangerous or at least more important to avoid than false positive , we need to write our own loss function."
   ]
  },
  {
   "cell_type": "code",
   "execution_count": 5,
   "id": "2c02d72d-f962-40fb-8d99-82a8985cab09",
   "metadata": {},
   "outputs": [],
   "source": [
    "import tensorflow as tf\n",
    "from tensorflow.keras import losses"
   ]
  },
  {
   "cell_type": "code",
   "execution_count": 6,
   "id": "96a3e077-9f93-4aa3-9d6f-e946b11c0c85",
   "metadata": {},
   "outputs": [],
   "source": [
    "class WeightedSparseCategoricalCrossentropy(tf.keras.losses.Loss):\n",
    "    def __init__(self, weight_factor=2.0, **kwargs):\n",
    "        \"\"\"\n",
    "        Custom loss function that applies a higher penalty for false negatives \n",
    "        in classes 1 and 2.\n",
    "\n",
    "        Parameters:\n",
    "        - weight_factor: Float, multiplier for FN penalty on classes 1 and 2.\n",
    "        \"\"\"\n",
    "        super().__init__(**kwargs)\n",
    "        self.base_loss = losses.SparseCategoricalCrossentropy(from_logits=False, reduction=tf.keras.losses.Reduction.NONE)\n",
    "        self.weight_factor = weight_factor\n",
    "\n",
    "    def call(self, y_true, y_pred):\n",
    "        # Compute base loss per sample\n",
    "        base_loss = self.base_loss(y_true, y_pred)\n",
    "\n",
    "        # Convert true labels to integer tensor\n",
    "        y_true = tf.cast(y_true, tf.int32)\n",
    "\n",
    "        # Get predicted class (argmax over softmax probabilities)\n",
    "        y_pred_class = tf.argmax(y_pred, axis=-1, output_type=tf.int32)\n",
    "\n",
    "        # Identify false negatives (y_true is 1 or 2 but was misclassified)\n",
    "        fn_mask = tf.logical_and(tf.logical_or(tf.equal(y_true, 1), tf.equal(y_true, 2)), \n",
    "                                 tf.not_equal(y_true, y_pred_class))\n",
    "        fn_mask = tf.cast(fn_mask, tf.float32)\n",
    "\n",
    "        # Increase loss only for false negatives in classes 1 and 2\n",
    "        weighted_loss = base_loss * (1 + fn_mask * (self.weight_factor - 1))\n",
    "\n",
    "        return tf.reduce_mean(weighted_loss)\n"
   ]
  },
  {
   "cell_type": "code",
   "execution_count": 7,
   "id": "f491f1f4-85bf-4d35-8809-83fa64b1afdf",
   "metadata": {},
   "outputs": [],
   "source": [
    "# Now , we can split data \n",
    "\n",
    "lung_scan_cases_train , lung_scan_cases_test , lung_scan_cases_labels_train , lung_scan_cases_labels_test = train_test_split(\n",
    "    lung_scan_cases ,\n",
    "    lung_scan_cases_labels ,\n",
    "    train_size = 0.85 ,\n",
    "    stratify = lung_scan_cases_labels ,\n",
    "    random_state = 42\n",
    ")\n"
   ]
  },
  {
   "cell_type": "code",
   "execution_count": 8,
   "id": "85ff48c6-1f17-4ee4-9b1f-45dfcc2b06b5",
   "metadata": {},
   "outputs": [],
   "source": [
    "# and let's also obtain validation set \n",
    "\n",
    "lung_scan_cases_train , lung_scan_cases_validation , lung_scan_cases_labels_train , lung_scan_cases_labels_validation = train_test_split(\n",
    "    lung_scan_cases_train ,\n",
    "    lung_scan_cases_labels_train ,\n",
    "    train_size = 0.75 ,\n",
    "    stratify = lung_scan_cases_labels_train ,\n",
    "    random_state = 42\n",
    ")\n"
   ]
  },
  {
   "cell_type": "markdown",
   "id": "4a5fc7fd-3dc1-4343-a33c-d8eca17f12c1",
   "metadata": {},
   "source": [
    "## MODEL BUILDING"
   ]
  },
  {
   "cell_type": "markdown",
   "id": "aabba4e1-6450-46a3-980a-67b7e6811883",
   "metadata": {
    "jp-MarkdownHeadingCollapsed": true
   },
   "source": [
    "#### BUILDING STRUCTURE"
   ]
  },
  {
   "cell_type": "code",
   "execution_count": 9,
   "id": "62e8acc2-f586-472d-be7c-45821edaa034",
   "metadata": {},
   "outputs": [],
   "source": [
    "from tensorflow.keras import models , layers , optimizers , regularizers , callbacks"
   ]
  },
  {
   "cell_type": "code",
   "execution_count": 40,
   "id": "d57e2ebe-a171-427b-b4b9-04c1cfe46ab6",
   "metadata": {},
   "outputs": [],
   "source": [
    "lung_scan_cases_sequential_neural_net = models.Sequential( [\n",
    "\n",
    "    layers.Conv2D( filters = 32 ,\n",
    "                   kernel_size = (3,3),\n",
    "                   activation = 'relu',\n",
    "                   kernel_regularizer = regularizers.l2(0.003)),\n",
    "    layers.BatchNormalization(),\n",
    "    layers.MaxPool2D((3,3)) ,\n",
    "\n",
    "    layers.Conv2D( filters = 64 ,\n",
    "                   kernel_size = (3,3),\n",
    "                   activation = 'relu',\n",
    "                   kernel_regularizer = regularizers.l2(0.003)),\n",
    "    layers.BatchNormalization(),\n",
    "    layers.MaxPool2D((3,3)) ,\n",
    "\n",
    "    layers.Conv2D( filters = 128 ,\n",
    "                   kernel_size = (3,3),\n",
    "                   activation = 'relu',\n",
    "                   kernel_regularizer = regularizers.l2(0.003)),\n",
    "    layers.BatchNormalization(),\n",
    "    layers.MaxPool2D((3,3)) ,\n",
    "\n",
    "    layers.Conv2D( filters = 256 ,\n",
    "                   kernel_size = (3,3),\n",
    "                   activation = 'relu',\n",
    "                   kernel_regularizer = regularizers.l2(0.003)),\n",
    "    layers.BatchNormalization(),\n",
    "    layers.MaxPool2D((3,3)) ,\n",
    "    \n",
    "] )"
   ]
  },
  {
   "cell_type": "code",
   "execution_count": 41,
   "id": "7af2781c-19cc-4e64-b3ea-ee702bf655da",
   "metadata": {},
   "outputs": [],
   "source": [
    "lung_scan_cases_sequential_neural_net.add( layers.GlobalAveragePooling2D())\n",
    "\n",
    "lung_scan_cases_sequential_neural_net.add( layers.Dense( units = 128 ,\n",
    "                                                         activation = 'relu') )\n",
    "\n",
    "lung_scan_cases_sequential_neural_net.add( layers.Dropout(rate = 0.4) )\n",
    "\n",
    "lung_scan_cases_sequential_neural_net.add( layers.Dense( units = 3 ,\n",
    "                                                         activation = 'softmax') )"
   ]
  },
  {
   "cell_type": "code",
   "execution_count": 42,
   "id": "9c2c7e02-26ec-495c-987d-f1ed11ce4260",
   "metadata": {},
   "outputs": [],
   "source": [
    "lung_scan_cases_sequential_neural_net.build( input_shape = (None,224, 224, 1) )"
   ]
  },
  {
   "cell_type": "code",
   "execution_count": 43,
   "id": "9ecc34c3-f065-43a6-8faf-8a453d3a27d7",
   "metadata": {},
   "outputs": [
    {
     "data": {
      "text/html": [
       "<pre style=\"white-space:pre;overflow-x:auto;line-height:normal;font-family:Menlo,'DejaVu Sans Mono',consolas,'Courier New',monospace\"><span style=\"font-weight: bold\">Model: \"sequential_6\"</span>\n",
       "</pre>\n"
      ],
      "text/plain": [
       "\u001b[1mModel: \"sequential_6\"\u001b[0m\n"
      ]
     },
     "metadata": {},
     "output_type": "display_data"
    },
    {
     "data": {
      "text/html": [
       "<pre style=\"white-space:pre;overflow-x:auto;line-height:normal;font-family:Menlo,'DejaVu Sans Mono',consolas,'Courier New',monospace\">┏━━━━━━━━━━━━━━━━━━━━━━━━━━━━━━━━━━━━━━┳━━━━━━━━━━━━━━━━━━━━━━━━━━━━━┳━━━━━━━━━━━━━━━━━┓\n",
       "┃<span style=\"font-weight: bold\"> Layer (type)                         </span>┃<span style=\"font-weight: bold\"> Output Shape                </span>┃<span style=\"font-weight: bold\">         Param # </span>┃\n",
       "┡━━━━━━━━━━━━━━━━━━━━━━━━━━━━━━━━━━━━━━╇━━━━━━━━━━━━━━━━━━━━━━━━━━━━━╇━━━━━━━━━━━━━━━━━┩\n",
       "│ conv2d_21 (<span style=\"color: #0087ff; text-decoration-color: #0087ff\">Conv2D</span>)                   │ (<span style=\"color: #00d7ff; text-decoration-color: #00d7ff\">None</span>, <span style=\"color: #00af00; text-decoration-color: #00af00\">222</span>, <span style=\"color: #00af00; text-decoration-color: #00af00\">222</span>, <span style=\"color: #00af00; text-decoration-color: #00af00\">32</span>)        │             <span style=\"color: #00af00; text-decoration-color: #00af00\">320</span> │\n",
       "├──────────────────────────────────────┼─────────────────────────────┼─────────────────┤\n",
       "│ batch_normalization_21               │ (<span style=\"color: #00d7ff; text-decoration-color: #00d7ff\">None</span>, <span style=\"color: #00af00; text-decoration-color: #00af00\">222</span>, <span style=\"color: #00af00; text-decoration-color: #00af00\">222</span>, <span style=\"color: #00af00; text-decoration-color: #00af00\">32</span>)        │             <span style=\"color: #00af00; text-decoration-color: #00af00\">128</span> │\n",
       "│ (<span style=\"color: #0087ff; text-decoration-color: #0087ff\">BatchNormalization</span>)                 │                             │                 │\n",
       "├──────────────────────────────────────┼─────────────────────────────┼─────────────────┤\n",
       "│ max_pooling2d_21 (<span style=\"color: #0087ff; text-decoration-color: #0087ff\">MaxPooling2D</span>)      │ (<span style=\"color: #00d7ff; text-decoration-color: #00d7ff\">None</span>, <span style=\"color: #00af00; text-decoration-color: #00af00\">74</span>, <span style=\"color: #00af00; text-decoration-color: #00af00\">74</span>, <span style=\"color: #00af00; text-decoration-color: #00af00\">32</span>)          │               <span style=\"color: #00af00; text-decoration-color: #00af00\">0</span> │\n",
       "├──────────────────────────────────────┼─────────────────────────────┼─────────────────┤\n",
       "│ conv2d_22 (<span style=\"color: #0087ff; text-decoration-color: #0087ff\">Conv2D</span>)                   │ (<span style=\"color: #00d7ff; text-decoration-color: #00d7ff\">None</span>, <span style=\"color: #00af00; text-decoration-color: #00af00\">72</span>, <span style=\"color: #00af00; text-decoration-color: #00af00\">72</span>, <span style=\"color: #00af00; text-decoration-color: #00af00\">64</span>)          │          <span style=\"color: #00af00; text-decoration-color: #00af00\">18,496</span> │\n",
       "├──────────────────────────────────────┼─────────────────────────────┼─────────────────┤\n",
       "│ batch_normalization_22               │ (<span style=\"color: #00d7ff; text-decoration-color: #00d7ff\">None</span>, <span style=\"color: #00af00; text-decoration-color: #00af00\">72</span>, <span style=\"color: #00af00; text-decoration-color: #00af00\">72</span>, <span style=\"color: #00af00; text-decoration-color: #00af00\">64</span>)          │             <span style=\"color: #00af00; text-decoration-color: #00af00\">256</span> │\n",
       "│ (<span style=\"color: #0087ff; text-decoration-color: #0087ff\">BatchNormalization</span>)                 │                             │                 │\n",
       "├──────────────────────────────────────┼─────────────────────────────┼─────────────────┤\n",
       "│ max_pooling2d_22 (<span style=\"color: #0087ff; text-decoration-color: #0087ff\">MaxPooling2D</span>)      │ (<span style=\"color: #00d7ff; text-decoration-color: #00d7ff\">None</span>, <span style=\"color: #00af00; text-decoration-color: #00af00\">24</span>, <span style=\"color: #00af00; text-decoration-color: #00af00\">24</span>, <span style=\"color: #00af00; text-decoration-color: #00af00\">64</span>)          │               <span style=\"color: #00af00; text-decoration-color: #00af00\">0</span> │\n",
       "├──────────────────────────────────────┼─────────────────────────────┼─────────────────┤\n",
       "│ conv2d_23 (<span style=\"color: #0087ff; text-decoration-color: #0087ff\">Conv2D</span>)                   │ (<span style=\"color: #00d7ff; text-decoration-color: #00d7ff\">None</span>, <span style=\"color: #00af00; text-decoration-color: #00af00\">22</span>, <span style=\"color: #00af00; text-decoration-color: #00af00\">22</span>, <span style=\"color: #00af00; text-decoration-color: #00af00\">128</span>)         │          <span style=\"color: #00af00; text-decoration-color: #00af00\">73,856</span> │\n",
       "├──────────────────────────────────────┼─────────────────────────────┼─────────────────┤\n",
       "│ batch_normalization_23               │ (<span style=\"color: #00d7ff; text-decoration-color: #00d7ff\">None</span>, <span style=\"color: #00af00; text-decoration-color: #00af00\">22</span>, <span style=\"color: #00af00; text-decoration-color: #00af00\">22</span>, <span style=\"color: #00af00; text-decoration-color: #00af00\">128</span>)         │             <span style=\"color: #00af00; text-decoration-color: #00af00\">512</span> │\n",
       "│ (<span style=\"color: #0087ff; text-decoration-color: #0087ff\">BatchNormalization</span>)                 │                             │                 │\n",
       "├──────────────────────────────────────┼─────────────────────────────┼─────────────────┤\n",
       "│ max_pooling2d_23 (<span style=\"color: #0087ff; text-decoration-color: #0087ff\">MaxPooling2D</span>)      │ (<span style=\"color: #00d7ff; text-decoration-color: #00d7ff\">None</span>, <span style=\"color: #00af00; text-decoration-color: #00af00\">7</span>, <span style=\"color: #00af00; text-decoration-color: #00af00\">7</span>, <span style=\"color: #00af00; text-decoration-color: #00af00\">128</span>)           │               <span style=\"color: #00af00; text-decoration-color: #00af00\">0</span> │\n",
       "├──────────────────────────────────────┼─────────────────────────────┼─────────────────┤\n",
       "│ conv2d_24 (<span style=\"color: #0087ff; text-decoration-color: #0087ff\">Conv2D</span>)                   │ (<span style=\"color: #00d7ff; text-decoration-color: #00d7ff\">None</span>, <span style=\"color: #00af00; text-decoration-color: #00af00\">5</span>, <span style=\"color: #00af00; text-decoration-color: #00af00\">5</span>, <span style=\"color: #00af00; text-decoration-color: #00af00\">256</span>)           │         <span style=\"color: #00af00; text-decoration-color: #00af00\">295,168</span> │\n",
       "├──────────────────────────────────────┼─────────────────────────────┼─────────────────┤\n",
       "│ batch_normalization_24               │ (<span style=\"color: #00d7ff; text-decoration-color: #00d7ff\">None</span>, <span style=\"color: #00af00; text-decoration-color: #00af00\">5</span>, <span style=\"color: #00af00; text-decoration-color: #00af00\">5</span>, <span style=\"color: #00af00; text-decoration-color: #00af00\">256</span>)           │           <span style=\"color: #00af00; text-decoration-color: #00af00\">1,024</span> │\n",
       "│ (<span style=\"color: #0087ff; text-decoration-color: #0087ff\">BatchNormalization</span>)                 │                             │                 │\n",
       "├──────────────────────────────────────┼─────────────────────────────┼─────────────────┤\n",
       "│ max_pooling2d_24 (<span style=\"color: #0087ff; text-decoration-color: #0087ff\">MaxPooling2D</span>)      │ (<span style=\"color: #00d7ff; text-decoration-color: #00d7ff\">None</span>, <span style=\"color: #00af00; text-decoration-color: #00af00\">1</span>, <span style=\"color: #00af00; text-decoration-color: #00af00\">1</span>, <span style=\"color: #00af00; text-decoration-color: #00af00\">256</span>)           │               <span style=\"color: #00af00; text-decoration-color: #00af00\">0</span> │\n",
       "├──────────────────────────────────────┼─────────────────────────────┼─────────────────┤\n",
       "│ global_average_pooling2d_6           │ (<span style=\"color: #00d7ff; text-decoration-color: #00d7ff\">None</span>, <span style=\"color: #00af00; text-decoration-color: #00af00\">256</span>)                 │               <span style=\"color: #00af00; text-decoration-color: #00af00\">0</span> │\n",
       "│ (<span style=\"color: #0087ff; text-decoration-color: #0087ff\">GlobalAveragePooling2D</span>)             │                             │                 │\n",
       "├──────────────────────────────────────┼─────────────────────────────┼─────────────────┤\n",
       "│ dense_12 (<span style=\"color: #0087ff; text-decoration-color: #0087ff\">Dense</span>)                     │ (<span style=\"color: #00d7ff; text-decoration-color: #00d7ff\">None</span>, <span style=\"color: #00af00; text-decoration-color: #00af00\">128</span>)                 │          <span style=\"color: #00af00; text-decoration-color: #00af00\">32,896</span> │\n",
       "├──────────────────────────────────────┼─────────────────────────────┼─────────────────┤\n",
       "│ dropout_6 (<span style=\"color: #0087ff; text-decoration-color: #0087ff\">Dropout</span>)                  │ (<span style=\"color: #00d7ff; text-decoration-color: #00d7ff\">None</span>, <span style=\"color: #00af00; text-decoration-color: #00af00\">128</span>)                 │               <span style=\"color: #00af00; text-decoration-color: #00af00\">0</span> │\n",
       "├──────────────────────────────────────┼─────────────────────────────┼─────────────────┤\n",
       "│ dense_13 (<span style=\"color: #0087ff; text-decoration-color: #0087ff\">Dense</span>)                     │ (<span style=\"color: #00d7ff; text-decoration-color: #00d7ff\">None</span>, <span style=\"color: #00af00; text-decoration-color: #00af00\">3</span>)                   │             <span style=\"color: #00af00; text-decoration-color: #00af00\">387</span> │\n",
       "└──────────────────────────────────────┴─────────────────────────────┴─────────────────┘\n",
       "</pre>\n"
      ],
      "text/plain": [
       "┏━━━━━━━━━━━━━━━━━━━━━━━━━━━━━━━━━━━━━━┳━━━━━━━━━━━━━━━━━━━━━━━━━━━━━┳━━━━━━━━━━━━━━━━━┓\n",
       "┃\u001b[1m \u001b[0m\u001b[1mLayer (type)                        \u001b[0m\u001b[1m \u001b[0m┃\u001b[1m \u001b[0m\u001b[1mOutput Shape               \u001b[0m\u001b[1m \u001b[0m┃\u001b[1m \u001b[0m\u001b[1m        Param #\u001b[0m\u001b[1m \u001b[0m┃\n",
       "┡━━━━━━━━━━━━━━━━━━━━━━━━━━━━━━━━━━━━━━╇━━━━━━━━━━━━━━━━━━━━━━━━━━━━━╇━━━━━━━━━━━━━━━━━┩\n",
       "│ conv2d_21 (\u001b[38;5;33mConv2D\u001b[0m)                   │ (\u001b[38;5;45mNone\u001b[0m, \u001b[38;5;34m222\u001b[0m, \u001b[38;5;34m222\u001b[0m, \u001b[38;5;34m32\u001b[0m)        │             \u001b[38;5;34m320\u001b[0m │\n",
       "├──────────────────────────────────────┼─────────────────────────────┼─────────────────┤\n",
       "│ batch_normalization_21               │ (\u001b[38;5;45mNone\u001b[0m, \u001b[38;5;34m222\u001b[0m, \u001b[38;5;34m222\u001b[0m, \u001b[38;5;34m32\u001b[0m)        │             \u001b[38;5;34m128\u001b[0m │\n",
       "│ (\u001b[38;5;33mBatchNormalization\u001b[0m)                 │                             │                 │\n",
       "├──────────────────────────────────────┼─────────────────────────────┼─────────────────┤\n",
       "│ max_pooling2d_21 (\u001b[38;5;33mMaxPooling2D\u001b[0m)      │ (\u001b[38;5;45mNone\u001b[0m, \u001b[38;5;34m74\u001b[0m, \u001b[38;5;34m74\u001b[0m, \u001b[38;5;34m32\u001b[0m)          │               \u001b[38;5;34m0\u001b[0m │\n",
       "├──────────────────────────────────────┼─────────────────────────────┼─────────────────┤\n",
       "│ conv2d_22 (\u001b[38;5;33mConv2D\u001b[0m)                   │ (\u001b[38;5;45mNone\u001b[0m, \u001b[38;5;34m72\u001b[0m, \u001b[38;5;34m72\u001b[0m, \u001b[38;5;34m64\u001b[0m)          │          \u001b[38;5;34m18,496\u001b[0m │\n",
       "├──────────────────────────────────────┼─────────────────────────────┼─────────────────┤\n",
       "│ batch_normalization_22               │ (\u001b[38;5;45mNone\u001b[0m, \u001b[38;5;34m72\u001b[0m, \u001b[38;5;34m72\u001b[0m, \u001b[38;5;34m64\u001b[0m)          │             \u001b[38;5;34m256\u001b[0m │\n",
       "│ (\u001b[38;5;33mBatchNormalization\u001b[0m)                 │                             │                 │\n",
       "├──────────────────────────────────────┼─────────────────────────────┼─────────────────┤\n",
       "│ max_pooling2d_22 (\u001b[38;5;33mMaxPooling2D\u001b[0m)      │ (\u001b[38;5;45mNone\u001b[0m, \u001b[38;5;34m24\u001b[0m, \u001b[38;5;34m24\u001b[0m, \u001b[38;5;34m64\u001b[0m)          │               \u001b[38;5;34m0\u001b[0m │\n",
       "├──────────────────────────────────────┼─────────────────────────────┼─────────────────┤\n",
       "│ conv2d_23 (\u001b[38;5;33mConv2D\u001b[0m)                   │ (\u001b[38;5;45mNone\u001b[0m, \u001b[38;5;34m22\u001b[0m, \u001b[38;5;34m22\u001b[0m, \u001b[38;5;34m128\u001b[0m)         │          \u001b[38;5;34m73,856\u001b[0m │\n",
       "├──────────────────────────────────────┼─────────────────────────────┼─────────────────┤\n",
       "│ batch_normalization_23               │ (\u001b[38;5;45mNone\u001b[0m, \u001b[38;5;34m22\u001b[0m, \u001b[38;5;34m22\u001b[0m, \u001b[38;5;34m128\u001b[0m)         │             \u001b[38;5;34m512\u001b[0m │\n",
       "│ (\u001b[38;5;33mBatchNormalization\u001b[0m)                 │                             │                 │\n",
       "├──────────────────────────────────────┼─────────────────────────────┼─────────────────┤\n",
       "│ max_pooling2d_23 (\u001b[38;5;33mMaxPooling2D\u001b[0m)      │ (\u001b[38;5;45mNone\u001b[0m, \u001b[38;5;34m7\u001b[0m, \u001b[38;5;34m7\u001b[0m, \u001b[38;5;34m128\u001b[0m)           │               \u001b[38;5;34m0\u001b[0m │\n",
       "├──────────────────────────────────────┼─────────────────────────────┼─────────────────┤\n",
       "│ conv2d_24 (\u001b[38;5;33mConv2D\u001b[0m)                   │ (\u001b[38;5;45mNone\u001b[0m, \u001b[38;5;34m5\u001b[0m, \u001b[38;5;34m5\u001b[0m, \u001b[38;5;34m256\u001b[0m)           │         \u001b[38;5;34m295,168\u001b[0m │\n",
       "├──────────────────────────────────────┼─────────────────────────────┼─────────────────┤\n",
       "│ batch_normalization_24               │ (\u001b[38;5;45mNone\u001b[0m, \u001b[38;5;34m5\u001b[0m, \u001b[38;5;34m5\u001b[0m, \u001b[38;5;34m256\u001b[0m)           │           \u001b[38;5;34m1,024\u001b[0m │\n",
       "│ (\u001b[38;5;33mBatchNormalization\u001b[0m)                 │                             │                 │\n",
       "├──────────────────────────────────────┼─────────────────────────────┼─────────────────┤\n",
       "│ max_pooling2d_24 (\u001b[38;5;33mMaxPooling2D\u001b[0m)      │ (\u001b[38;5;45mNone\u001b[0m, \u001b[38;5;34m1\u001b[0m, \u001b[38;5;34m1\u001b[0m, \u001b[38;5;34m256\u001b[0m)           │               \u001b[38;5;34m0\u001b[0m │\n",
       "├──────────────────────────────────────┼─────────────────────────────┼─────────────────┤\n",
       "│ global_average_pooling2d_6           │ (\u001b[38;5;45mNone\u001b[0m, \u001b[38;5;34m256\u001b[0m)                 │               \u001b[38;5;34m0\u001b[0m │\n",
       "│ (\u001b[38;5;33mGlobalAveragePooling2D\u001b[0m)             │                             │                 │\n",
       "├──────────────────────────────────────┼─────────────────────────────┼─────────────────┤\n",
       "│ dense_12 (\u001b[38;5;33mDense\u001b[0m)                     │ (\u001b[38;5;45mNone\u001b[0m, \u001b[38;5;34m128\u001b[0m)                 │          \u001b[38;5;34m32,896\u001b[0m │\n",
       "├──────────────────────────────────────┼─────────────────────────────┼─────────────────┤\n",
       "│ dropout_6 (\u001b[38;5;33mDropout\u001b[0m)                  │ (\u001b[38;5;45mNone\u001b[0m, \u001b[38;5;34m128\u001b[0m)                 │               \u001b[38;5;34m0\u001b[0m │\n",
       "├──────────────────────────────────────┼─────────────────────────────┼─────────────────┤\n",
       "│ dense_13 (\u001b[38;5;33mDense\u001b[0m)                     │ (\u001b[38;5;45mNone\u001b[0m, \u001b[38;5;34m3\u001b[0m)                   │             \u001b[38;5;34m387\u001b[0m │\n",
       "└──────────────────────────────────────┴─────────────────────────────┴─────────────────┘\n"
      ]
     },
     "metadata": {},
     "output_type": "display_data"
    },
    {
     "data": {
      "text/html": [
       "<pre style=\"white-space:pre;overflow-x:auto;line-height:normal;font-family:Menlo,'DejaVu Sans Mono',consolas,'Courier New',monospace\"><span style=\"font-weight: bold\"> Total params: </span><span style=\"color: #00af00; text-decoration-color: #00af00\">423,043</span> (1.61 MB)\n",
       "</pre>\n"
      ],
      "text/plain": [
       "\u001b[1m Total params: \u001b[0m\u001b[38;5;34m423,043\u001b[0m (1.61 MB)\n"
      ]
     },
     "metadata": {},
     "output_type": "display_data"
    },
    {
     "data": {
      "text/html": [
       "<pre style=\"white-space:pre;overflow-x:auto;line-height:normal;font-family:Menlo,'DejaVu Sans Mono',consolas,'Courier New',monospace\"><span style=\"font-weight: bold\"> Trainable params: </span><span style=\"color: #00af00; text-decoration-color: #00af00\">422,083</span> (1.61 MB)\n",
       "</pre>\n"
      ],
      "text/plain": [
       "\u001b[1m Trainable params: \u001b[0m\u001b[38;5;34m422,083\u001b[0m (1.61 MB)\n"
      ]
     },
     "metadata": {},
     "output_type": "display_data"
    },
    {
     "data": {
      "text/html": [
       "<pre style=\"white-space:pre;overflow-x:auto;line-height:normal;font-family:Menlo,'DejaVu Sans Mono',consolas,'Courier New',monospace\"><span style=\"font-weight: bold\"> Non-trainable params: </span><span style=\"color: #00af00; text-decoration-color: #00af00\">960</span> (3.75 KB)\n",
       "</pre>\n"
      ],
      "text/plain": [
       "\u001b[1m Non-trainable params: \u001b[0m\u001b[38;5;34m960\u001b[0m (3.75 KB)\n"
      ]
     },
     "metadata": {},
     "output_type": "display_data"
    }
   ],
   "source": [
    "lung_scan_cases_sequential_neural_net.summary()"
   ]
  },
  {
   "cell_type": "markdown",
   "id": "39d66b10-ff9b-4ed7-822e-bb7e87cfa996",
   "metadata": {
    "jp-MarkdownHeadingCollapsed": true
   },
   "source": [
    "#### COMPILE"
   ]
  },
  {
   "cell_type": "code",
   "execution_count": 44,
   "id": "62e1eae5-5493-440b-9899-91803cd5ff59",
   "metadata": {},
   "outputs": [],
   "source": [
    "lung_scan_cases_sequential_neural_net.compile( optimizer = optimizers.Adam() ,\n",
    "                                               loss = WeightedSparseCategoricalCrossentropy(),\n",
    "                                               metrics = ['accuracy'] )"
   ]
  },
  {
   "cell_type": "code",
   "execution_count": 45,
   "id": "97310a88-1bbd-4086-aad3-45dcbc8349dd",
   "metadata": {},
   "outputs": [],
   "source": [
    "lung_scan_cases_sequential_neural_net_early_stopping = callbacks.EarlyStopping( monitor = 'val_loss',\n",
    "                                                                                patience = 25 ,\n",
    "                                                                                restore_best_weights = True )"
   ]
  },
  {
   "cell_type": "markdown",
   "id": "901640af-caa2-4d06-bda0-1eab7f437f36",
   "metadata": {
    "jp-MarkdownHeadingCollapsed": true
   },
   "source": [
    "#### TRAIN"
   ]
  },
  {
   "cell_type": "code",
   "execution_count": 46,
   "id": "ad9ae060-fa38-4ab1-8831-c45ebec34e4f",
   "metadata": {
    "scrolled": true
   },
   "outputs": [
    {
     "name": "stdout",
     "output_type": "stream",
     "text": [
      "Epoch 1/100\n",
      "\u001b[1m83/83\u001b[0m \u001b[32m━━━━━━━━━━━━━━━━━━━━\u001b[0m\u001b[37m\u001b[0m \u001b[1m46s\u001b[0m 527ms/step - accuracy: 0.5660 - loss: 2.4621 - val_accuracy: 0.3869 - val_loss: 4.3147\n",
      "Epoch 2/100\n",
      "\u001b[1m83/83\u001b[0m \u001b[32m━━━━━━━━━━━━━━━━━━━━\u001b[0m\u001b[37m\u001b[0m \u001b[1m44s\u001b[0m 533ms/step - accuracy: 0.7584 - loss: 1.5857 - val_accuracy: 0.3869 - val_loss: 5.5723\n",
      "Epoch 3/100\n",
      "\u001b[1m83/83\u001b[0m \u001b[32m━━━━━━━━━━━━━━━━━━━━\u001b[0m\u001b[37m\u001b[0m \u001b[1m43s\u001b[0m 524ms/step - accuracy: 0.8288 - loss: 1.3713 - val_accuracy: 0.3869 - val_loss: 6.3997\n",
      "Epoch 4/100\n",
      "\u001b[1m83/83\u001b[0m \u001b[32m━━━━━━━━━━━━━━━━━━━━\u001b[0m\u001b[37m\u001b[0m \u001b[1m44s\u001b[0m 526ms/step - accuracy: 0.8667 - loss: 1.2058 - val_accuracy: 0.3869 - val_loss: 7.0106\n",
      "Epoch 5/100\n",
      "\u001b[1m83/83\u001b[0m \u001b[32m━━━━━━━━━━━━━━━━━━━━\u001b[0m\u001b[37m\u001b[0m \u001b[1m44s\u001b[0m 529ms/step - accuracy: 0.8857 - loss: 1.1094 - val_accuracy: 0.5441 - val_loss: 2.8713\n",
      "Epoch 6/100\n",
      "\u001b[1m83/83\u001b[0m \u001b[32m━━━━━━━━━━━━━━━━━━━━\u001b[0m\u001b[37m\u001b[0m \u001b[1m44s\u001b[0m 527ms/step - accuracy: 0.9232 - loss: 0.9475 - val_accuracy: 0.6912 - val_loss: 1.7581\n",
      "Epoch 7/100\n",
      "\u001b[1m83/83\u001b[0m \u001b[32m━━━━━━━━━━━━━━━━━━━━\u001b[0m\u001b[37m\u001b[0m \u001b[1m45s\u001b[0m 538ms/step - accuracy: 0.9310 - loss: 0.8996 - val_accuracy: 0.5554 - val_loss: 3.1478\n",
      "Epoch 8/100\n",
      "\u001b[1m83/83\u001b[0m \u001b[32m━━━━━━━━━━━━━━━━━━━━\u001b[0m\u001b[37m\u001b[0m \u001b[1m44s\u001b[0m 525ms/step - accuracy: 0.9352 - loss: 0.8461 - val_accuracy: 0.8846 - val_loss: 1.0437\n",
      "Epoch 9/100\n",
      "\u001b[1m83/83\u001b[0m \u001b[32m━━━━━━━━━━━━━━━━━━━━\u001b[0m\u001b[37m\u001b[0m \u001b[1m44s\u001b[0m 530ms/step - accuracy: 0.9307 - loss: 0.8309 - val_accuracy: 0.8835 - val_loss: 1.0769\n",
      "Epoch 10/100\n",
      "\u001b[1m83/83\u001b[0m \u001b[32m━━━━━━━━━━━━━━━━━━━━\u001b[0m\u001b[37m\u001b[0m \u001b[1m44s\u001b[0m 524ms/step - accuracy: 0.9501 - loss: 0.7670 - val_accuracy: 0.8620 - val_loss: 1.1122\n",
      "Epoch 11/100\n",
      "\u001b[1m83/83\u001b[0m \u001b[32m━━━━━━━━━━━━━━━━━━━━\u001b[0m\u001b[37m\u001b[0m \u001b[1m43s\u001b[0m 523ms/step - accuracy: 0.9696 - loss: 0.6568 - val_accuracy: 0.7749 - val_loss: 1.5178\n",
      "Epoch 12/100\n",
      "\u001b[1m83/83\u001b[0m \u001b[32m━━━━━━━━━━━━━━━━━━━━\u001b[0m\u001b[37m\u001b[0m \u001b[1m43s\u001b[0m 524ms/step - accuracy: 0.9487 - loss: 0.7199 - val_accuracy: 0.6176 - val_loss: 2.3990\n",
      "Epoch 13/100\n",
      "\u001b[1m83/83\u001b[0m \u001b[32m━━━━━━━━━━━━━━━━━━━━\u001b[0m\u001b[37m\u001b[0m \u001b[1m44s\u001b[0m 525ms/step - accuracy: 0.9447 - loss: 0.7046 - val_accuracy: 0.9174 - val_loss: 0.8874\n",
      "Epoch 14/100\n",
      "\u001b[1m83/83\u001b[0m \u001b[32m━━━━━━━━━━━━━━━━━━━━\u001b[0m\u001b[37m\u001b[0m \u001b[1m44s\u001b[0m 529ms/step - accuracy: 0.9561 - loss: 0.6772 - val_accuracy: 0.6346 - val_loss: 3.5555\n",
      "Epoch 15/100\n",
      "\u001b[1m83/83\u001b[0m \u001b[32m━━━━━━━━━━━━━━━━━━━━\u001b[0m\u001b[37m\u001b[0m \u001b[1m43s\u001b[0m 523ms/step - accuracy: 0.9751 - loss: 0.5879 - val_accuracy: 0.7828 - val_loss: 1.1368\n",
      "Epoch 16/100\n",
      "\u001b[1m83/83\u001b[0m \u001b[32m━━━━━━━━━━━━━━━━━━━━\u001b[0m\u001b[37m\u001b[0m \u001b[1m44s\u001b[0m 529ms/step - accuracy: 0.9577 - loss: 0.6206 - val_accuracy: 0.7670 - val_loss: 1.8192\n",
      "Epoch 17/100\n",
      "\u001b[1m83/83\u001b[0m \u001b[32m━━━━━━━━━━━━━━━━━━━━\u001b[0m\u001b[37m\u001b[0m \u001b[1m44s\u001b[0m 525ms/step - accuracy: 0.9352 - loss: 0.7345 - val_accuracy: 0.5328 - val_loss: 3.9298\n",
      "Epoch 18/100\n",
      "\u001b[1m83/83\u001b[0m \u001b[32m━━━━━━━━━━━━━━━━━━━━\u001b[0m\u001b[37m\u001b[0m \u001b[1m43s\u001b[0m 524ms/step - accuracy: 0.9447 - loss: 0.7193 - val_accuracy: 0.8710 - val_loss: 1.0948\n",
      "Epoch 19/100\n",
      "\u001b[1m83/83\u001b[0m \u001b[32m━━━━━━━━━━━━━━━━━━━━\u001b[0m\u001b[37m\u001b[0m \u001b[1m44s\u001b[0m 534ms/step - accuracy: 0.9595 - loss: 0.6697 - val_accuracy: 0.9321 - val_loss: 0.7406\n",
      "Epoch 20/100\n",
      "\u001b[1m83/83\u001b[0m \u001b[32m━━━━━━━━━━━━━━━━━━━━\u001b[0m\u001b[37m\u001b[0m \u001b[1m44s\u001b[0m 524ms/step - accuracy: 0.9697 - loss: 0.6025 - val_accuracy: 0.9208 - val_loss: 0.8020\n",
      "Epoch 21/100\n",
      "\u001b[1m83/83\u001b[0m \u001b[32m━━━━━━━━━━━━━━━━━━━━\u001b[0m\u001b[37m\u001b[0m \u001b[1m44s\u001b[0m 527ms/step - accuracy: 0.9816 - loss: 0.5424 - val_accuracy: 0.9321 - val_loss: 0.7064\n",
      "Epoch 22/100\n",
      "\u001b[1m83/83\u001b[0m \u001b[32m━━━━━━━━━━━━━━━━━━━━\u001b[0m\u001b[37m\u001b[0m \u001b[1m44s\u001b[0m 533ms/step - accuracy: 0.9670 - loss: 0.5509 - val_accuracy: 0.8156 - val_loss: 1.2289\n",
      "Epoch 23/100\n",
      "\u001b[1m83/83\u001b[0m \u001b[32m━━━━━━━━━━━━━━━━━━━━\u001b[0m\u001b[37m\u001b[0m \u001b[1m44s\u001b[0m 526ms/step - accuracy: 0.9816 - loss: 0.5035 - val_accuracy: 0.9095 - val_loss: 0.7065\n",
      "Epoch 24/100\n",
      "\u001b[1m83/83\u001b[0m \u001b[32m━━━━━━━━━━━━━━━━━━━━\u001b[0m\u001b[37m\u001b[0m \u001b[1m43s\u001b[0m 512ms/step - accuracy: 0.9667 - loss: 0.5517 - val_accuracy: 0.9084 - val_loss: 0.8826\n",
      "Epoch 25/100\n",
      "\u001b[1m83/83\u001b[0m \u001b[32m━━━━━━━━━━━━━━━━━━━━\u001b[0m\u001b[37m\u001b[0m \u001b[1m39s\u001b[0m 470ms/step - accuracy: 0.9691 - loss: 0.5126 - val_accuracy: 0.9095 - val_loss: 0.6846\n",
      "Epoch 26/100\n",
      "\u001b[1m83/83\u001b[0m \u001b[32m━━━━━━━━━━━━━━━━━━━━\u001b[0m\u001b[37m\u001b[0m \u001b[1m39s\u001b[0m 468ms/step - accuracy: 0.9803 - loss: 0.4941 - val_accuracy: 0.8326 - val_loss: 1.2750\n",
      "Epoch 27/100\n",
      "\u001b[1m83/83\u001b[0m \u001b[32m━━━━━━━━━━━━━━━━━━━━\u001b[0m\u001b[37m\u001b[0m \u001b[1m38s\u001b[0m 454ms/step - accuracy: 0.9659 - loss: 0.5497 - val_accuracy: 0.8518 - val_loss: 1.3050\n",
      "Epoch 28/100\n",
      "\u001b[1m83/83\u001b[0m \u001b[32m━━━━━━━━━━━━━━━━━━━━\u001b[0m\u001b[37m\u001b[0m \u001b[1m38s\u001b[0m 455ms/step - accuracy: 0.9804 - loss: 0.4925 - val_accuracy: 0.6810 - val_loss: 1.9843\n",
      "Epoch 29/100\n",
      "\u001b[1m83/83\u001b[0m \u001b[32m━━━━━━━━━━━━━━━━━━━━\u001b[0m\u001b[37m\u001b[0m \u001b[1m38s\u001b[0m 455ms/step - accuracy: 0.9589 - loss: 0.5314 - val_accuracy: 0.8914 - val_loss: 1.0050\n",
      "Epoch 30/100\n",
      "\u001b[1m83/83\u001b[0m \u001b[32m━━━━━━━━━━━━━━━━━━━━\u001b[0m\u001b[37m\u001b[0m \u001b[1m38s\u001b[0m 454ms/step - accuracy: 0.9795 - loss: 0.4799 - val_accuracy: 0.7398 - val_loss: 2.2465\n",
      "Epoch 31/100\n",
      "\u001b[1m83/83\u001b[0m \u001b[32m━━━━━━━━━━━━━━━━━━━━\u001b[0m\u001b[37m\u001b[0m \u001b[1m38s\u001b[0m 455ms/step - accuracy: 0.9587 - loss: 0.5537 - val_accuracy: 0.7387 - val_loss: 1.4423\n",
      "Epoch 32/100\n",
      "\u001b[1m83/83\u001b[0m \u001b[32m━━━━━━━━━━━━━━━━━━━━\u001b[0m\u001b[37m\u001b[0m \u001b[1m38s\u001b[0m 459ms/step - accuracy: 0.9773 - loss: 0.4829 - val_accuracy: 0.8710 - val_loss: 0.8911\n",
      "Epoch 33/100\n",
      "\u001b[1m83/83\u001b[0m \u001b[32m━━━━━━━━━━━━━━━━━━━━\u001b[0m\u001b[37m\u001b[0m \u001b[1m38s\u001b[0m 454ms/step - accuracy: 0.9872 - loss: 0.4500 - val_accuracy: 0.6686 - val_loss: 4.2459\n",
      "Epoch 34/100\n",
      "\u001b[1m83/83\u001b[0m \u001b[32m━━━━━━━━━━━━━━━━━━━━\u001b[0m\u001b[37m\u001b[0m \u001b[1m38s\u001b[0m 454ms/step - accuracy: 0.9783 - loss: 0.4963 - val_accuracy: 0.7624 - val_loss: 1.9298\n",
      "Epoch 35/100\n",
      "\u001b[1m83/83\u001b[0m \u001b[32m━━━━━━━━━━━━━━━━━━━━\u001b[0m\u001b[37m\u001b[0m \u001b[1m38s\u001b[0m 454ms/step - accuracy: 0.9850 - loss: 0.4575 - val_accuracy: 0.7964 - val_loss: 1.1837\n",
      "Epoch 36/100\n",
      "\u001b[1m83/83\u001b[0m \u001b[32m━━━━━━━━━━━━━━━━━━━━\u001b[0m\u001b[37m\u001b[0m \u001b[1m38s\u001b[0m 453ms/step - accuracy: 0.9730 - loss: 0.4927 - val_accuracy: 0.8405 - val_loss: 1.3713\n",
      "Epoch 37/100\n",
      "\u001b[1m83/83\u001b[0m \u001b[32m━━━━━━━━━━━━━━━━━━━━\u001b[0m\u001b[37m\u001b[0m \u001b[1m38s\u001b[0m 457ms/step - accuracy: 0.9782 - loss: 0.4599 - val_accuracy: 0.7183 - val_loss: 1.6381\n",
      "Epoch 38/100\n",
      "\u001b[1m83/83\u001b[0m \u001b[32m━━━━━━━━━━━━━━━━━━━━\u001b[0m\u001b[37m\u001b[0m \u001b[1m38s\u001b[0m 458ms/step - accuracy: 0.9856 - loss: 0.4453 - val_accuracy: 0.9367 - val_loss: 0.6273\n",
      "Epoch 39/100\n",
      "\u001b[1m83/83\u001b[0m \u001b[32m━━━━━━━━━━━━━━━━━━━━\u001b[0m\u001b[37m\u001b[0m \u001b[1m38s\u001b[0m 454ms/step - accuracy: 0.9892 - loss: 0.3978 - val_accuracy: 0.8937 - val_loss: 0.9874\n",
      "Epoch 40/100\n",
      "\u001b[1m83/83\u001b[0m \u001b[32m━━━━━━━━━━━━━━━━━━━━\u001b[0m\u001b[37m\u001b[0m \u001b[1m38s\u001b[0m 463ms/step - accuracy: 0.9873 - loss: 0.3844 - val_accuracy: 0.6731 - val_loss: 2.6097\n",
      "Epoch 41/100\n",
      "\u001b[1m83/83\u001b[0m \u001b[32m━━━━━━━━━━━━━━━━━━━━\u001b[0m\u001b[37m\u001b[0m \u001b[1m38s\u001b[0m 457ms/step - accuracy: 0.9696 - loss: 0.4952 - val_accuracy: 0.6357 - val_loss: 2.8796\n",
      "Epoch 42/100\n",
      "\u001b[1m83/83\u001b[0m \u001b[32m━━━━━━━━━━━━━━━━━━━━\u001b[0m\u001b[37m\u001b[0m \u001b[1m38s\u001b[0m 454ms/step - accuracy: 0.9747 - loss: 0.4910 - val_accuracy: 0.9265 - val_loss: 0.5991\n",
      "Epoch 43/100\n",
      "\u001b[1m83/83\u001b[0m \u001b[32m━━━━━━━━━━━━━━━━━━━━\u001b[0m\u001b[37m\u001b[0m \u001b[1m38s\u001b[0m 455ms/step - accuracy: 0.9888 - loss: 0.4190 - val_accuracy: 0.5215 - val_loss: 4.6322\n",
      "Epoch 44/100\n",
      "\u001b[1m83/83\u001b[0m \u001b[32m━━━━━━━━━━━━━━━━━━━━\u001b[0m\u001b[37m\u001b[0m \u001b[1m38s\u001b[0m 454ms/step - accuracy: 0.9828 - loss: 0.4367 - val_accuracy: 0.9219 - val_loss: 0.7126\n",
      "Epoch 45/100\n",
      "\u001b[1m83/83\u001b[0m \u001b[32m━━━━━━━━━━━━━━━━━━━━\u001b[0m\u001b[37m\u001b[0m \u001b[1m38s\u001b[0m 454ms/step - accuracy: 0.9847 - loss: 0.4278 - val_accuracy: 0.8100 - val_loss: 1.6368\n",
      "Epoch 46/100\n",
      "\u001b[1m83/83\u001b[0m \u001b[32m━━━━━━━━━━━━━━━━━━━━\u001b[0m\u001b[37m\u001b[0m \u001b[1m38s\u001b[0m 454ms/step - accuracy: 0.9739 - loss: 0.4700 - val_accuracy: 0.8247 - val_loss: 1.3933\n",
      "Epoch 47/100\n",
      "\u001b[1m83/83\u001b[0m \u001b[32m━━━━━━━━━━━━━━━━━━━━\u001b[0m\u001b[37m\u001b[0m \u001b[1m38s\u001b[0m 454ms/step - accuracy: 0.9797 - loss: 0.4153 - val_accuracy: 0.8428 - val_loss: 0.9036\n",
      "Epoch 48/100\n",
      "\u001b[1m83/83\u001b[0m \u001b[32m━━━━━━━━━━━━━━━━━━━━\u001b[0m\u001b[37m\u001b[0m \u001b[1m38s\u001b[0m 460ms/step - accuracy: 0.9762 - loss: 0.4413 - val_accuracy: 0.8903 - val_loss: 0.8210\n",
      "Epoch 49/100\n",
      "\u001b[1m83/83\u001b[0m \u001b[32m━━━━━━━━━━━━━━━━━━━━\u001b[0m\u001b[37m\u001b[0m \u001b[1m38s\u001b[0m 455ms/step - accuracy: 0.9869 - loss: 0.3944 - val_accuracy: 0.8201 - val_loss: 1.3422\n",
      "Epoch 50/100\n",
      "\u001b[1m83/83\u001b[0m \u001b[32m━━━━━━━━━━━━━━━━━━━━\u001b[0m\u001b[37m\u001b[0m \u001b[1m38s\u001b[0m 454ms/step - accuracy: 0.9897 - loss: 0.3601 - val_accuracy: 0.9174 - val_loss: 0.6137\n",
      "Epoch 51/100\n",
      "\u001b[1m83/83\u001b[0m \u001b[32m━━━━━━━━━━━━━━━━━━━━\u001b[0m\u001b[37m\u001b[0m \u001b[1m38s\u001b[0m 458ms/step - accuracy: 0.9698 - loss: 0.4433 - val_accuracy: 0.9197 - val_loss: 0.6997\n",
      "Epoch 52/100\n",
      "\u001b[1m83/83\u001b[0m \u001b[32m━━━━━━━━━━━━━━━━━━━━\u001b[0m\u001b[37m\u001b[0m \u001b[1m38s\u001b[0m 453ms/step - accuracy: 0.9819 - loss: 0.4296 - val_accuracy: 0.7195 - val_loss: 1.8135\n",
      "Epoch 53/100\n",
      "\u001b[1m83/83\u001b[0m \u001b[32m━━━━━━━━━━━━━━━━━━━━\u001b[0m\u001b[37m\u001b[0m \u001b[1m38s\u001b[0m 456ms/step - accuracy: 0.9570 - loss: 0.5098 - val_accuracy: 0.6731 - val_loss: 2.5355\n",
      "Epoch 54/100\n",
      "\u001b[1m83/83\u001b[0m \u001b[32m━━━━━━━━━━━━━━━━━━━━\u001b[0m\u001b[37m\u001b[0m \u001b[1m38s\u001b[0m 463ms/step - accuracy: 0.9847 - loss: 0.4352 - val_accuracy: 0.9072 - val_loss: 0.7237\n",
      "Epoch 55/100\n",
      "\u001b[1m83/83\u001b[0m \u001b[32m━━━━━━━━━━━━━━━━━━━━\u001b[0m\u001b[37m\u001b[0m \u001b[1m38s\u001b[0m 454ms/step - accuracy: 0.9783 - loss: 0.4329 - val_accuracy: 0.8258 - val_loss: 1.1146\n",
      "Epoch 56/100\n",
      "\u001b[1m83/83\u001b[0m \u001b[32m━━━━━━━━━━━━━━━━━━━━\u001b[0m\u001b[37m\u001b[0m \u001b[1m38s\u001b[0m 457ms/step - accuracy: 0.9543 - loss: 0.5285 - val_accuracy: 0.6233 - val_loss: 2.6161\n",
      "Epoch 57/100\n",
      "\u001b[1m83/83\u001b[0m \u001b[32m━━━━━━━━━━━━━━━━━━━━\u001b[0m\u001b[37m\u001b[0m \u001b[1m38s\u001b[0m 456ms/step - accuracy: 0.9895 - loss: 0.4266 - val_accuracy: 0.9491 - val_loss: 0.6071\n",
      "Epoch 58/100\n",
      "\u001b[1m83/83\u001b[0m \u001b[32m━━━━━━━━━━━━━━━━━━━━\u001b[0m\u001b[37m\u001b[0m \u001b[1m38s\u001b[0m 454ms/step - accuracy: 0.9936 - loss: 0.3679 - val_accuracy: 0.9457 - val_loss: 0.5525\n",
      "Epoch 59/100\n",
      "\u001b[1m83/83\u001b[0m \u001b[32m━━━━━━━━━━━━━━━━━━━━\u001b[0m\u001b[37m\u001b[0m \u001b[1m38s\u001b[0m 453ms/step - accuracy: 0.9868 - loss: 0.3751 - val_accuracy: 0.4299 - val_loss: 11.0247\n",
      "Epoch 60/100\n",
      "\u001b[1m83/83\u001b[0m \u001b[32m━━━━━━━━━━━━━━━━━━━━\u001b[0m\u001b[37m\u001b[0m \u001b[1m38s\u001b[0m 453ms/step - accuracy: 0.9415 - loss: 0.6238 - val_accuracy: 0.8269 - val_loss: 0.9669\n",
      "Epoch 61/100\n",
      "\u001b[1m83/83\u001b[0m \u001b[32m━━━━━━━━━━━━━━━━━━━━\u001b[0m\u001b[37m\u001b[0m \u001b[1m38s\u001b[0m 453ms/step - accuracy: 0.9874 - loss: 0.4732 - val_accuracy: 0.4525 - val_loss: 5.6788\n",
      "Epoch 62/100\n",
      "\u001b[1m83/83\u001b[0m \u001b[32m━━━━━━━━━━━━━━━━━━━━\u001b[0m\u001b[37m\u001b[0m \u001b[1m38s\u001b[0m 453ms/step - accuracy: 0.9845 - loss: 0.4728 - val_accuracy: 0.8778 - val_loss: 1.0797\n",
      "Epoch 63/100\n",
      "\u001b[1m83/83\u001b[0m \u001b[32m━━━━━━━━━━━━━━━━━━━━\u001b[0m\u001b[37m\u001b[0m \u001b[1m38s\u001b[0m 454ms/step - accuracy: 0.9888 - loss: 0.4305 - val_accuracy: 0.9548 - val_loss: 0.6093\n",
      "Epoch 64/100\n",
      "\u001b[1m83/83\u001b[0m \u001b[32m━━━━━━━━━━━━━━━━━━━━\u001b[0m\u001b[37m\u001b[0m \u001b[1m38s\u001b[0m 456ms/step - accuracy: 0.9912 - loss: 0.3919 - val_accuracy: 0.8281 - val_loss: 1.2362\n",
      "Epoch 65/100\n",
      "\u001b[1m83/83\u001b[0m \u001b[32m━━━━━━━━━━━━━━━━━━━━\u001b[0m\u001b[37m\u001b[0m \u001b[1m38s\u001b[0m 455ms/step - accuracy: 0.9896 - loss: 0.3829 - val_accuracy: 0.9615 - val_loss: 0.4810\n",
      "Epoch 66/100\n",
      "\u001b[1m83/83\u001b[0m \u001b[32m━━━━━━━━━━━━━━━━━━━━\u001b[0m\u001b[37m\u001b[0m \u001b[1m38s\u001b[0m 454ms/step - accuracy: 0.9967 - loss: 0.3268 - val_accuracy: 0.9638 - val_loss: 0.4312\n",
      "Epoch 67/100\n",
      "\u001b[1m83/83\u001b[0m \u001b[32m━━━━━━━━━━━━━━━━━━━━\u001b[0m\u001b[37m\u001b[0m \u001b[1m38s\u001b[0m 454ms/step - accuracy: 0.9910 - loss: 0.3272 - val_accuracy: 0.8326 - val_loss: 1.0068\n",
      "Epoch 68/100\n",
      "\u001b[1m83/83\u001b[0m \u001b[32m━━━━━━━━━━━━━━━━━━━━\u001b[0m\u001b[37m\u001b[0m \u001b[1m38s\u001b[0m 454ms/step - accuracy: 0.9724 - loss: 0.4586 - val_accuracy: 0.5328 - val_loss: 4.4318\n",
      "Epoch 69/100\n",
      "\u001b[1m83/83\u001b[0m \u001b[32m━━━━━━━━━━━━━━━━━━━━\u001b[0m\u001b[37m\u001b[0m \u001b[1m38s\u001b[0m 454ms/step - accuracy: 0.9841 - loss: 0.4070 - val_accuracy: 0.7986 - val_loss: 1.3896\n",
      "Epoch 70/100\n",
      "\u001b[1m83/83\u001b[0m \u001b[32m━━━━━━━━━━━━━━━━━━━━\u001b[0m\u001b[37m\u001b[0m \u001b[1m38s\u001b[0m 454ms/step - accuracy: 0.9863 - loss: 0.3619 - val_accuracy: 0.9525 - val_loss: 0.4813\n",
      "Epoch 71/100\n",
      "\u001b[1m83/83\u001b[0m \u001b[32m━━━━━━━━━━━━━━━━━━━━\u001b[0m\u001b[37m\u001b[0m \u001b[1m38s\u001b[0m 453ms/step - accuracy: 0.9897 - loss: 0.3406 - val_accuracy: 0.9140 - val_loss: 0.6799\n",
      "Epoch 72/100\n",
      "\u001b[1m83/83\u001b[0m \u001b[32m━━━━━━━━━━━━━━━━━━━━\u001b[0m\u001b[37m\u001b[0m \u001b[1m38s\u001b[0m 456ms/step - accuracy: 0.9891 - loss: 0.3347 - val_accuracy: 0.8914 - val_loss: 0.7039\n",
      "Epoch 73/100\n",
      "\u001b[1m83/83\u001b[0m \u001b[32m━━━━━━━━━━━━━━━━━━━━\u001b[0m\u001b[37m\u001b[0m \u001b[1m38s\u001b[0m 455ms/step - accuracy: 0.9920 - loss: 0.3312 - val_accuracy: 0.9197 - val_loss: 0.6075\n",
      "Epoch 74/100\n",
      "\u001b[1m83/83\u001b[0m \u001b[32m━━━━━━━━━━━━━━━━━━━━\u001b[0m\u001b[37m\u001b[0m \u001b[1m38s\u001b[0m 461ms/step - accuracy: 0.9802 - loss: 0.3671 - val_accuracy: 0.8473 - val_loss: 1.0151\n",
      "Epoch 75/100\n",
      "\u001b[1m83/83\u001b[0m \u001b[32m━━━━━━━━━━━━━━━━━━━━\u001b[0m\u001b[37m\u001b[0m \u001b[1m37s\u001b[0m 451ms/step - accuracy: 0.9889 - loss: 0.3499 - val_accuracy: 0.8360 - val_loss: 1.3414\n",
      "Epoch 76/100\n",
      "\u001b[1m83/83\u001b[0m \u001b[32m━━━━━━━━━━━━━━━━━━━━\u001b[0m\u001b[37m\u001b[0m \u001b[1m37s\u001b[0m 451ms/step - accuracy: 0.9941 - loss: 0.3040 - val_accuracy: 0.6686 - val_loss: 2.5623\n",
      "Epoch 77/100\n",
      "\u001b[1m83/83\u001b[0m \u001b[32m━━━━━━━━━━━━━━━━━━━━\u001b[0m\u001b[37m\u001b[0m \u001b[1m37s\u001b[0m 450ms/step - accuracy: 0.9828 - loss: 0.3419 - val_accuracy: 0.4219 - val_loss: 13.4148\n",
      "Epoch 78/100\n",
      "\u001b[1m83/83\u001b[0m \u001b[32m━━━━━━━━━━━━━━━━━━━━\u001b[0m\u001b[37m\u001b[0m \u001b[1m37s\u001b[0m 452ms/step - accuracy: 0.9850 - loss: 0.3465 - val_accuracy: 0.7568 - val_loss: 1.4210\n",
      "Epoch 79/100\n",
      "\u001b[1m83/83\u001b[0m \u001b[32m━━━━━━━━━━━━━━━━━━━━\u001b[0m\u001b[37m\u001b[0m \u001b[1m37s\u001b[0m 451ms/step - accuracy: 0.9912 - loss: 0.3089 - val_accuracy: 0.8292 - val_loss: 1.3125\n",
      "Epoch 80/100\n",
      "\u001b[1m83/83\u001b[0m \u001b[32m━━━━━━━━━━━━━━━━━━━━\u001b[0m\u001b[37m\u001b[0m \u001b[1m38s\u001b[0m 457ms/step - accuracy: 0.9915 - loss: 0.3075 - val_accuracy: 0.7828 - val_loss: 1.4378\n",
      "Epoch 81/100\n",
      "\u001b[1m83/83\u001b[0m \u001b[32m━━━━━━━━━━━━━━━━━━━━\u001b[0m\u001b[37m\u001b[0m \u001b[1m38s\u001b[0m 455ms/step - accuracy: 0.9834 - loss: 0.3342 - val_accuracy: 0.9265 - val_loss: 0.5726\n",
      "Epoch 82/100\n",
      "\u001b[1m83/83\u001b[0m \u001b[32m━━━━━━━━━━━━━━━━━━━━\u001b[0m\u001b[37m\u001b[0m \u001b[1m38s\u001b[0m 454ms/step - accuracy: 0.9938 - loss: 0.2829 - val_accuracy: 0.9287 - val_loss: 0.6623\n",
      "Epoch 83/100\n",
      "\u001b[1m83/83\u001b[0m \u001b[32m━━━━━━━━━━━━━━━━━━━━\u001b[0m\u001b[37m\u001b[0m \u001b[1m38s\u001b[0m 456ms/step - accuracy: 0.9894 - loss: 0.2766 - val_accuracy: 0.6867 - val_loss: 2.7917\n",
      "Epoch 84/100\n",
      "\u001b[1m83/83\u001b[0m \u001b[32m━━━━━━━━━━━━━━━━━━━━\u001b[0m\u001b[37m\u001b[0m \u001b[1m38s\u001b[0m 454ms/step - accuracy: 0.9955 - loss: 0.2678 - val_accuracy: 0.4038 - val_loss: 18.8747\n",
      "Epoch 85/100\n",
      "\u001b[1m83/83\u001b[0m \u001b[32m━━━━━━━━━━━━━━━━━━━━\u001b[0m\u001b[37m\u001b[0m \u001b[1m38s\u001b[0m 454ms/step - accuracy: 0.9703 - loss: 0.4341 - val_accuracy: 0.4186 - val_loss: 6.0418\n",
      "Epoch 86/100\n",
      "\u001b[1m83/83\u001b[0m \u001b[32m━━━━━━━━━━━━━━━━━━━━\u001b[0m\u001b[37m\u001b[0m \u001b[1m38s\u001b[0m 454ms/step - accuracy: 0.9828 - loss: 0.3942 - val_accuracy: 0.6889 - val_loss: 1.9573\n",
      "Epoch 87/100\n",
      "\u001b[1m83/83\u001b[0m \u001b[32m━━━━━━━━━━━━━━━━━━━━\u001b[0m\u001b[37m\u001b[0m \u001b[1m38s\u001b[0m 455ms/step - accuracy: 0.9920 - loss: 0.3217 - val_accuracy: 0.9525 - val_loss: 0.4291\n",
      "Epoch 88/100\n",
      "\u001b[1m83/83\u001b[0m \u001b[32m━━━━━━━━━━━━━━━━━━━━\u001b[0m\u001b[37m\u001b[0m \u001b[1m38s\u001b[0m 455ms/step - accuracy: 0.9948 - loss: 0.2758 - val_accuracy: 0.9072 - val_loss: 0.5639\n",
      "Epoch 89/100\n",
      "\u001b[1m83/83\u001b[0m \u001b[32m━━━━━━━━━━━━━━━━━━━━\u001b[0m\u001b[37m\u001b[0m \u001b[1m38s\u001b[0m 460ms/step - accuracy: 0.9937 - loss: 0.2701 - val_accuracy: 0.9525 - val_loss: 0.4393\n",
      "Epoch 90/100\n",
      "\u001b[1m83/83\u001b[0m \u001b[32m━━━━━━━━━━━━━━━━━━━━\u001b[0m\u001b[37m\u001b[0m \u001b[1m38s\u001b[0m 452ms/step - accuracy: 0.9938 - loss: 0.2657 - val_accuracy: 0.9333 - val_loss: 0.5983\n",
      "Epoch 91/100\n",
      "\u001b[1m83/83\u001b[0m \u001b[32m━━━━━━━━━━━━━━━━━━━━\u001b[0m\u001b[37m\u001b[0m \u001b[1m37s\u001b[0m 451ms/step - accuracy: 0.9829 - loss: 0.3129 - val_accuracy: 0.8269 - val_loss: 1.2723\n",
      "Epoch 92/100\n",
      "\u001b[1m83/83\u001b[0m \u001b[32m━━━━━━━━━━━━━━━━━━━━\u001b[0m\u001b[37m\u001b[0m \u001b[1m37s\u001b[0m 451ms/step - accuracy: 0.9946 - loss: 0.2493 - val_accuracy: 0.9412 - val_loss: 0.4410\n",
      "Epoch 93/100\n",
      "\u001b[1m83/83\u001b[0m \u001b[32m━━━━━━━━━━━━━━━━━━━━\u001b[0m\u001b[37m\u001b[0m \u001b[1m37s\u001b[0m 451ms/step - accuracy: 0.9942 - loss: 0.2379 - val_accuracy: 0.8609 - val_loss: 1.1457\n",
      "Epoch 94/100\n",
      "\u001b[1m83/83\u001b[0m \u001b[32m━━━━━━━━━━━━━━━━━━━━\u001b[0m\u001b[37m\u001b[0m \u001b[1m37s\u001b[0m 451ms/step - accuracy: 0.9841 - loss: 0.2870 - val_accuracy: 0.9219 - val_loss: 0.5776\n",
      "Epoch 95/100\n",
      "\u001b[1m83/83\u001b[0m \u001b[32m━━━━━━━━━━━━━━━━━━━━\u001b[0m\u001b[37m\u001b[0m \u001b[1m38s\u001b[0m 459ms/step - accuracy: 0.9927 - loss: 0.2590 - val_accuracy: 0.9457 - val_loss: 0.4066\n",
      "Epoch 96/100\n",
      "\u001b[1m83/83\u001b[0m \u001b[32m━━━━━━━━━━━━━━━━━━━━\u001b[0m\u001b[37m\u001b[0m \u001b[1m38s\u001b[0m 458ms/step - accuracy: 0.9955 - loss: 0.2269 - val_accuracy: 0.7251 - val_loss: 1.9011\n",
      "Epoch 97/100\n",
      "\u001b[1m83/83\u001b[0m \u001b[32m━━━━━━━━━━━━━━━━━━━━\u001b[0m\u001b[37m\u001b[0m \u001b[1m38s\u001b[0m 455ms/step - accuracy: 0.9608 - loss: 0.4370 - val_accuracy: 0.8371 - val_loss: 1.0826\n",
      "Epoch 98/100\n",
      "\u001b[1m83/83\u001b[0m \u001b[32m━━━━━━━━━━━━━━━━━━━━\u001b[0m\u001b[37m\u001b[0m \u001b[1m38s\u001b[0m 454ms/step - accuracy: 0.9849 - loss: 0.3260 - val_accuracy: 0.7353 - val_loss: 1.5906\n",
      "Epoch 99/100\n",
      "\u001b[1m83/83\u001b[0m \u001b[32m━━━━━━━━━━━━━━━━━━━━\u001b[0m\u001b[37m\u001b[0m \u001b[1m38s\u001b[0m 455ms/step - accuracy: 0.9853 - loss: 0.3087 - val_accuracy: 0.8405 - val_loss: 1.1714\n",
      "Epoch 100/100\n",
      "\u001b[1m83/83\u001b[0m \u001b[32m━━━━━━━━━━━━━━━━━━━━\u001b[0m\u001b[37m\u001b[0m \u001b[1m38s\u001b[0m 453ms/step - accuracy: 0.9864 - loss: 0.2987 - val_accuracy: 0.5362 - val_loss: 3.5852\n"
     ]
    }
   ],
   "source": [
    "training_history = lung_scan_cases_sequential_neural_net.fit( lung_scan_cases_train ,\n",
    "                                                              lung_scan_cases_labels_train ,\n",
    "                                                              validation_data = [lung_scan_cases_validation,lung_scan_cases_labels_validation],\n",
    "                                                              epochs = 100 ,\n",
    "                                                              callbacks = lung_scan_cases_sequential_neural_net_early_stopping,\n",
    "                                                              batch_size = 32 ,\n",
    "                                                              verbose = 1 )"
   ]
  },
  {
   "cell_type": "code",
   "execution_count": 47,
   "id": "cfa04b5a-ca42-4b30-bb90-7d59fe06be6c",
   "metadata": {},
   "outputs": [
    {
     "data": {
      "text/plain": [
       "<Axes: title={'center': 'VAL ACCURACY'}>"
      ]
     },
     "execution_count": 47,
     "metadata": {},
     "output_type": "execute_result"
    },
    {
     "data": {
      "image/png": "[encoded data removed]",
      "text/plain": [
       "<Figure size 1600x800 with 2 Axes>"
      ]
     },
     "metadata": {},
     "output_type": "display_data"
    }
   ],
   "source": [
    "\n",
    "\n",
    "plt.figure(figsize = (16,8))\n",
    "\n",
    "plt.subplot(2,1,1)\n",
    "\n",
    "plt.title('TRAINING ACCURACY')\n",
    "plt.xticks(rotation = 90,fontsize = 7)\n",
    "\n",
    "sns.pointplot(data = training_history.history,\n",
    "              x = training_history.epoch ,\n",
    "              y = training_history.history['accuracy'])\n",
    "\n",
    "\n",
    "\n",
    "plt.subplot(2,1,2)\n",
    "\n",
    "plt.title('VAL ACCURACY')\n",
    "plt.xticks(rotation = 90,fontsize = 7)\n",
    "\n",
    "sns.pointplot(data = training_history.history,\n",
    "              x = training_history.epoch ,\n",
    "              y = training_history.history['val_accuracy'],\n",
    "              color = 'green')\n",
    "\n",
    "\n"
   ]
  },
  {
   "cell_type": "markdown",
   "id": "af37de69-2cab-4a73-a275-7a8a64a59935",
   "metadata": {},
   "source": [
    "Training accuracy looks more stable than validation one , which is common case , let's evaluate model to measure it's performance on hold-out set."
   ]
  },
  {
   "cell_type": "markdown",
   "id": "9fa45d82-2312-4559-b78d-d80843e5dc90",
   "metadata": {},
   "source": [
    "#### EVALUATE"
   ]
  },
  {
   "cell_type": "code",
   "execution_count": 48,
   "id": "a0d3e597-2513-4c36-9b6d-7e86177e51f6",
   "metadata": {},
   "outputs": [
    {
     "name": "stdout",
     "output_type": "stream",
     "text": [
      "\u001b[1m20/20\u001b[0m \u001b[32m━━━━━━━━━━━━━━━━━━━━\u001b[0m\u001b[37m\u001b[0m \u001b[1m1s\u001b[0m 71ms/step - accuracy: 0.9587 - loss: 0.3781\n"
     ]
    },
    {
     "data": {
      "text/plain": [
       "[0.36403536796569824, 0.9615384340286255]"
      ]
     },
     "execution_count": 48,
     "metadata": {},
     "output_type": "execute_result"
    }
   ],
   "source": [
    "lung_scan_cases_sequential_neural_net.evaluate( lung_scan_cases_test , lung_scan_cases_labels_test  )"
   ]
  },
  {
   "cell_type": "code",
   "execution_count": 49,
   "id": "a185f092-43e1-4f85-a37c-852a35a8ef96",
   "metadata": {},
   "outputs": [
    {
     "name": "stdout",
     "output_type": "stream",
     "text": [
      "\u001b[1m20/20\u001b[0m \u001b[32m━━━━━━━━━━━━━━━━━━━━\u001b[0m\u001b[37m\u001b[0m \u001b[1m2s\u001b[0m 75ms/step\n"
     ]
    }
   ],
   "source": [
    "lung_scan_cases_sequential_neural_net_predictions = np.argmax(lung_scan_cases_sequential_neural_net.predict(lung_scan_cases_test),axis = 1)"
   ]
  },
  {
   "cell_type": "code",
   "execution_count": 50,
   "id": "fc3d688a-54cd-401a-a0b6-6592376e2ab1",
   "metadata": {},
   "outputs": [
    {
     "name": "stdout",
     "output_type": "stream",
     "text": [
      "              precision    recall  f1-score   support\n",
      "\n",
      "           0       0.97      0.93      0.95       203\n",
      "           1       0.96      0.95      0.95       180\n",
      "           2       0.96      1.00      0.98       241\n",
      "\n",
      "    accuracy                           0.96       624\n",
      "   macro avg       0.96      0.96      0.96       624\n",
      "weighted avg       0.96      0.96      0.96       624\n",
      "\n"
     ]
    }
   ],
   "source": [
    "lung_scan_cases_sequential_neural_net_predictions_report = metrics.classification_report( lung_scan_cases_labels_test ,\n",
    "                                                                                          lung_scan_cases_sequential_neural_net_predictions)\n",
    "\n",
    "print(lung_scan_cases_sequential_neural_net_predictions_report)\n"
   ]
  },
  {
   "cell_type": "markdown",
   "id": "9978e475-0e9b-4808-b5b2-f06730165a18",
   "metadata": {},
   "source": [
    "Based on this classification report , i can say that model : has highest f1 score for class 2 , average f1 scores and accuracy are equal. \n",
    "\n",
    "If we remember , 2 class represent Malignant tumor which is cancerous comparing with Benign which is represented as class 1 here. As i difened earlier , in our and similar cases , false negatives must be reduced as much as possible because of well known reasons , and custom loss function helped us with that."
   ]
  },
  {
   "cell_type": "markdown",
   "id": "7855f70c-7d2d-4054-b57a-bb7853d3c47e",
   "metadata": {
    "jp-MarkdownHeadingCollapsed": true
   },
   "source": [
    "#### SAVE"
   ]
  },
  {
   "cell_type": "code",
   "execution_count": 51,
   "id": "c204fa95-7571-44c2-ad78-8eba968a8bae",
   "metadata": {},
   "outputs": [],
   "source": [
    "# model will be saved in both , joblib and keras formats \n",
    "\n",
    "from joblib import dump\n",
    "\n",
    "dump(lung_scan_cases_sequential_neural_net,\"lung_scan_cases_sequential_neural_net.joblib\")\n",
    "\n",
    "lung_scan_cases_sequential_neural_net.save(\"lung_scan_cases_sequential_neural_net.keras\")"
   ]
  }
 ],
 "metadata": {
  "kernelspec": {
   "display_name": "Python 3 (ipykernel)",
   "language": "python",
   "name": "python3"
  },
  "language_info": {
   "codemirror_mode": {
    "name": "ipython",
    "version": 3
   },
   "file_extension": ".py",
   "mimetype": "text/x-python",
   "name": "python",
   "nbconvert_exporter": "python",
   "pygments_lexer": "ipython3",
   "version": "3.12.7"
  }
 },
 "nbformat": 4,
 "nbformat_minor": 5
}
